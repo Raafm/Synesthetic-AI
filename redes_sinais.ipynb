{
  "nbformat": 4,
  "nbformat_minor": 0,
  "metadata": {
    "colab": {
      "provenance": [],
      "collapsed_sections": [
        "IfokVooGdWKI",
        "rO_m5GQlbIUm",
        "hjrpJWWtbIUv"
      ]
    },
    "kernelspec": {
      "name": "python3",
      "display_name": "Python 3"
    },
    "language_info": {
      "name": "python"
    },
    "widgets": {
      "application/vnd.jupyter.widget-state+json": {
        "457c98811f824dde8fec7325cd71c927": {
          "model_module": "@jupyter-widgets/controls",
          "model_name": "HBoxModel",
          "model_module_version": "1.5.0",
          "state": {
            "_dom_classes": [],
            "_model_module": "@jupyter-widgets/controls",
            "_model_module_version": "1.5.0",
            "_model_name": "HBoxModel",
            "_view_count": null,
            "_view_module": "@jupyter-widgets/controls",
            "_view_module_version": "1.5.0",
            "_view_name": "HBoxView",
            "box_style": "",
            "children": [
              "IPY_MODEL_fde88eb5f5f2452c8ba4f255647fe0a6",
              "IPY_MODEL_a32343bccce84e40875a0bde604b54e9",
              "IPY_MODEL_889b62b86f374dbcb94738bd8f5e6505"
            ],
            "layout": "IPY_MODEL_44d8bbca87ec456d9ae57cccde5df306"
          }
        },
        "fde88eb5f5f2452c8ba4f255647fe0a6": {
          "model_module": "@jupyter-widgets/controls",
          "model_name": "HTMLModel",
          "model_module_version": "1.5.0",
          "state": {
            "_dom_classes": [],
            "_model_module": "@jupyter-widgets/controls",
            "_model_module_version": "1.5.0",
            "_model_name": "HTMLModel",
            "_view_count": null,
            "_view_module": "@jupyter-widgets/controls",
            "_view_module_version": "1.5.0",
            "_view_name": "HTMLView",
            "description": "",
            "description_tooltip": null,
            "layout": "IPY_MODEL_4c59bab37b6b45989c27405d9dbd1975",
            "placeholder": "​",
            "style": "IPY_MODEL_126281da4a1840b0b0bb03a1175a9543",
            "value": "100%"
          }
        },
        "a32343bccce84e40875a0bde604b54e9": {
          "model_module": "@jupyter-widgets/controls",
          "model_name": "FloatProgressModel",
          "model_module_version": "1.5.0",
          "state": {
            "_dom_classes": [],
            "_model_module": "@jupyter-widgets/controls",
            "_model_module_version": "1.5.0",
            "_model_name": "FloatProgressModel",
            "_view_count": null,
            "_view_module": "@jupyter-widgets/controls",
            "_view_module_version": "1.5.0",
            "_view_name": "ProgressView",
            "bar_style": "success",
            "description": "",
            "description_tooltip": null,
            "layout": "IPY_MODEL_a21ef28346d54044be2871e59898dc61",
            "max": 531460341,
            "min": 0,
            "orientation": "horizontal",
            "style": "IPY_MODEL_6967ee6d1d06405685e400996ee69f3a",
            "value": 531460341
          }
        },
        "889b62b86f374dbcb94738bd8f5e6505": {
          "model_module": "@jupyter-widgets/controls",
          "model_name": "HTMLModel",
          "model_module_version": "1.5.0",
          "state": {
            "_dom_classes": [],
            "_model_module": "@jupyter-widgets/controls",
            "_model_module_version": "1.5.0",
            "_model_name": "HTMLModel",
            "_view_count": null,
            "_view_module": "@jupyter-widgets/controls",
            "_view_module_version": "1.5.0",
            "_view_name": "HTMLView",
            "description": "",
            "description_tooltip": null,
            "layout": "IPY_MODEL_e1d81f91b93a467c9a20958e27b6410a",
            "placeholder": "​",
            "style": "IPY_MODEL_194e6914d5cc45dfa2cb886a73bbb1a5",
            "value": " 507M/507M [00:07&lt;00:00, 103MB/s]"
          }
        },
        "44d8bbca87ec456d9ae57cccde5df306": {
          "model_module": "@jupyter-widgets/base",
          "model_name": "LayoutModel",
          "model_module_version": "1.2.0",
          "state": {
            "_model_module": "@jupyter-widgets/base",
            "_model_module_version": "1.2.0",
            "_model_name": "LayoutModel",
            "_view_count": null,
            "_view_module": "@jupyter-widgets/base",
            "_view_module_version": "1.2.0",
            "_view_name": "LayoutView",
            "align_content": null,
            "align_items": null,
            "align_self": null,
            "border": null,
            "bottom": null,
            "display": null,
            "flex": null,
            "flex_flow": null,
            "grid_area": null,
            "grid_auto_columns": null,
            "grid_auto_flow": null,
            "grid_auto_rows": null,
            "grid_column": null,
            "grid_gap": null,
            "grid_row": null,
            "grid_template_areas": null,
            "grid_template_columns": null,
            "grid_template_rows": null,
            "height": null,
            "justify_content": null,
            "justify_items": null,
            "left": null,
            "margin": null,
            "max_height": null,
            "max_width": null,
            "min_height": null,
            "min_width": null,
            "object_fit": null,
            "object_position": null,
            "order": null,
            "overflow": null,
            "overflow_x": null,
            "overflow_y": null,
            "padding": null,
            "right": null,
            "top": null,
            "visibility": null,
            "width": null
          }
        },
        "4c59bab37b6b45989c27405d9dbd1975": {
          "model_module": "@jupyter-widgets/base",
          "model_name": "LayoutModel",
          "model_module_version": "1.2.0",
          "state": {
            "_model_module": "@jupyter-widgets/base",
            "_model_module_version": "1.2.0",
            "_model_name": "LayoutModel",
            "_view_count": null,
            "_view_module": "@jupyter-widgets/base",
            "_view_module_version": "1.2.0",
            "_view_name": "LayoutView",
            "align_content": null,
            "align_items": null,
            "align_self": null,
            "border": null,
            "bottom": null,
            "display": null,
            "flex": null,
            "flex_flow": null,
            "grid_area": null,
            "grid_auto_columns": null,
            "grid_auto_flow": null,
            "grid_auto_rows": null,
            "grid_column": null,
            "grid_gap": null,
            "grid_row": null,
            "grid_template_areas": null,
            "grid_template_columns": null,
            "grid_template_rows": null,
            "height": null,
            "justify_content": null,
            "justify_items": null,
            "left": null,
            "margin": null,
            "max_height": null,
            "max_width": null,
            "min_height": null,
            "min_width": null,
            "object_fit": null,
            "object_position": null,
            "order": null,
            "overflow": null,
            "overflow_x": null,
            "overflow_y": null,
            "padding": null,
            "right": null,
            "top": null,
            "visibility": null,
            "width": null
          }
        },
        "126281da4a1840b0b0bb03a1175a9543": {
          "model_module": "@jupyter-widgets/controls",
          "model_name": "DescriptionStyleModel",
          "model_module_version": "1.5.0",
          "state": {
            "_model_module": "@jupyter-widgets/controls",
            "_model_module_version": "1.5.0",
            "_model_name": "DescriptionStyleModel",
            "_view_count": null,
            "_view_module": "@jupyter-widgets/base",
            "_view_module_version": "1.2.0",
            "_view_name": "StyleView",
            "description_width": ""
          }
        },
        "a21ef28346d54044be2871e59898dc61": {
          "model_module": "@jupyter-widgets/base",
          "model_name": "LayoutModel",
          "model_module_version": "1.2.0",
          "state": {
            "_model_module": "@jupyter-widgets/base",
            "_model_module_version": "1.2.0",
            "_model_name": "LayoutModel",
            "_view_count": null,
            "_view_module": "@jupyter-widgets/base",
            "_view_module_version": "1.2.0",
            "_view_name": "LayoutView",
            "align_content": null,
            "align_items": null,
            "align_self": null,
            "border": null,
            "bottom": null,
            "display": null,
            "flex": null,
            "flex_flow": null,
            "grid_area": null,
            "grid_auto_columns": null,
            "grid_auto_flow": null,
            "grid_auto_rows": null,
            "grid_column": null,
            "grid_gap": null,
            "grid_row": null,
            "grid_template_areas": null,
            "grid_template_columns": null,
            "grid_template_rows": null,
            "height": null,
            "justify_content": null,
            "justify_items": null,
            "left": null,
            "margin": null,
            "max_height": null,
            "max_width": null,
            "min_height": null,
            "min_width": null,
            "object_fit": null,
            "object_position": null,
            "order": null,
            "overflow": null,
            "overflow_x": null,
            "overflow_y": null,
            "padding": null,
            "right": null,
            "top": null,
            "visibility": null,
            "width": null
          }
        },
        "6967ee6d1d06405685e400996ee69f3a": {
          "model_module": "@jupyter-widgets/controls",
          "model_name": "ProgressStyleModel",
          "model_module_version": "1.5.0",
          "state": {
            "_model_module": "@jupyter-widgets/controls",
            "_model_module_version": "1.5.0",
            "_model_name": "ProgressStyleModel",
            "_view_count": null,
            "_view_module": "@jupyter-widgets/base",
            "_view_module_version": "1.2.0",
            "_view_name": "StyleView",
            "bar_color": null,
            "description_width": ""
          }
        },
        "e1d81f91b93a467c9a20958e27b6410a": {
          "model_module": "@jupyter-widgets/base",
          "model_name": "LayoutModel",
          "model_module_version": "1.2.0",
          "state": {
            "_model_module": "@jupyter-widgets/base",
            "_model_module_version": "1.2.0",
            "_model_name": "LayoutModel",
            "_view_count": null,
            "_view_module": "@jupyter-widgets/base",
            "_view_module_version": "1.2.0",
            "_view_name": "LayoutView",
            "align_content": null,
            "align_items": null,
            "align_self": null,
            "border": null,
            "bottom": null,
            "display": null,
            "flex": null,
            "flex_flow": null,
            "grid_area": null,
            "grid_auto_columns": null,
            "grid_auto_flow": null,
            "grid_auto_rows": null,
            "grid_column": null,
            "grid_gap": null,
            "grid_row": null,
            "grid_template_areas": null,
            "grid_template_columns": null,
            "grid_template_rows": null,
            "height": null,
            "justify_content": null,
            "justify_items": null,
            "left": null,
            "margin": null,
            "max_height": null,
            "max_width": null,
            "min_height": null,
            "min_width": null,
            "object_fit": null,
            "object_position": null,
            "order": null,
            "overflow": null,
            "overflow_x": null,
            "overflow_y": null,
            "padding": null,
            "right": null,
            "top": null,
            "visibility": null,
            "width": null
          }
        },
        "194e6914d5cc45dfa2cb886a73bbb1a5": {
          "model_module": "@jupyter-widgets/controls",
          "model_name": "DescriptionStyleModel",
          "model_module_version": "1.5.0",
          "state": {
            "_model_module": "@jupyter-widgets/controls",
            "_model_module_version": "1.5.0",
            "_model_name": "DescriptionStyleModel",
            "_view_count": null,
            "_view_module": "@jupyter-widgets/base",
            "_view_module_version": "1.2.0",
            "_view_name": "StyleView",
            "description_width": ""
          }
        }
      }
    },
    "gpuClass": "standard"
  },
  "cells": [
    {
      "cell_type": "markdown",
      "source": [
        "# imports e downloads"
      ],
      "metadata": {
        "id": "raIa_Hd7V9s8"
      }
    },
    {
      "cell_type": "code",
      "execution_count": null,
      "metadata": {
        "id": "irk5HqEy2Op-"
      },
      "outputs": [],
      "source": [
        "import pandas as pd\n",
        "import numpy as np\n",
        "\n",
        "import torch\n",
        "from torch import nn\n",
        "from torch.utils.data import Dataset,DataLoader\n",
        "\n",
        "import matplotlib.pyplot as plt\n",
        "import librosa\n",
        "import librosa.display\n",
        "\n",
        "from sklearn.model_selection import train_test_split"
      ]
    },
    {
      "cell_type": "code",
      "source": [
        "X = np.load(\"/content/drive/MyDrive/synestheticAI/mel_spec_dataset/train_images.npy\")\n",
        "y = np.load(\"/content/drive/MyDrive/synestheticAI/mel_spec_dataset/train_labels.npy\")"
      ],
      "metadata": {
        "id": "jS9sKIppCYky"
      },
      "execution_count": null,
      "outputs": []
    },
    {
      "cell_type": "code",
      "source": [
        "X.shape,y.shape"
      ],
      "metadata": {
        "colab": {
          "base_uri": "https://localhost:8080/"
        },
        "id": "HCNDPFe1l4mH",
        "outputId": "0c062c5a-6b92-4801-a653-e3c4130f9a21"
      },
      "execution_count": null,
      "outputs": [
        {
          "output_type": "execute_result",
          "data": {
            "text/plain": [
              "((616, 257, 257), (616,))"
            ]
          },
          "metadata": {},
          "execution_count": 7
        }
      ]
    },
    {
      "cell_type": "code",
      "source": [
        "from google.colab import drive\n",
        "drive.mount('/content/drive')"
      ],
      "metadata": {
        "colab": {
          "base_uri": "https://localhost:8080/"
        },
        "id": "Tf8jH31AYtYp",
        "outputId": "3ac7747a-30be-4df5-f220-206f5dbad79c"
      },
      "execution_count": null,
      "outputs": [
        {
          "output_type": "stream",
          "name": "stdout",
          "text": [
            "Mounted at /content/drive\n"
          ]
        }
      ]
    },
    {
      "cell_type": "code",
      "source": [
        "plt.figure(figsize = (15,7))\n",
        "librosa.display.specshow(X[34],  x_axis='time', y_axis='log');\n",
        "plt.colorbar(format='%+2.0f dB');\n",
        "plt.title('Spectrogram');"
      ],
      "metadata": {
        "colab": {
          "base_uri": "https://localhost:8080/",
          "height": 458
        },
        "id": "oPMgmqRDEf9n",
        "outputId": "50814f2f-e5a9-4173-e904-e84e08f1ebaa"
      },
      "execution_count": null,
      "outputs": [
        {
          "output_type": "display_data",
          "data": {
            "text/plain": [
              "<Figure size 1080x504 with 2 Axes>"
            ],
            "image/png": "[encoded data removed]"
          },
          "metadata": {
            "needs_background": "light"
          }
        }
      ]
    },
    {
      "cell_type": "code",
      "source": [
        "X.max(),X.min()"
      ],
      "metadata": {
        "colab": {
          "base_uri": "https://localhost:8080/"
        },
        "id": "aQhKy-APCQf7",
        "outputId": "f371b0a3-5d9a-46cc-f04b-ab2792f511a9"
      },
      "execution_count": null,
      "outputs": [
        {
          "output_type": "execute_result",
          "data": {
            "text/plain": [
              "(3.8146973e-06, -80.0)"
            ]
          },
          "metadata": {},
          "execution_count": 9
        }
      ]
    },
    {
      "cell_type": "markdown",
      "source": [
        "## dataset com pausas"
      ],
      "metadata": {
        "id": "FXK7W0PSqCpH"
      }
    },
    {
      "cell_type": "code",
      "source": [
        "X = np.load(\"/content/drive/MyDrive/synestheticAI/pause_breath_set/train_images.npy\")\n",
        "y = np.load(\"/content/drive/MyDrive/synestheticAI/pause_breath_set/train_labels.npy\")"
      ],
      "metadata": {
        "id": "SRmeuAaoqF_U"
      },
      "execution_count": null,
      "outputs": []
    },
    {
      "cell_type": "code",
      "source": [
        "X.shape"
      ],
      "metadata": {
        "colab": {
          "base_uri": "https://localhost:8080/"
        },
        "id": "yjtexmnwqlRG",
        "outputId": "1b5d3dd2-d6aa-4ff6-8b47-bbefd3d29d9f"
      },
      "execution_count": null,
      "outputs": [
        {
          "output_type": "execute_result",
          "data": {
            "text/plain": [
              "(3644, 257, 376)"
            ]
          },
          "metadata": {},
          "execution_count": 11
        }
      ]
    },
    {
      "cell_type": "code",
      "source": [
        "X = X[:,:,:257]\n",
        "X.shape"
      ],
      "metadata": {
        "colab": {
          "base_uri": "https://localhost:8080/"
        },
        "id": "7iVTAr3kqnR7",
        "outputId": "7e21ebaa-07ad-4dff-ab77-ed71649c9f40"
      },
      "execution_count": null,
      "outputs": [
        {
          "output_type": "execute_result",
          "data": {
            "text/plain": [
              "(3644, 257, 257)"
            ]
          },
          "metadata": {},
          "execution_count": 12
        }
      ]
    },
    {
      "cell_type": "markdown",
      "source": [
        "# models"
      ],
      "metadata": {
        "id": "u82vqOAWWBba"
      }
    },
    {
      "cell_type": "markdown",
      "source": [
        "## small"
      ],
      "metadata": {
        "id": "9oECCPtPbIWz"
      }
    },
    {
      "cell_type": "code",
      "source": [
        "class SmallNet(nn.Module):\n",
        "    def __init__(self,output_size = 10):\n",
        "        super(SmallNet,self).__init__()  \n",
        "\n",
        "         # 257,257\n",
        "        self.C1 = nn.Conv2d(1, 8, 5, stride=2, padding=1)  \n",
        "        self.pool1 = torch.nn.MaxPool2d(5,stride = 3)      \n",
        "\n",
        "        self.C2 = nn.Conv2d(8,16, 5, stride = 3)                 \n",
        "        self.pool2 = torch.nn.MaxPool2d(3,stride = 2)          \n",
        "        \n",
        "        self.C3 = nn.Conv2d(16,8, 3,stride = 2)                    \n",
        "\n",
        "        # 64\n",
        "\n",
        "        self.L1 = nn.Linear(32,32)\n",
        "        self.L2 = nn.Linear(32,16)\n",
        "        self.L3 = nn.Linear(16,output_size)\n",
        "\n",
        "        self.softmax = nn.Softmax()\n",
        "    \n",
        "    def forward(self,x):\n",
        "        # convolutional\n",
        "        \n",
        "        x = self.C1(x)\n",
        "        x = self.pool1(x)\n",
        "        x = nn.ReLU(True)(x)\n",
        "        \n",
        "        x = self.C2(x)\n",
        "        x = self.pool2(x)\n",
        "        x = nn.ReLU(True)(x)\n",
        "        \n",
        "        x = self.C3(x)\n",
        "\n",
        "        x = nn.Flatten()(x)\n",
        "\n",
        "        # linear\n",
        "        x = nn.ReLU(True)(self.L1(x))\n",
        "        x = nn.ReLU(True)(self.L2(x))\n",
        "        x = self.L3(x)\n",
        "        \n",
        "        # net output\n",
        "        return self.softmax(x)"
      ],
      "metadata": {
        "id": "XlAHpaIz5OZA"
      },
      "execution_count": null,
      "outputs": []
    },
    {
      "cell_type": "code",
      "source": [
        "num_classes = 2"
      ],
      "metadata": {
        "id": "OI7ocogqa8TK"
      },
      "execution_count": null,
      "outputs": []
    },
    {
      "cell_type": "code",
      "source": [
        "model = SmallNet(num_classes)\n",
        "\n",
        "x_ex = torch.tensor(X[0].reshape(1,257,257))\n",
        "print(x_ex.shape)\n",
        "x_ex = model.C1(x_ex);print(x_ex.shape)\n",
        "x_ex = model.pool1(x_ex);print(x_ex.shape)\n",
        "x_ex = model.C2(x_ex);print(x_ex.shape)\n",
        "x_ex = model.pool2(x_ex);print(x_ex.shape)\n",
        "x_ex = model.C3(x_ex);print(x_ex.shape)\n",
        "print(torch.flatten(x_ex).shape)"
      ],
      "metadata": {
        "id": "Vv_pnsVhRnRL",
        "colab": {
          "base_uri": "https://localhost:8080/"
        },
        "outputId": "95e09f00-d5d7-44fe-b09e-bc10bfc2e40b"
      },
      "execution_count": null,
      "outputs": [
        {
          "output_type": "stream",
          "name": "stdout",
          "text": [
            "torch.Size([1, 257, 257])\n",
            "torch.Size([8, 128, 128])\n",
            "torch.Size([8, 42, 42])\n",
            "torch.Size([16, 13, 13])\n",
            "torch.Size([16, 6, 6])\n",
            "torch.Size([8, 2, 2])\n",
            "torch.Size([32])\n"
          ]
        }
      ]
    },
    {
      "cell_type": "code",
      "source": [
        "SmallNet()"
      ],
      "metadata": {
        "id": "W5RIHdY9BH8g",
        "colab": {
          "base_uri": "https://localhost:8080/"
        },
        "outputId": "dac95a3b-35f1-4085-9900-7d65460d4e87"
      },
      "execution_count": null,
      "outputs": [
        {
          "output_type": "execute_result",
          "data": {
            "text/plain": [
              "SmallNet(\n",
              "  (C1): Conv2d(1, 8, kernel_size=(5, 5), stride=(2, 2), padding=(1, 1))\n",
              "  (pool1): MaxPool2d(kernel_size=5, stride=3, padding=0, dilation=1, ceil_mode=False)\n",
              "  (C2): Conv2d(8, 16, kernel_size=(5, 5), stride=(3, 3))\n",
              "  (pool2): MaxPool2d(kernel_size=3, stride=2, padding=0, dilation=1, ceil_mode=False)\n",
              "  (C3): Conv2d(16, 8, kernel_size=(3, 3), stride=(2, 2))\n",
              "  (L1): Linear(in_features=32, out_features=32, bias=True)\n",
              "  (L2): Linear(in_features=32, out_features=16, bias=True)\n",
              "  (L3): Linear(in_features=16, out_features=10, bias=True)\n",
              "  (softmax): Softmax(dim=None)\n",
              ")"
            ]
          },
          "metadata": {},
          "execution_count": 7
        }
      ]
    },
    {
      "cell_type": "markdown",
      "source": [
        "## Medium net"
      ],
      "metadata": {
        "id": "xfAxgHnt28_p"
      }
    },
    {
      "cell_type": "code",
      "source": [
        "num_classes=  5"
      ],
      "metadata": {
        "id": "GNaHjda43K66"
      },
      "execution_count": null,
      "outputs": []
    },
    {
      "cell_type": "code",
      "source": [
        "class MediumNet(nn.Module):\n",
        "    def __init__(self,output_size = 10):\n",
        "        super(MediumNet,self).__init__()  \n",
        "\n",
        "         # 257,257\n",
        "        self.C1 = nn.Conv2d(1, 8, 5, stride=1, padding=1)  \n",
        "        self.pool1 = torch.nn.MaxPool2d(5,stride = 2)      \n",
        "\n",
        "        self.C2 = nn.Conv2d(8,16, 5, stride = 3)                 \n",
        "        self.pool2 = torch.nn.MaxPool2d(3,stride = 2)          \n",
        "        \n",
        "        self.C3 = nn.Conv2d(16,32, 3)\n",
        "        self.pool3 = nn.MaxPool2d(2,stride = 2)        \n",
        "\n",
        "        self.C4 = nn.Conv2d(32,32, 3)\n",
        "        \n",
        "\n",
        "        \n",
        "        self.L1 = nn.Linear(1568,256)\n",
        "        self.L2 = nn.Linear(256,64)\n",
        "        self.L3 = nn.Linear(64,32)\n",
        "        self.L4 = nn.Linear(32,16)\n",
        "        self.L5 = nn.Linear(16,output_size)\n",
        "\n",
        "        self.softmax = nn.Softmax()\n",
        "    \n",
        "    def forward(self,x):\n",
        "        # convolutional\n",
        "        \n",
        "        x = self.C1(x)\n",
        "        x = self.pool1(x)\n",
        "        x = nn.ReLU(True)(x)\n",
        "        \n",
        "        x = self.C2(x)\n",
        "        x = self.pool2(x)\n",
        "        x = nn.ReLU(True)(x)\n",
        "        \n",
        "        x = self.C3(x)\n",
        "        x = self.pool3(x)\n",
        "        x = nn.ReLU(True)(x)\n",
        "\n",
        "        x = self.C4(x)\n",
        "\n",
        "        x = nn.Flatten()(x)\n",
        "\n",
        "        # linear\n",
        "        x = nn.ReLU(True)(self.L1(x))\n",
        "        x = nn.ReLU(True)(self.L2(x))\n",
        "        x = nn.ReLU(True)(self.L3(x))\n",
        "        x = nn.ReLU(True)(self.L4(x))\n",
        "        \n",
        "        x = self.L5(x)\n",
        "        \n",
        "        # net output\n",
        "        return self.softmax(x)"
      ],
      "metadata": {
        "id": "l6w5fsk0NI0r"
      },
      "execution_count": null,
      "outputs": []
    },
    {
      "cell_type": "code",
      "source": [
        "\n",
        "model = MediumNet(num_classes)\n",
        "\n",
        "x_ex = torch.tensor(X[0].reshape(1,257,257))\n",
        "print(x_ex.shape)\n",
        "x_ex = model.C1(x_ex);print(x_ex.shape)\n",
        "x_ex = model.pool1(x_ex);print(x_ex.shape)\n",
        "x_ex = model.C2(x_ex);print(x_ex.shape)\n",
        "x_ex = model.pool2(x_ex);print(x_ex.shape)\n",
        "x_ex = model.C3(x_ex);print(x_ex.shape)\n",
        "x_ex = model.pool3(x_ex);print(x_ex.shape)\n",
        "x_ex = model.C4(x_ex);print(x_ex.shape)\n",
        "#x_ex = model.pool4(x_ex);print(x_ex.shape)\n",
        "print(torch.flatten(x_ex).shape)"
      ],
      "metadata": {
        "colab": {
          "base_uri": "https://localhost:8080/"
        },
        "id": "oJfnLoaANs6P",
        "outputId": "cf4af831-e061-4dd6-faac-66e2fd9499ac"
      },
      "execution_count": null,
      "outputs": [
        {
          "output_type": "stream",
          "name": "stdout",
          "text": [
            "torch.Size([1, 257, 257])\n",
            "torch.Size([8, 255, 255])\n",
            "torch.Size([8, 126, 126])\n",
            "torch.Size([16, 41, 41])\n",
            "torch.Size([16, 20, 20])\n",
            "torch.Size([32, 18, 18])\n",
            "torch.Size([32, 9, 9])\n",
            "torch.Size([32, 7, 7])\n",
            "torch.Size([1568])\n"
          ]
        }
      ]
    },
    {
      "cell_type": "markdown",
      "source": [
        "## Big Net"
      ],
      "metadata": {
        "id": "y_MBCu7nmQIg"
      }
    },
    {
      "cell_type": "code",
      "source": [
        "num_classes=  5"
      ],
      "metadata": {
        "id": "MJEOBwESmVqS"
      },
      "execution_count": null,
      "outputs": []
    },
    {
      "cell_type": "code",
      "source": [
        "class BigNet(nn.Module):\n",
        "    def __init__(self,output_size = 10):\n",
        "        super(BigNet,self).__init__()\n",
        "        self.C1 = nn.Conv2d(1, 4, 5, stride=1, padding=1)  \n",
        "        self.pool1 = torch.nn.MaxPool2d(5,stride = 2)      \n",
        "\n",
        "        self.C2 = nn.Conv2d(4,8, 5, stride = 1)                 \n",
        "        self.pool2 = torch.nn.MaxPool2d(5,stride = 2)          \n",
        "        \n",
        "        self.C3 = nn.Conv2d(8,16, 3)\n",
        "        self.pool3 = nn.MaxPool2d(3,padding = 1)        \n",
        "\n",
        "        self.C4 = nn.Conv2d(16,32, 3)\n",
        "        self.pool4 = nn.MaxPool2d(3,padding = 1)\n",
        "\n",
        "        self.C5 = nn.Conv2d(32,32,3)\n",
        "\n",
        "\n",
        "        self.L1 = nn.Linear(512,256)\n",
        "        self.L2 = nn.Linear(256,128)\n",
        "        self.L3 = nn.Linear(128,64)\n",
        "        self.L4 = nn.Linear(64,32)\n",
        "        self.L5 = nn.Linear(32,16)\n",
        "        self.L6 = nn.Linear(16,output_size)\n",
        "\n",
        "        self.softmax = nn.Softmax()\n",
        "\n",
        "    def forward(self,x):\n",
        "        # convolutional\n",
        "        \n",
        "        x = self.C1(x)\n",
        "        x = self.pool1(x)\n",
        "        x = nn.ReLU(True)(x)\n",
        "        \n",
        "        x = self.C2(x)\n",
        "        x = self.pool2(x)\n",
        "        x = nn.ReLU(True)(x)\n",
        "        \n",
        "        x = self.C3(x)\n",
        "        x = self.pool3(x)\n",
        "        x = nn.ReLU(True)(x)\n",
        "\n",
        "        x = self.C4(x)\n",
        "        x = self.pool4(x)\n",
        "\n",
        "        x = self.C5(x)\n",
        "\n",
        "\n",
        "        x = nn.Flatten()(x)\n",
        "\n",
        "        # linear\n",
        "        x = nn.ReLU(True)(self.L1(x))\n",
        "        x = nn.ReLU(True)(self.L2(x))\n",
        "        x = nn.ReLU(True)(self.L3(x))\n",
        "        x = nn.ReLU(True)(self.L4(x))\n",
        "        x = nn.ReLU(True)(self.L5(x))\n",
        "\n",
        "        x = self.L6(x)\n",
        "        \n",
        "        # net output\n",
        "        return self.softmax(x)"
      ],
      "metadata": {
        "id": "XjlJYKV1kxgk"
      },
      "execution_count": null,
      "outputs": []
    },
    {
      "cell_type": "code",
      "source": [
        "\n",
        "model = BigNet(num_classes)\n",
        "\n",
        "x_ex = torch.tensor(X[0].reshape(1,257,257))\n",
        "print(x_ex.shape)\n",
        "x_ex = model.C1(x_ex);print(x_ex.shape)\n",
        "x_ex = model.pool1(x_ex);print(x_ex.shape)\n",
        "x_ex = model.C2(x_ex);print(x_ex.shape)\n",
        "x_ex = model.pool2(x_ex);print(x_ex.shape)\n",
        "x_ex = model.C3(x_ex);print(x_ex.shape)\n",
        "x_ex = model.pool3(x_ex);print(x_ex.shape)\n",
        "x_ex = model.C4(x_ex);print(x_ex.shape)\n",
        "x_ex = model.pool4(x_ex);print(x_ex.shape)\n",
        "x_ex = model.C5(x_ex);print(x_ex.shape)\n",
        "\n",
        "print(torch.flatten(x_ex).shape)"
      ],
      "metadata": {
        "colab": {
          "base_uri": "https://localhost:8080/"
        },
        "id": "59nmG6rylNcz",
        "outputId": "702119c4-fb4e-4bc8-ff62-bc4ed92eb8b7"
      },
      "execution_count": null,
      "outputs": [
        {
          "output_type": "stream",
          "name": "stdout",
          "text": [
            "torch.Size([1, 257, 257])\n",
            "torch.Size([4, 255, 255])\n",
            "torch.Size([4, 126, 126])\n",
            "torch.Size([8, 122, 122])\n",
            "torch.Size([8, 59, 59])\n",
            "torch.Size([16, 57, 57])\n",
            "torch.Size([16, 19, 19])\n",
            "torch.Size([32, 17, 17])\n",
            "torch.Size([32, 6, 6])\n",
            "torch.Size([32, 4, 4])\n",
            "torch.Size([512])\n"
          ]
        }
      ]
    },
    {
      "cell_type": "code",
      "source": [
        "class BigNet_drop(nn.Module):\n",
        "    def __init__(self,output_size = 10):\n",
        "        super(BigNet_drop,self).__init__()\n",
        "        self.C1 = nn.Conv2d(1, 4, 5, stride=1, padding=1)  \n",
        "        self.pool1 = torch.nn.MaxPool2d(5,stride = 2)      \n",
        "\n",
        "        self.C2 = nn.Conv2d(4,8, 5, stride = 1)                 \n",
        "        self.pool2 = torch.nn.MaxPool2d(5,stride = 2)          \n",
        "        \n",
        "        self.C3 = nn.Conv2d(8,16, 3)\n",
        "        self.pool3 = nn.MaxPool2d(3,padding = 1)        \n",
        "\n",
        "        self.C4 = nn.Conv2d(16,32, 3)\n",
        "        self.pool4 = nn.MaxPool2d(3,padding = 1)\n",
        "\n",
        "        self.C5 = nn.Conv2d(32,32,3)\n",
        "\n",
        "\n",
        "        self.L1 = nn.Linear(512,256)\n",
        "        self.L2 = nn.Linear(256,128)\n",
        "        self.L3 = nn.Linear(128,64)\n",
        "        self.L4 = nn.Linear(64,32)\n",
        "        self.L5 = nn.Linear(32,16)\n",
        "        self.L6 = nn.Linear(16,output_size)\n",
        "\n",
        "        self.softmax = nn.Softmax()\n",
        "\n",
        "    def forward(self,x):\n",
        "        # convolutional\n",
        "        \n",
        "        x = self.C1(x)\n",
        "        x = self.pool1(x)\n",
        "        x = nn.ReLU(True)(x)\n",
        "        \n",
        "        x = self.C2(x)\n",
        "        x = self.pool2(x)\n",
        "        x = nn.ReLU(True)(x)\n",
        "        \n",
        "        x = self.C3(x)\n",
        "        x = self.pool3(x)\n",
        "        x = nn.ReLU(True)(x)\n",
        "\n",
        "        x = self.C4(x)\n",
        "        x = self.pool4(x)\n",
        "\n",
        "        x = self.C5(x)\n",
        "\n",
        "\n",
        "        x = nn.Flatten()(x)\n",
        "\n",
        "        # linear\n",
        "        x = nn.ReLU(True)(self.L1(x)) # 512\n",
        "        \n",
        "        x = nn.Dropout(p=0.05)(x)\n",
        "\n",
        "        x = nn.ReLU(True)(self.L2(x)) # 128\n",
        "        x = nn.ReLU(True)(self.L3(x)) # 64\n",
        "        x = nn.ReLU(True)(self.L4(x))\n",
        "        x = nn.ReLU(True)(self.L5(x))\n",
        "\n",
        "        x = self.L6(x)\n",
        "        \n",
        "        # net output\n",
        "        return self.softmax(x)"
      ],
      "metadata": {
        "id": "gHlh3s78RMtb"
      },
      "execution_count": null,
      "outputs": []
    },
    {
      "cell_type": "code",
      "source": [
        "class BigNet_batch(nn.Module):\n",
        "    def __init__(self,output_size = 10):\n",
        "        super(BigNet_batch,self).__init__()\n",
        "        self.C1 = nn.Conv2d(1, 4, 5, stride=1, padding=1)  \n",
        "        self.pool1 = torch.nn.MaxPool2d(5,stride = 2)      \n",
        "\n",
        "        self.C2 = nn.Conv2d(4,8, 5, stride = 1)                 \n",
        "        self.pool2 = torch.nn.MaxPool2d(5,stride = 2)          \n",
        "        \n",
        "        self.C3 = nn.Conv2d(8,16, 3)\n",
        "        self.pool3 = nn.MaxPool2d(3,padding = 1)        \n",
        "\n",
        "        self.C4 = nn.Conv2d(16,32, 3)\n",
        "        self.pool4 = nn.MaxPool2d(3,padding = 1)\n",
        "\n",
        "        self.C5 = nn.Conv2d(32,32,3)\n",
        "\n",
        "\n",
        "        self.L1 = nn.Linear(512,256)\n",
        "        self.L2 = nn.Linear(256,128)\n",
        "        self.L3 = nn.Linear(128,64)\n",
        "        self.L4 = nn.Linear(64,32)\n",
        "        self.L5 = nn.Linear(32,16)\n",
        "        self.L6 = nn.Linear(16,output_size)\n",
        "\n",
        "        self.softmax = nn.Softmax()\n",
        "\n",
        "    def forward(self,x):\n",
        "        # convolutional\n",
        "        \n",
        "        x = self.C1(x)\n",
        "        x = self.pool1(x)\n",
        "        x = nn.ReLU(True)(x)\n",
        "        \n",
        "        x = self.C2(x)\n",
        "        x = self.pool2(x)\n",
        "        x = nn.ReLU(True)(x)\n",
        "        \n",
        "        x = self.C3(x)\n",
        "        x = self.pool3(x)\n",
        "        x = nn.ReLU(True)(x)\n",
        "\n",
        "        x = self.C4(x)\n",
        "        x = self.pool4(x)\n",
        "\n",
        "        x = self.C5(x)\n",
        "\n",
        "\n",
        "        x = nn.Flatten()(x)\n",
        "\n",
        "        # linear\n",
        "        x = nn.ReLU(True)(self.L1(x)) # 512\n",
        "        \n",
        "        x = nn.BatchNorm1d(256)(x)\n",
        "\n",
        "        x = nn.ReLU(True)(self.L2(x)) # 256\n",
        "        x = nn.ReLU(True)(self.L3(x)) # 128\n",
        "        x = nn.ReLU(True)(self.L4(x)) # 64\n",
        "        x = nn.ReLU(True)(self.L5(x))\n",
        "\n",
        "        x = self.L6(x)\n",
        "        \n",
        "        # net output\n",
        "        return self.softmax(x)"
      ],
      "metadata": {
        "id": "GCKpnyLlKjHO"
      },
      "execution_count": null,
      "outputs": []
    },
    {
      "cell_type": "markdown",
      "source": [
        "## VGG"
      ],
      "metadata": {
        "id": "bHP34oMxbhra"
      }
    },
    {
      "cell_type": "code",
      "source": [
        "model_vgg = torch.hub.load('pytorch/vision:v0.10.0', 'vgg11', pretrained=True)"
      ],
      "metadata": {
        "colab": {
          "base_uri": "https://localhost:8080/",
          "referenced_widgets": [
            "457c98811f824dde8fec7325cd71c927",
            "fde88eb5f5f2452c8ba4f255647fe0a6",
            "a32343bccce84e40875a0bde604b54e9",
            "889b62b86f374dbcb94738bd8f5e6505",
            "44d8bbca87ec456d9ae57cccde5df306",
            "4c59bab37b6b45989c27405d9dbd1975",
            "126281da4a1840b0b0bb03a1175a9543",
            "a21ef28346d54044be2871e59898dc61",
            "6967ee6d1d06405685e400996ee69f3a",
            "e1d81f91b93a467c9a20958e27b6410a",
            "194e6914d5cc45dfa2cb886a73bbb1a5"
          ]
        },
        "id": "c49OfdbYawCI",
        "outputId": "52035a5c-968b-443a-c16f-1ed9f23e9828"
      },
      "execution_count": null,
      "outputs": [
        {
          "output_type": "stream",
          "name": "stderr",
          "text": [
            "Downloading: \"https://github.com/pytorch/vision/zipball/v0.10.0\" to /root/.cache/torch/hub/v0.10.0.zip\n",
            "Downloading: \"https://download.pytorch.org/models/vgg11-8a719046.pth\" to /root/.cache/torch/hub/checkpoints/vgg11-8a719046.pth\n"
          ]
        },
        {
          "output_type": "display_data",
          "data": {
            "text/plain": [
              "  0%|          | 0.00/507M [00:00<?, ?B/s]"
            ],
            "application/vnd.jupyter.widget-view+json": {
              "version_major": 2,
              "version_minor": 0,
              "model_id": "457c98811f824dde8fec7325cd71c927"
            }
          },
          "metadata": {}
        }
      ]
    },
    {
      "cell_type": "code",
      "source": [
        "x_ex = X[0]\n",
        "x_ex = np.stack(3*[x_ex])\n",
        "x_ex = torch.tensor(x_ex.reshape(1,3,257,257))\n",
        "x_ex.shape"
      ],
      "metadata": {
        "colab": {
          "base_uri": "https://localhost:8080/"
        },
        "id": "HHFkBg4HP8bV",
        "outputId": "e66b0b75-5ac9-4ca7-d89d-2c7fe687faa7"
      },
      "execution_count": null,
      "outputs": [
        {
          "output_type": "execute_result",
          "data": {
            "text/plain": [
              "torch.Size([1, 3, 257, 257])"
            ]
          },
          "metadata": {},
          "execution_count": 20
        }
      ]
    },
    {
      "cell_type": "code",
      "source": [
        "s = model_vgg(x_ex)\n",
        "s[0].shape"
      ],
      "metadata": {
        "colab": {
          "base_uri": "https://localhost:8080/"
        },
        "id": "Um6TwQ1vzUrM",
        "outputId": "42be5573-92a3-431e-a337-1744d0b5f542"
      },
      "execution_count": null,
      "outputs": [
        {
          "output_type": "execute_result",
          "data": {
            "text/plain": [
              "torch.Size([1000])"
            ]
          },
          "metadata": {},
          "execution_count": 21
        }
      ]
    },
    {
      "cell_type": "code",
      "source": [
        "del model_vgg"
      ],
      "metadata": {
        "id": "rR3pGPYtLvS5"
      },
      "execution_count": null,
      "outputs": []
    },
    {
      "cell_type": "markdown",
      "source": [
        "# dataset"
      ],
      "metadata": {
        "id": "MNaqG10ue44D"
      }
    },
    {
      "cell_type": "code",
      "execution_count": null,
      "metadata": {
        "id": "ik1M_dGuJOe-"
      },
      "outputs": [],
      "source": [
        "class Dataset_desc(Dataset):\n",
        "    def __init__(self,X,y):\n",
        "        self.X = X\n",
        "        self.y = y\n",
        "    def __len__(self):\n",
        "        return len(self.y)\n",
        "    def __getitem__(self,idx):\n",
        "        return self.X[idx],self.y[idx]"
      ]
    },
    {
      "cell_type": "markdown",
      "source": [
        "# binary classification"
      ],
      "metadata": {
        "id": "j-UAfRZTapEJ"
      }
    },
    {
      "cell_type": "markdown",
      "source": [
        "## dataset"
      ],
      "metadata": {
        "id": "IfokVooGdWKI"
      }
    },
    {
      "cell_type": "code",
      "source": [
        "num_classes = 2"
      ],
      "metadata": {
        "id": "qjbxfiGjVft7"
      },
      "execution_count": null,
      "outputs": []
    },
    {
      "cell_type": "code",
      "source": [
        "indices = (y < num_classes)\n",
        "X_2 = X[indices]\n",
        "y_2 = y[indices]"
      ],
      "metadata": {
        "id": "QnzmTQiYWSu2"
      },
      "execution_count": null,
      "outputs": []
    },
    {
      "cell_type": "code",
      "source": [
        "X.shape,X_2.shape"
      ],
      "metadata": {
        "colab": {
          "base_uri": "https://localhost:8080/"
        },
        "id": "jkFUu4UvWlVN",
        "outputId": "315ff253-5392-45a9-bebf-60459395fb41"
      },
      "execution_count": null,
      "outputs": [
        {
          "output_type": "execute_result",
          "data": {
            "text/plain": [
              "((3644, 257, 257), (1081, 257, 257))"
            ]
          },
          "metadata": {},
          "execution_count": 22
        }
      ]
    },
    {
      "cell_type": "code",
      "source": [
        "X_train,X_test,y_train,y_test = train_test_split(X_2,y_2)\n",
        "del X_2 \n",
        "del y_2"
      ],
      "metadata": {
        "id": "hTquWWPSj9zQ"
      },
      "execution_count": null,
      "outputs": []
    },
    {
      "cell_type": "code",
      "source": [
        "X_test.shape"
      ],
      "metadata": {
        "colab": {
          "base_uri": "https://localhost:8080/"
        },
        "id": "-dY7WYlCVhvt",
        "outputId": "507a9f35-36db-4014-9714-539c79136b47"
      },
      "execution_count": null,
      "outputs": [
        {
          "output_type": "execute_result",
          "data": {
            "text/plain": [
              "(271, 257, 257)"
            ]
          },
          "metadata": {},
          "execution_count": 24
        }
      ]
    },
    {
      "cell_type": "code",
      "execution_count": null,
      "metadata": {
        "colab": {
          "base_uri": "https://localhost:8080/"
        },
        "id": "gpaS1iozJXb_",
        "outputId": "dbeb1662-01bb-49bc-e256-2a5e651e51b6"
      },
      "outputs": [
        {
          "output_type": "execute_result",
          "data": {
            "text/plain": [
              "array([0, 1])"
            ]
          },
          "metadata": {},
          "execution_count": 25
        }
      ],
      "source": [
        "np.unique(y_train)"
      ]
    },
    {
      "cell_type": "code",
      "execution_count": null,
      "metadata": {
        "colab": {
          "base_uri": "https://localhost:8080/"
        },
        "id": "nam9o7GRM8AE",
        "outputId": "26232d50-6986-4f5e-95ce-7a7b9e494c68"
      },
      "outputs": [
        {
          "output_type": "execute_result",
          "data": {
            "text/plain": [
              "tensor([[0, 1],\n",
              "        [1, 0],\n",
              "        [0, 1],\n",
              "        ...,\n",
              "        [1, 0],\n",
              "        [0, 1],\n",
              "        [1, 0]])"
            ]
          },
          "metadata": {},
          "execution_count": 26
        }
      ],
      "source": [
        "import torch.nn.functional as F\n",
        "F.one_hot(torch.tensor(y_train).long())"
      ]
    },
    {
      "cell_type": "code",
      "execution_count": null,
      "metadata": {
        "id": "AVVKZH7ZRGO8"
      },
      "outputs": [],
      "source": [
        "train_dataloader = DataLoader(Dataset_desc(torch.tensor(X_train.reshape(-1,1,257,257 )),\n",
        "                                           F.one_hot(torch.tensor(y_train).long())\n",
        "                                           ),\n",
        "                            batch_size = 64,\n",
        "                            shuffle=True)\n",
        "test_dataloader  = DataLoader(Dataset_desc(torch.tensor(X_test.reshape(-1,1,257,257 )),\n",
        "                                            F.one_hot(torch.tensor(y_test).long()))\n",
        "                             )"
      ]
    },
    {
      "cell_type": "markdown",
      "source": [
        "## Small"
      ],
      "metadata": {
        "id": "eJpgx_zaNi2C"
      }
    },
    {
      "cell_type": "markdown",
      "source": [
        "### treino"
      ],
      "metadata": {
        "id": "UHSzYaq2c6SQ"
      }
    },
    {
      "cell_type": "code",
      "execution_count": null,
      "metadata": {
        "id": "y45XoC7xGswA"
      },
      "outputs": [],
      "source": [
        "model = SmallNet(num_classes)\n",
        "optimizer = torch.optim.Adam(model.parameters(), lr=1e-3)\n",
        "loss_fn = nn.CrossEntropyLoss()\n",
        "epochs = 150\n",
        "\n"
      ]
    },
    {
      "cell_type": "code",
      "execution_count": null,
      "metadata": {
        "colab": {
          "base_uri": "https://localhost:8080/",
          "height": 1000
        },
        "id": "p9x7KIGK_S5M",
        "outputId": "6017a08b-368e-45e8-fe05-2b316bbb2dad"
      },
      "outputs": [
        {
          "output_type": "stream",
          "name": "stderr",
          "text": [
            "/usr/local/lib/python3.7/dist-packages/ipykernel_launcher.py:43: UserWarning: Implicit dimension choice for softmax has been deprecated. Change the call to include dim=X as an argument.\n"
          ]
        },
        {
          "output_type": "stream",
          "name": "stdout",
          "text": [
            "Epoch  0 |  loss:  0.6931548714637756\n",
            "Epoch  1 |  loss:  0.6154809594154358\n",
            "Epoch  2 |  loss:  0.6701787114143372\n",
            "Epoch  3 |  loss:  0.6321141123771667\n",
            "Epoch  4 |  loss:  0.6825894713401794\n",
            "Epoch  5 |  loss:  0.620482325553894\n",
            "Epoch  6 |  loss:  0.5315579771995544\n",
            "Epoch  7 |  loss:  0.4116063714027405\n",
            "Epoch  8 |  loss:  0.36929523944854736\n",
            "Epoch  9 |  loss:  0.3481625020503998\n",
            "Epoch  10 |  loss:  0.39957529306411743\n",
            "Epoch  11 |  loss:  0.328571081161499\n",
            "Epoch  12 |  loss:  0.3413493037223816\n",
            "Epoch  13 |  loss:  0.3418252468109131\n",
            "Epoch  14 |  loss:  0.31960368156433105\n",
            "Epoch  15 |  loss:  0.3151814937591553\n",
            "Epoch  16 |  loss:  0.3160473108291626\n",
            "Epoch  17 |  loss:  0.31866776943206787\n",
            "Epoch  18 |  loss:  0.31697553396224976\n",
            "Epoch  19 |  loss:  0.3184313178062439\n",
            "Epoch  20 |  loss:  0.31476980447769165\n",
            "Epoch  21 |  loss:  0.3155951499938965\n",
            "Epoch  22 |  loss:  0.31967893242836\n",
            "Epoch  23 |  loss:  0.3150889277458191\n",
            "Epoch  24 |  loss:  0.3525371849536896\n",
            "Epoch  25 |  loss:  0.31756827235221863\n",
            "Epoch  26 |  loss:  0.3156288266181946\n",
            "Epoch  27 |  loss:  0.3222906291484833\n",
            "Epoch  28 |  loss:  0.3135104477405548\n",
            "Epoch  29 |  loss:  0.31360164284706116\n",
            "Epoch  30 |  loss:  0.3138083815574646\n",
            "Epoch  31 |  loss:  0.31659263372421265\n",
            "Epoch  32 |  loss:  0.31438174843788147\n",
            "Epoch  33 |  loss:  0.31606459617614746\n",
            "Epoch  34 |  loss:  0.3180055618286133\n",
            "Epoch  35 |  loss:  0.3135646879673004\n",
            "Epoch  36 |  loss:  0.31363463401794434\n",
            "Epoch  37 |  loss:  0.31500113010406494\n",
            "Epoch  38 |  loss:  0.3137250542640686\n",
            "Epoch  39 |  loss:  0.3168444037437439\n",
            "Epoch  40 |  loss:  0.31427377462387085\n",
            "Epoch  41 |  loss:  0.31365761160850525\n",
            "Epoch  42 |  loss:  0.31340929865837097\n",
            "Epoch  43 |  loss:  0.3137544095516205\n",
            "Epoch  44 |  loss:  0.313721239566803\n",
            "Epoch  45 |  loss:  0.3137318789958954\n",
            "Epoch  46 |  loss:  0.31399282813072205\n",
            "Epoch  47 |  loss:  0.3132949471473694\n",
            "Epoch  48 |  loss:  0.31329891085624695\n",
            "Epoch  49 |  loss:  0.31413406133651733\n",
            "Epoch  50 |  loss:  0.31347551941871643\n",
            "Epoch  51 |  loss:  0.3133663535118103\n",
            "Epoch  52 |  loss:  0.3134155869483948\n",
            "Epoch  53 |  loss:  0.3132998049259186\n",
            "Epoch  54 |  loss:  0.31365352869033813\n",
            "Epoch  55 |  loss:  0.3134469985961914\n",
            "Epoch  56 |  loss:  0.31328150629997253\n",
            "Epoch  57 |  loss:  0.3134475648403168\n",
            "Epoch  58 |  loss:  0.3133704364299774\n",
            "Epoch  59 |  loss:  0.31331852078437805\n",
            "Epoch  60 |  loss:  0.3139457106590271\n",
            "Epoch  61 |  loss:  0.313483864068985\n",
            "Epoch  62 |  loss:  0.31337353587150574\n",
            "Epoch  63 |  loss:  0.31337785720825195\n",
            "Epoch  64 |  loss:  0.31326884031295776\n",
            "Epoch  65 |  loss:  0.31345945596694946\n",
            "Epoch  66 |  loss:  0.31366848945617676\n",
            "Epoch  67 |  loss:  0.31349578499794006\n",
            "Epoch  68 |  loss:  0.3132898211479187\n",
            "Epoch  69 |  loss:  0.31344664096832275\n",
            "Epoch  70 |  loss:  0.31330129504203796\n",
            "Epoch  71 |  loss:  0.31337684392929077\n",
            "Epoch  72 |  loss:  0.3134757876396179\n",
            "Epoch  73 |  loss:  0.3133432865142822\n",
            "Epoch  74 |  loss:  0.3132837116718292\n",
            "Epoch  75 |  loss:  0.31330257654190063\n",
            "Epoch  76 |  loss:  0.31350311636924744\n",
            "Epoch  77 |  loss:  0.31341663002967834\n",
            "Epoch  78 |  loss:  0.3132877051830292\n",
            "Epoch  79 |  loss:  0.313510537147522\n",
            "Epoch  80 |  loss:  0.3133910894393921\n",
            "Epoch  81 |  loss:  0.313557893037796\n",
            "Epoch  82 |  loss:  0.313376247882843\n",
            "Epoch  83 |  loss:  0.3134148120880127\n",
            "Epoch  84 |  loss:  0.31327787041664124\n",
            "Epoch  85 |  loss:  0.313387006521225\n",
            "Epoch  86 |  loss:  0.31330209970474243\n",
            "Epoch  87 |  loss:  0.31331437826156616\n",
            "Epoch  88 |  loss:  0.3133279085159302\n",
            "Epoch  89 |  loss:  0.31331706047058105\n",
            "Epoch  90 |  loss:  0.31328025460243225\n",
            "Epoch  91 |  loss:  0.3132866322994232\n",
            "Epoch  92 |  loss:  0.3133680820465088\n",
            "Epoch  93 |  loss:  0.3133941888809204\n",
            "Epoch  94 |  loss:  0.31331971287727356\n",
            "Epoch  95 |  loss:  0.3134576678276062\n",
            "Epoch  96 |  loss:  0.3132948875427246\n",
            "Epoch  97 |  loss:  0.31331372261047363\n",
            "Epoch  98 |  loss:  0.3133496344089508\n",
            "Epoch  99 |  loss:  0.3132803738117218\n",
            "Epoch  100 |  loss:  0.31332287192344666\n",
            "Epoch  101 |  loss:  0.3132826089859009\n",
            "Epoch  102 |  loss:  0.31326842308044434\n",
            "Epoch  103 |  loss:  0.3132666051387787\n",
            "Epoch  104 |  loss:  0.31326431035995483\n",
            "Epoch  105 |  loss:  0.31330594420433044\n",
            "Epoch  106 |  loss:  0.31328773498535156\n",
            "Epoch  107 |  loss:  0.3134544789791107\n",
            "Epoch  108 |  loss:  0.31333261728286743\n",
            "Epoch  109 |  loss:  0.31327444314956665\n",
            "Epoch  110 |  loss:  0.31334397196769714\n",
            "Epoch  111 |  loss:  0.31328731775283813\n",
            "Epoch  112 |  loss:  0.3133106827735901\n",
            "Epoch  113 |  loss:  0.31327107548713684\n",
            "Epoch  114 |  loss:  0.3132737874984741\n",
            "Epoch  115 |  loss:  0.31330427527427673\n",
            "Epoch  116 |  loss:  0.31326666474342346\n",
            "Epoch  117 |  loss:  0.31329959630966187\n",
            "Epoch  118 |  loss:  0.313292920589447\n",
            "Epoch  119 |  loss:  0.3133212625980377\n",
            "Epoch  120 |  loss:  0.3133850395679474\n",
            "Epoch  121 |  loss:  0.3132627606391907\n",
            "Epoch  122 |  loss:  0.31329137086868286\n",
            "Epoch  123 |  loss:  0.3133028447628021\n",
            "Epoch  124 |  loss:  0.3132721781730652\n",
            "Epoch  125 |  loss:  0.31331953406333923\n",
            "Epoch  126 |  loss:  0.31330710649490356\n",
            "Epoch  127 |  loss:  0.31327298283576965\n",
            "Epoch  128 |  loss:  0.31331905722618103\n",
            "Epoch  129 |  loss:  0.3132888972759247\n",
            "Epoch  130 |  loss:  0.31327858567237854\n",
            "Epoch  131 |  loss:  0.31331878900527954\n",
            "Epoch  132 |  loss:  0.3132976293563843\n",
            "Epoch  133 |  loss:  0.3132750988006592\n",
            "Epoch  134 |  loss:  0.31326693296432495\n",
            "Epoch  135 |  loss:  0.3133070468902588\n",
            "Epoch  136 |  loss:  0.3132845461368561\n",
            "Epoch  137 |  loss:  0.31330370903015137\n",
            "Epoch  138 |  loss:  0.31330162286758423\n",
            "Epoch  139 |  loss:  0.3132953345775604\n",
            "Epoch  140 |  loss:  0.31328749656677246\n",
            "Epoch  141 |  loss:  0.3133220076560974\n",
            "Epoch  142 |  loss:  0.31328168511390686\n",
            "Epoch  143 |  loss:  0.3132832646369934\n",
            "Epoch  144 |  loss:  0.3132878243923187\n",
            "Epoch  145 |  loss:  0.3132750689983368\n",
            "Epoch  146 |  loss:  0.31326767802238464\n",
            "Epoch  147 |  loss:  0.3132668733596802\n",
            "Epoch  148 |  loss:  0.31329345703125\n",
            "Epoch  149 |  loss:  0.3132703900337219\n",
            "Epoch  150 |  loss:  0.31329140067100525\n"
          ]
        },
        {
          "output_type": "execute_result",
          "data": {
            "text/plain": [
              "Text(0, 0.5, 'cost')"
            ]
          },
          "metadata": {},
          "execution_count": 32
        },
        {
          "output_type": "display_data",
          "data": {
            "text/plain": [
              "<Figure size 1008x432 with 1 Axes>"
            ],
            "image/png": "[encoded data removed]"
          },
          "metadata": {
            "needs_background": "light"
          }
        }
      ],
      "source": [
        "# loss inicial\n",
        "for X_batch,y_batch in train_dataloader:\n",
        "    \n",
        "    y_pred = model(X_batch.float())\n",
        "    loss = loss_fn(y_pred, y_batch.float())\n",
        "    break\n",
        "\n",
        "loss_list = [loss.item()]\n",
        "print (\"Epoch \",0,\"|  loss: \", loss.item())\n",
        "optimizer.zero_grad() # Zero gradients\n",
        "\n",
        "for epoch in range(1, epochs+1):\n",
        "    for X_batch,y_batch in train_dataloader:\n",
        "        y_pred = model(X_batch.float())            # prediction\n",
        "\n",
        "        loss = loss_fn(y_pred, y_batch.float())     # loss calculation\n",
        "        \n",
        "        optimizer.zero_grad() # Zero gradients\n",
        "        loss.backward()       # Gradients\n",
        "        optimizer.step()      # Update\n",
        "\n",
        "    print (\"Epoch \",epoch,\"|  loss: \", loss.item())\n",
        "        \n",
        "    \n",
        "    loss_list.append(loss.item())\n",
        "\n",
        "plt.figure(figsize = (14,6))\n",
        "plt.title(\"cost decay\")\n",
        "plt.plot(loss_list)\n",
        "plt.xlabel(\"epoch\")\n",
        "plt.ylabel(\"cost\")"
      ]
    },
    {
      "cell_type": "markdown",
      "metadata": {
        "id": "T94yL_YP__8l"
      },
      "source": [
        "### evaluation"
      ]
    },
    {
      "cell_type": "code",
      "execution_count": null,
      "metadata": {
        "id": "xCJjnP69Pqex"
      },
      "outputs": [],
      "source": [
        "from sklearn.metrics import classification_report"
      ]
    },
    {
      "cell_type": "code",
      "source": [
        "X_train.shape"
      ],
      "metadata": {
        "id": "QMGNqkNqaBx-",
        "colab": {
          "base_uri": "https://localhost:8080/"
        },
        "outputId": "c1781afb-6768-4cb0-e9b8-1f074fe6bdb0"
      },
      "execution_count": null,
      "outputs": [
        {
          "output_type": "execute_result",
          "data": {
            "text/plain": [
              "(810, 257, 257)"
            ]
          },
          "metadata": {},
          "execution_count": 34
        }
      ]
    },
    {
      "cell_type": "code",
      "execution_count": null,
      "metadata": {
        "id": "7xH3nh15AFIV",
        "colab": {
          "base_uri": "https://localhost:8080/"
        },
        "outputId": "2997ed30-ec86-40ba-e393-efd66e90906b"
      },
      "outputs": [
        {
          "output_type": "stream",
          "name": "stdout",
          "text": [
            "training set\n",
            "              precision    recall  f1-score   support\n",
            "\n",
            "           0       1.00      1.00      1.00       311\n",
            "           1       1.00      1.00      1.00       499\n",
            "\n",
            "    accuracy                           1.00       810\n",
            "   macro avg       1.00      1.00      1.00       810\n",
            "weighted avg       1.00      1.00      1.00       810\n",
            "\n",
            "----------------------------------------------------------------------------------------------------\n"
          ]
        },
        {
          "output_type": "stream",
          "name": "stderr",
          "text": [
            "/usr/local/lib/python3.7/dist-packages/ipykernel_launcher.py:43: UserWarning: Implicit dimension choice for softmax has been deprecated. Change the call to include dim=X as an argument.\n"
          ]
        }
      ],
      "source": [
        "with torch.no_grad():\n",
        "    \n",
        "\n",
        "    y_pred = model(torch.tensor(X_train.reshape(-1,1,257,257)))\n",
        "    y_pred = y_pred.argmax(axis = 1)\n",
        "\n",
        "\n",
        "    print(\"training set\")\n",
        "    print(classification_report(y_train,y_pred))\n",
        "\n",
        "    print(\"-\"*100)\n",
        "    "
      ]
    },
    {
      "cell_type": "code",
      "execution_count": null,
      "metadata": {
        "id": "O4qSwhbnSH3U",
        "colab": {
          "base_uri": "https://localhost:8080/"
        },
        "outputId": "eb037808-d242-4e47-892f-f719e5f49463"
      },
      "outputs": [
        {
          "output_type": "stream",
          "name": "stdout",
          "text": [
            "test set\n",
            "              precision    recall  f1-score   support\n",
            "\n",
            "           0       1.00      1.00      1.00       105\n",
            "           1       1.00      1.00      1.00       166\n",
            "\n",
            "    accuracy                           1.00       271\n",
            "   macro avg       1.00      1.00      1.00       271\n",
            "weighted avg       1.00      1.00      1.00       271\n",
            "\n",
            "----------------------------------------------------------------------------------------------------\n"
          ]
        },
        {
          "output_type": "stream",
          "name": "stderr",
          "text": [
            "/usr/local/lib/python3.7/dist-packages/ipykernel_launcher.py:43: UserWarning: Implicit dimension choice for softmax has been deprecated. Change the call to include dim=X as an argument.\n"
          ]
        }
      ],
      "source": [
        "with torch.no_grad():\n",
        "    \n",
        "    y_pred = model(torch.tensor(X_test.reshape(-1,1,257,257)))\n",
        "    y_pred = y_pred.argmax(axis = 1)\n",
        "\n",
        "    print(\"test set\")\n",
        "    print(classification_report(y_test,y_pred))\n",
        "\n",
        "    print(\"-\"*100)\n",
        "    "
      ]
    },
    {
      "cell_type": "code",
      "source": [],
      "metadata": {
        "id": "sImarBxRXUar"
      },
      "execution_count": null,
      "outputs": []
    },
    {
      "cell_type": "code",
      "source": [
        "with torch.no_grad():\n",
        "        \n",
        "    y_pred = model(torch.tensor(X_test.reshape(-1,1,257,257)))\n",
        "    y_pred = y_pred.argmax(axis = 1)\n",
        "\n",
        "    print(\"test set\")\n",
        "    print(classification_report(y_test,y_pred))\n",
        "\n",
        "    print(\"-\"*100)\n",
        "    "
      ],
      "metadata": {
        "id": "Q8nenAWoaiFh",
        "colab": {
          "base_uri": "https://localhost:8080/"
        },
        "outputId": "671bc6ee-1882-4d01-dd1f-b08ce6022d29"
      },
      "execution_count": null,
      "outputs": [
        {
          "output_type": "stream",
          "name": "stdout",
          "text": [
            "test set\n",
            "              precision    recall  f1-score   support\n",
            "\n",
            "           0       1.00      1.00      1.00       105\n",
            "           1       1.00      1.00      1.00       166\n",
            "\n",
            "    accuracy                           1.00       271\n",
            "   macro avg       1.00      1.00      1.00       271\n",
            "weighted avg       1.00      1.00      1.00       271\n",
            "\n",
            "----------------------------------------------------------------------------------------------------\n"
          ]
        },
        {
          "output_type": "stream",
          "name": "stderr",
          "text": [
            "/usr/local/lib/python3.7/dist-packages/ipykernel_launcher.py:43: UserWarning: Implicit dimension choice for softmax has been deprecated. Change the call to include dim=X as an argument.\n"
          ]
        }
      ]
    },
    {
      "cell_type": "markdown",
      "source": [
        "## Medium"
      ],
      "metadata": {
        "id": "68UuShBxc9t2"
      }
    },
    {
      "cell_type": "code",
      "execution_count": null,
      "metadata": {
        "id": "X_UWFSyUdLJ4"
      },
      "outputs": [],
      "source": [
        "model = MediumNet(num_classes)\n",
        "optimizer = torch.optim.Adam(model.parameters(), lr=1e-3)\n",
        "loss_fn = nn.CrossEntropyLoss()\n",
        "epochs = 50\n",
        "\n"
      ]
    },
    {
      "cell_type": "code",
      "execution_count": null,
      "metadata": {
        "colab": {
          "base_uri": "https://localhost:8080/"
        },
        "outputId": "55a1354f-17e4-4eb4-b0ef-f367aa86d87e",
        "id": "FchzGoy6dLJ5"
      },
      "outputs": [
        {
          "output_type": "stream",
          "name": "stderr",
          "text": [
            "/usr/local/lib/python3.7/dist-packages/ipykernel_launcher.py:56: UserWarning: Implicit dimension choice for softmax has been deprecated. Change the call to include dim=X as an argument.\n"
          ]
        },
        {
          "output_type": "stream",
          "name": "stdout",
          "text": [
            "Epoch  0 |  loss:  0.6981586217880249\n",
            "Epoch  1 |  loss:  0.5917613506317139\n",
            "Epoch  2 |  loss:  0.5554770231246948\n",
            "Epoch  3 |  loss:  0.47245728969573975\n",
            "Epoch  4 |  loss:  0.31367620825767517\n",
            "Epoch  5 |  loss:  0.47005704045295715\n",
            "Epoch  6 |  loss:  0.3593188524246216\n",
            "Epoch  7 |  loss:  0.33303868770599365\n",
            "Epoch  8 |  loss:  0.313339501619339\n",
            "Epoch  9 |  loss:  0.31337887048721313\n",
            "Epoch  10 |  loss:  0.3132900297641754\n",
            "Epoch  11 |  loss:  0.3635947108268738\n",
            "Epoch  12 |  loss:  0.3272932469844818\n",
            "Epoch  13 |  loss:  0.32157549262046814\n",
            "Epoch  14 |  loss:  0.33687135577201843\n",
            "Epoch  15 |  loss:  0.313539981842041\n",
            "Epoch  16 |  loss:  0.31327900290489197\n",
            "Epoch  17 |  loss:  0.3132685422897339\n",
            "Epoch  18 |  loss:  0.3132878839969635\n",
            "Epoch  19 |  loss:  0.3132631778717041\n",
            "Epoch  20 |  loss:  0.31327179074287415\n",
            "Epoch  21 |  loss:  0.31327101588249207\n",
            "Epoch  22 |  loss:  0.313281774520874\n",
            "Epoch  23 |  loss:  0.31329670548439026\n",
            "Epoch  24 |  loss:  0.3133043646812439\n",
            "Epoch  25 |  loss:  0.3132649064064026\n",
            "Epoch  26 |  loss:  0.33702999353408813\n",
            "Epoch  27 |  loss:  0.3132636547088623\n",
            "Epoch  28 |  loss:  0.31326669454574585\n",
            "Epoch  29 |  loss:  0.3133879601955414\n",
            "Epoch  30 |  loss:  0.31327804923057556\n",
            "Epoch  31 |  loss:  0.31327494978904724\n",
            "Epoch  32 |  loss:  0.31329554319381714\n",
            "Epoch  33 |  loss:  0.3132653832435608\n",
            "Epoch  34 |  loss:  0.3337755799293518\n",
            "Epoch  35 |  loss:  0.31326794624328613\n",
            "Epoch  36 |  loss:  0.31328070163726807\n",
            "Epoch  37 |  loss:  0.31327128410339355\n",
            "Epoch  38 |  loss:  0.40886417031288147\n",
            "Epoch  39 |  loss:  0.31326207518577576\n",
            "Epoch  40 |  loss:  0.3132762908935547\n",
            "Epoch  41 |  loss:  0.32445257902145386\n",
            "Epoch  42 |  loss:  0.3132658898830414\n",
            "Epoch  43 |  loss:  0.3132617175579071\n",
            "Epoch  44 |  loss:  0.31326425075531006\n",
            "Epoch  45 |  loss:  0.3134689927101135\n",
            "Epoch  46 |  loss:  0.3368755877017975\n",
            "Epoch  47 |  loss:  0.3132694661617279\n",
            "Epoch  48 |  loss:  0.3132818937301636\n",
            "Epoch  49 |  loss:  0.3132632374763489\n",
            "Epoch  50 |  loss:  0.31326326727867126\n"
          ]
        },
        {
          "output_type": "execute_result",
          "data": {
            "text/plain": [
              "Text(0, 0.5, 'cost')"
            ]
          },
          "metadata": {},
          "execution_count": 30
        },
        {
          "output_type": "display_data",
          "data": {
            "text/plain": [
              "<Figure size 1008x432 with 1 Axes>"
            ],
            "image/png": "[encoded data removed]"
          },
          "metadata": {
            "needs_background": "light"
          }
        }
      ],
      "source": [
        "# loss inicial\n",
        "for X_batch,y_batch in train_dataloader:\n",
        "    \n",
        "    y_pred = model(X_batch.float())\n",
        "    loss = loss_fn(y_pred, y_batch.float())\n",
        "    break\n",
        "\n",
        "loss_list = [loss.item()]\n",
        "print (\"Epoch \",0,\"|  loss: \", loss.item())\n",
        "optimizer.zero_grad() # Zero gradients\n",
        "\n",
        "for epoch in range(1, epochs+1):\n",
        "    for X_batch,y_batch in train_dataloader:\n",
        "        y_pred = model(X_batch.float())            # prediction\n",
        "\n",
        "        loss = loss_fn(y_pred, y_batch.float())     # loss calculation\n",
        "        \n",
        "        optimizer.zero_grad() # Zero gradients\n",
        "        loss.backward()       # Gradients\n",
        "        optimizer.step()      # Update\n",
        "\n",
        "    print (\"Epoch \",epoch,\"|  loss: \", loss.item())\n",
        "        \n",
        "    \n",
        "    loss_list.append(loss.item())\n",
        "\n",
        "plt.figure(figsize = (14,6))\n",
        "plt.title(\"cost decay\")\n",
        "plt.plot(loss_list)\n",
        "plt.xlabel(\"epoch\")\n",
        "plt.ylabel(\"cost\")"
      ]
    },
    {
      "cell_type": "code",
      "source": [],
      "metadata": {
        "id": "2fsC8ez1jgSe"
      },
      "execution_count": null,
      "outputs": []
    },
    {
      "cell_type": "markdown",
      "metadata": {
        "id": "c-LHr-whjgkP"
      },
      "source": [
        "### evaluation"
      ]
    },
    {
      "cell_type": "code",
      "execution_count": null,
      "metadata": {
        "id": "kdAjd8-NjgkQ"
      },
      "outputs": [],
      "source": [
        "from sklearn.metrics import classification_report"
      ]
    },
    {
      "cell_type": "code",
      "source": [
        "X_train.shape"
      ],
      "metadata": {
        "colab": {
          "base_uri": "https://localhost:8080/"
        },
        "outputId": "438cface-7d58-4a3f-80eb-77d15af2a943",
        "id": "xYu6KjzQjgkQ"
      },
      "execution_count": null,
      "outputs": [
        {
          "output_type": "execute_result",
          "data": {
            "text/plain": [
              "(810, 257, 257)"
            ]
          },
          "metadata": {},
          "execution_count": 32
        }
      ]
    },
    {
      "cell_type": "code",
      "execution_count": null,
      "metadata": {
        "colab": {
          "base_uri": "https://localhost:8080/"
        },
        "outputId": "1a8ebed8-2065-4681-9543-35dbdba81883",
        "id": "97Gz92XzjgkQ"
      },
      "outputs": [
        {
          "output_type": "stream",
          "name": "stdout",
          "text": [
            "training set\n",
            "              precision    recall  f1-score   support\n",
            "\n",
            "           0       0.97      1.00      0.98       303\n",
            "           1       1.00      0.98      0.99       507\n",
            "\n",
            "    accuracy                           0.99       810\n",
            "   macro avg       0.98      0.99      0.99       810\n",
            "weighted avg       0.99      0.99      0.99       810\n",
            "\n",
            "----------------------------------------------------------------------------------------------------\n"
          ]
        },
        {
          "output_type": "stream",
          "name": "stderr",
          "text": [
            "/usr/local/lib/python3.7/dist-packages/ipykernel_launcher.py:56: UserWarning: Implicit dimension choice for softmax has been deprecated. Change the call to include dim=X as an argument.\n"
          ]
        }
      ],
      "source": [
        "with torch.no_grad():\n",
        "    \n",
        "\n",
        "    y_pred = model(torch.tensor(X_train.reshape(-1,1,257,257)))\n",
        "    y_pred = y_pred.argmax(axis = 1)\n",
        "\n",
        "\n",
        "    print(\"training set\")\n",
        "    print(classification_report(y_train,y_pred))\n",
        "\n",
        "    print(\"-\"*100)\n",
        "    "
      ]
    },
    {
      "cell_type": "code",
      "execution_count": null,
      "metadata": {
        "colab": {
          "base_uri": "https://localhost:8080/"
        },
        "outputId": "96bc4854-50b8-4292-c731-d6a488c9a450",
        "id": "haOFZBVTjgkQ"
      },
      "outputs": [
        {
          "output_type": "stream",
          "name": "stdout",
          "text": [
            "test set\n",
            "              precision    recall  f1-score   support\n",
            "\n",
            "           0       0.98      0.99      0.99       113\n",
            "           1       0.99      0.99      0.99       158\n",
            "\n",
            "    accuracy                           0.99       271\n",
            "   macro avg       0.99      0.99      0.99       271\n",
            "weighted avg       0.99      0.99      0.99       271\n",
            "\n",
            "----------------------------------------------------------------------------------------------------\n"
          ]
        },
        {
          "output_type": "stream",
          "name": "stderr",
          "text": [
            "/usr/local/lib/python3.7/dist-packages/ipykernel_launcher.py:56: UserWarning: Implicit dimension choice for softmax has been deprecated. Change the call to include dim=X as an argument.\n"
          ]
        }
      ],
      "source": [
        "with torch.no_grad():\n",
        "    \n",
        "    y_pred = model(torch.tensor(X_test.reshape(-1,1,257,257)))\n",
        "    y_pred = y_pred.argmax(axis = 1)\n",
        "\n",
        "    print(\"test set\")\n",
        "    print(classification_report(y_test,y_pred))\n",
        "\n",
        "    print(\"-\"*100)\n",
        "    "
      ]
    },
    {
      "cell_type": "code",
      "source": [],
      "metadata": {
        "id": "Kn4zmfJkjgkQ"
      },
      "execution_count": null,
      "outputs": []
    },
    {
      "cell_type": "markdown",
      "source": [
        "## Big"
      ],
      "metadata": {
        "id": "uFD0B3iHpeP8"
      }
    },
    {
      "cell_type": "code",
      "source": [
        "train_dataloader = DataLoader(Dataset_desc(torch.tensor(X_train.reshape(-1,1,257,257)),\n",
        "                                           F.one_hot(torch.tensor(y_train).long())\n",
        "                                           ),\n",
        "                            batch_size = 512,\n",
        "                            shuffle=True)\n",
        "test_dataloader  = DataLoader(Dataset_desc(torch.tensor(X_test.reshape(-1,1,257,257 )),\n",
        "                                            F.one_hot(torch.tensor(y_test).long()))\n",
        "                             )"
      ],
      "metadata": {
        "id": "LQ6WxBtzp7-J"
      },
      "execution_count": null,
      "outputs": []
    },
    {
      "cell_type": "code",
      "source": [
        "num_classes = 2"
      ],
      "metadata": {
        "id": "VO3JJDO7pmDP"
      },
      "execution_count": null,
      "outputs": []
    },
    {
      "cell_type": "code",
      "execution_count": null,
      "metadata": {
        "id": "kjNe7On4peP8"
      },
      "outputs": [],
      "source": [
        "model = BigNet(num_classes)\n",
        "optimizer = torch.optim.Adam(model.parameters(), lr=1e-3)\n",
        "loss_fn = nn.CrossEntropyLoss()\n",
        "epochs = 50\n",
        "\n"
      ]
    },
    {
      "cell_type": "code",
      "execution_count": null,
      "metadata": {
        "colab": {
          "base_uri": "https://localhost:8080/",
          "height": 1000
        },
        "outputId": "e1da6e9f-a47a-470e-b047-7147a36e27b2",
        "id": "yLLRqqZcpeP9"
      },
      "outputs": [
        {
          "output_type": "stream",
          "name": "stderr",
          "text": [
            "/usr/local/lib/python3.7/dist-packages/ipykernel_launcher.py:61: UserWarning: Implicit dimension choice for softmax has been deprecated. Change the call to include dim=X as an argument.\n"
          ]
        },
        {
          "output_type": "stream",
          "name": "stdout",
          "text": [
            "Epoch  0 |  loss:  0.3628106117248535\n",
            "Epoch  1 |  loss:  0.35411375761032104\n",
            "Epoch  2 |  loss:  0.3661045730113983\n",
            "Epoch  3 |  loss:  0.34048181772232056\n",
            "Epoch  4 |  loss:  0.35448071360588074\n",
            "Epoch  5 |  loss:  0.34382712841033936\n",
            "Epoch  6 |  loss:  0.34851476550102234\n",
            "Epoch  7 |  loss:  0.3319314420223236\n",
            "Epoch  8 |  loss:  0.3349094092845917\n",
            "Epoch  9 |  loss:  0.3440926969051361\n",
            "Epoch  10 |  loss:  0.3322196304798126\n",
            "Epoch  11 |  loss:  0.3277105987071991\n",
            "Epoch  12 |  loss:  0.3321966230869293\n",
            "Epoch  13 |  loss:  0.33180898427963257\n",
            "Epoch  14 |  loss:  0.33648303151130676\n",
            "Epoch  15 |  loss:  0.34612566232681274\n",
            "Epoch  16 |  loss:  0.4099428951740265\n",
            "Epoch  17 |  loss:  0.3817889094352722\n",
            "Epoch  18 |  loss:  0.32831040024757385\n",
            "Epoch  19 |  loss:  0.37031126022338867\n",
            "Epoch  20 |  loss:  0.34289541840553284\n",
            "Epoch  21 |  loss:  0.3230312764644623\n",
            "Epoch  22 |  loss:  0.3631092607975006\n",
            "Epoch  23 |  loss:  0.32318270206451416\n",
            "Epoch  24 |  loss:  0.3241318464279175\n",
            "Epoch  25 |  loss:  0.3191780745983124\n",
            "Epoch  26 |  loss:  0.3274751603603363\n",
            "Epoch  27 |  loss:  0.3174637258052826\n",
            "Epoch  28 |  loss:  0.3190763294696808\n",
            "Epoch  29 |  loss:  0.318896621465683\n",
            "Epoch  30 |  loss:  0.31902626156806946\n",
            "Epoch  31 |  loss:  0.3219546377658844\n",
            "Epoch  32 |  loss:  0.3170366883277893\n",
            "Epoch  33 |  loss:  0.3145013153553009\n",
            "Epoch  34 |  loss:  0.3176594376564026\n",
            "Epoch  35 |  loss:  0.31677863001823425\n",
            "Epoch  36 |  loss:  0.3175402581691742\n",
            "Epoch  37 |  loss:  0.31344765424728394\n",
            "Epoch  38 |  loss:  0.3167933523654938\n",
            "Epoch  39 |  loss:  0.31666141748428345\n",
            "Epoch  40 |  loss:  0.3200058341026306\n",
            "Epoch  41 |  loss:  0.31331416964530945\n",
            "Epoch  42 |  loss:  0.31330326199531555\n",
            "Epoch  43 |  loss:  0.31335628032684326\n",
            "Epoch  44 |  loss:  0.3133058547973633\n",
            "Epoch  45 |  loss:  0.3166424036026001\n",
            "Epoch  46 |  loss:  0.31667110323905945\n",
            "Epoch  47 |  loss:  0.3166663348674774\n",
            "Epoch  48 |  loss:  0.3132863938808441\n",
            "Epoch  49 |  loss:  0.3166351914405823\n",
            "Epoch  50 |  loss:  0.3133091330528259\n"
          ]
        },
        {
          "output_type": "execute_result",
          "data": {
            "text/plain": [
              "Text(0, 0.5, 'cost')"
            ]
          },
          "metadata": {},
          "execution_count": 46
        },
        {
          "output_type": "display_data",
          "data": {
            "text/plain": [
              "<Figure size 1008x432 with 1 Axes>"
            ],
            "image/png": "[encoded data removed]"
          },
          "metadata": {
            "needs_background": "light"
          }
        }
      ],
      "source": [
        "# loss inicial\n",
        "for X_batch,y_batch in train_dataloader:\n",
        "    \n",
        "    y_pred = model(X_batch.float())\n",
        "    loss = loss_fn(y_pred, y_batch.float())\n",
        "    break\n",
        "\n",
        "loss_list = [loss.item()]\n",
        "print (\"Epoch \",0,\"|  loss: \", loss.item())\n",
        "optimizer.zero_grad() # Zero gradients\n",
        "\n",
        "for epoch in range(1, epochs+1):\n",
        "    for X_batch,y_batch in train_dataloader:\n",
        "        y_pred = model(X_batch.float())            # prediction\n",
        "\n",
        "        loss = loss_fn(y_pred, y_batch.float())     # loss calculation\n",
        "        \n",
        "        optimizer.zero_grad() # Zero gradients\n",
        "        loss.backward()       # Gradients\n",
        "        optimizer.step()      # Update\n",
        "\n",
        "    print (\"Epoch \",epoch,\"|  loss: \", loss.item())\n",
        "        \n",
        "    \n",
        "    loss_list.append(loss.item())\n",
        "\n",
        "plt.figure(figsize = (14,6))\n",
        "plt.title(\"cost decay\")\n",
        "plt.plot(loss_list)\n",
        "plt.xlabel(\"epoch\")\n",
        "plt.ylabel(\"cost\")"
      ]
    },
    {
      "cell_type": "code",
      "source": [],
      "metadata": {
        "id": "M3dIKyTMpeP9"
      },
      "execution_count": null,
      "outputs": []
    },
    {
      "cell_type": "markdown",
      "metadata": {
        "id": "FknoM_gCpeP9"
      },
      "source": [
        "### evaluation"
      ]
    },
    {
      "cell_type": "code",
      "execution_count": null,
      "metadata": {
        "id": "d_E4L-7gpeP9"
      },
      "outputs": [],
      "source": [
        "from sklearn.metrics import classification_report"
      ]
    },
    {
      "cell_type": "code",
      "source": [
        "X_train.shape"
      ],
      "metadata": {
        "colab": {
          "base_uri": "https://localhost:8080/"
        },
        "outputId": "438cface-7d58-4a3f-80eb-77d15af2a943",
        "id": "ck9bjDdZpeP9"
      },
      "execution_count": null,
      "outputs": [
        {
          "output_type": "execute_result",
          "data": {
            "text/plain": [
              "(810, 257, 257)"
            ]
          },
          "metadata": {},
          "execution_count": 32
        }
      ]
    },
    {
      "cell_type": "code",
      "execution_count": null,
      "metadata": {
        "colab": {
          "base_uri": "https://localhost:8080/"
        },
        "outputId": "b56c14db-faa9-437c-8675-dc5dd2146b38",
        "id": "4Nx_rzY2peP9"
      },
      "outputs": [
        {
          "output_type": "stream",
          "name": "stdout",
          "text": [
            "training set\n",
            "              precision    recall  f1-score   support\n",
            "\n",
            "           0       0.99      1.00      0.99       297\n",
            "           1       1.00      0.99      1.00       513\n",
            "\n",
            "    accuracy                           1.00       810\n",
            "   macro avg       0.99      1.00      1.00       810\n",
            "weighted avg       1.00      1.00      1.00       810\n",
            "\n",
            "----------------------------------------------------------------------------------------------------\n"
          ]
        },
        {
          "output_type": "stream",
          "name": "stderr",
          "text": [
            "/usr/local/lib/python3.7/dist-packages/ipykernel_launcher.py:61: UserWarning: Implicit dimension choice for softmax has been deprecated. Change the call to include dim=X as an argument.\n"
          ]
        }
      ],
      "source": [
        "with torch.no_grad():\n",
        "    \n",
        "\n",
        "    y_pred = model(torch.tensor(X_train.reshape(-1,1,257,257)))\n",
        "    y_pred = y_pred.argmax(axis = 1)\n",
        "\n",
        "\n",
        "    print(\"training set\")\n",
        "    print(classification_report(y_train,y_pred))\n",
        "\n",
        "    print(\"-\"*100)\n",
        "    "
      ]
    },
    {
      "cell_type": "code",
      "execution_count": null,
      "metadata": {
        "colab": {
          "base_uri": "https://localhost:8080/"
        },
        "outputId": "3cfe9fb7-a449-46de-eab9-27b3ed97469f",
        "id": "aUDgP3DApeP-"
      },
      "outputs": [
        {
          "output_type": "stream",
          "name": "stdout",
          "text": [
            "test set\n",
            "              precision    recall  f1-score   support\n",
            "\n",
            "           0       1.00      0.97      0.98       119\n",
            "           1       0.97      1.00      0.99       152\n",
            "\n",
            "    accuracy                           0.99       271\n",
            "   macro avg       0.99      0.98      0.98       271\n",
            "weighted avg       0.99      0.99      0.99       271\n",
            "\n",
            "----------------------------------------------------------------------------------------------------\n"
          ]
        },
        {
          "output_type": "stream",
          "name": "stderr",
          "text": [
            "/usr/local/lib/python3.7/dist-packages/ipykernel_launcher.py:61: UserWarning: Implicit dimension choice for softmax has been deprecated. Change the call to include dim=X as an argument.\n"
          ]
        }
      ],
      "source": [
        "with torch.no_grad():\n",
        "    \n",
        "    y_pred = model(torch.tensor(X_test.reshape(-1,1,257,257)))\n",
        "    y_pred = y_pred.argmax(axis = 1)\n",
        "\n",
        "    print(\"test set\")\n",
        "    print(classification_report(y_test,y_pred))\n",
        "\n",
        "    print(\"-\"*100)\n",
        "    "
      ]
    },
    {
      "cell_type": "code",
      "source": [],
      "metadata": {
        "id": "ywC7GeXYpeP-"
      },
      "execution_count": null,
      "outputs": []
    },
    {
      "cell_type": "markdown",
      "source": [
        "# 5 classes"
      ],
      "metadata": {
        "id": "4wbrNF_xa-DW"
      }
    },
    {
      "cell_type": "code",
      "source": [
        "num_classes = 5"
      ],
      "metadata": {
        "id": "JpFktMkIa-Db"
      },
      "execution_count": null,
      "outputs": []
    },
    {
      "cell_type": "code",
      "source": [
        "indices = (y < num_classes)\n",
        "X_5 = X[indices]\n",
        "y_5 = y[indices]"
      ],
      "metadata": {
        "id": "Sx3WPAV_a-DX"
      },
      "execution_count": null,
      "outputs": []
    },
    {
      "cell_type": "code",
      "source": [
        "X_train,X_test,y_train,y_test = train_test_split(X_5,y_5)\n",
        "del X_5\n",
        "del y_5"
      ],
      "metadata": {
        "id": "ZY_FjeLra-DZ"
      },
      "execution_count": null,
      "outputs": []
    },
    {
      "cell_type": "code",
      "source": [
        "y_train.shape"
      ],
      "metadata": {
        "colab": {
          "base_uri": "https://localhost:8080/"
        },
        "id": "CJpkDHU3qwf-",
        "outputId": "fcdc11b9-97c8-4aed-881a-bda344632b4f"
      },
      "execution_count": null,
      "outputs": [
        {
          "output_type": "execute_result",
          "data": {
            "text/plain": [
              "(1723,)"
            ]
          },
          "metadata": {},
          "execution_count": 19
        }
      ]
    },
    {
      "cell_type": "code",
      "source": [
        "np.unique(y_train)"
      ],
      "metadata": {
        "id": "e-z4Gpz6dfuL",
        "colab": {
          "base_uri": "https://localhost:8080/"
        },
        "outputId": "9a030b4e-42d3-436f-976a-4da31f1680fb"
      },
      "execution_count": null,
      "outputs": [
        {
          "output_type": "execute_result",
          "data": {
            "text/plain": [
              "array([0, 1, 2, 3, 4])"
            ]
          },
          "metadata": {},
          "execution_count": 20
        }
      ]
    },
    {
      "cell_type": "code",
      "execution_count": null,
      "metadata": {
        "colab": {
          "base_uri": "https://localhost:8080/"
        },
        "id": "5xuQGY9za-Db",
        "outputId": "f7c6d22d-3edc-41ce-85dd-4c13d058eb23"
      },
      "outputs": [
        {
          "output_type": "execute_result",
          "data": {
            "text/plain": [
              "tensor([[0, 0, 0, 0, 1],\n",
              "        [0, 0, 0, 0, 1],\n",
              "        [0, 0, 0, 1, 0],\n",
              "        ...,\n",
              "        [1, 0, 0, 0, 0],\n",
              "        [0, 1, 0, 0, 0],\n",
              "        [0, 0, 1, 0, 0]])"
            ]
          },
          "metadata": {},
          "execution_count": 21
        }
      ],
      "source": [
        "import torch.nn.functional as F\n",
        "F.one_hot(torch.tensor(y_train).long())"
      ]
    },
    {
      "cell_type": "code",
      "execution_count": null,
      "metadata": {
        "id": "g5QvNrKla-Dc"
      },
      "outputs": [],
      "source": [
        "train_dataloader = DataLoader(Dataset_desc(torch.tensor(X_train.reshape(-1,1,257,257)).cuda(),\n",
        "                                           F.one_hot(torch.tensor(y_train).long().cuda())\n",
        "                                           ),\n",
        "                            batch_size = 256,\n",
        "                            shuffle=True)\n",
        "test_dataloader  = DataLoader(Dataset_desc(torch.tensor(X_test.reshape(-1,1,257,257 )).cuda(),\n",
        "                                            F.one_hot(torch.tensor(y_test).long().cuda()))\n",
        "                             )"
      ]
    },
    {
      "cell_type": "code",
      "source": [],
      "metadata": {
        "id": "HsXcYynNkXJG"
      },
      "execution_count": null,
      "outputs": []
    },
    {
      "cell_type": "markdown",
      "source": [
        "## Small"
      ],
      "metadata": {
        "id": "oNUgI84bkXYT"
      }
    },
    {
      "cell_type": "markdown",
      "source": [
        "### treino"
      ],
      "metadata": {
        "id": "3vR1SXqUkXYT"
      }
    },
    {
      "cell_type": "code",
      "execution_count": null,
      "metadata": {
        "id": "pywIGru4kXYT"
      },
      "outputs": [],
      "source": [
        "model = SmallNet(num_classes)\n",
        "optimizer = torch.optim.Adam(model.parameters(), lr=1e-3)\n",
        "loss_fn = nn.CrossEntropyLoss()\n",
        "epochs = 150\n",
        "\n"
      ]
    },
    {
      "cell_type": "code",
      "execution_count": null,
      "metadata": {
        "colab": {
          "base_uri": "https://localhost:8080/",
          "height": 1000
        },
        "outputId": "7ab181fc-b908-4771-9732-455ec66a729d",
        "id": "XpF5rdxqkXYT"
      },
      "outputs": [
        {
          "output_type": "stream",
          "name": "stderr",
          "text": [
            "/usr/local/lib/python3.7/dist-packages/ipykernel_launcher.py:43: UserWarning: Implicit dimension choice for softmax has been deprecated. Change the call to include dim=X as an argument.\n"
          ]
        },
        {
          "output_type": "stream",
          "name": "stdout",
          "text": [
            "Epoch  0 |  loss:  1.613168716430664\n",
            "Epoch  1 |  loss:  1.6059929132461548\n",
            "Epoch  2 |  loss:  1.5899264812469482\n",
            "Epoch  3 |  loss:  1.575843334197998\n",
            "Epoch  4 |  loss:  1.5717737674713135\n",
            "Epoch  5 |  loss:  1.5799994468688965\n",
            "Epoch  6 |  loss:  1.5571637153625488\n",
            "Epoch  7 |  loss:  1.5646237134933472\n",
            "Epoch  8 |  loss:  1.4919601678848267\n",
            "Epoch  9 |  loss:  1.4794254302978516\n",
            "Epoch  10 |  loss:  1.471807837486267\n",
            "Epoch  11 |  loss:  1.4296530485153198\n",
            "Epoch  12 |  loss:  1.418440818786621\n",
            "Epoch  13 |  loss:  1.3678615093231201\n",
            "Epoch  14 |  loss:  1.3985041379928589\n",
            "Epoch  15 |  loss:  1.3816931247711182\n",
            "Epoch  16 |  loss:  1.337408423423767\n",
            "Epoch  17 |  loss:  1.3219870328903198\n",
            "Epoch  18 |  loss:  1.3562686443328857\n",
            "Epoch  19 |  loss:  1.3147776126861572\n",
            "Epoch  20 |  loss:  1.2488130331039429\n",
            "Epoch  21 |  loss:  1.2805919647216797\n",
            "Epoch  22 |  loss:  1.2803432941436768\n",
            "Epoch  23 |  loss:  1.3107484579086304\n",
            "Epoch  24 |  loss:  1.3014271259307861\n",
            "Epoch  25 |  loss:  1.275101661682129\n",
            "Epoch  26 |  loss:  1.2100406885147095\n",
            "Epoch  27 |  loss:  1.3047916889190674\n",
            "Epoch  28 |  loss:  1.2598731517791748\n",
            "Epoch  29 |  loss:  1.218276858329773\n",
            "Epoch  30 |  loss:  1.200985074043274\n",
            "Epoch  31 |  loss:  1.2630231380462646\n",
            "Epoch  32 |  loss:  1.2513529062271118\n",
            "Epoch  33 |  loss:  1.2600693702697754\n",
            "Epoch  34 |  loss:  1.2840781211853027\n",
            "Epoch  35 |  loss:  1.2562947273254395\n",
            "Epoch  36 |  loss:  1.2701612710952759\n",
            "Epoch  37 |  loss:  1.206780195236206\n",
            "Epoch  38 |  loss:  1.2196751832962036\n",
            "Epoch  39 |  loss:  1.2384493350982666\n",
            "Epoch  40 |  loss:  1.2072722911834717\n",
            "Epoch  41 |  loss:  1.2716927528381348\n",
            "Epoch  42 |  loss:  1.2461308240890503\n",
            "Epoch  43 |  loss:  1.1586434841156006\n",
            "Epoch  44 |  loss:  1.2229230403900146\n",
            "Epoch  45 |  loss:  1.1493816375732422\n",
            "Epoch  46 |  loss:  1.2041255235671997\n",
            "Epoch  47 |  loss:  1.173477053642273\n",
            "Epoch  48 |  loss:  1.1608723402023315\n",
            "Epoch  49 |  loss:  1.1869745254516602\n",
            "Epoch  50 |  loss:  1.2079887390136719\n",
            "Epoch  51 |  loss:  1.2449593544006348\n",
            "Epoch  52 |  loss:  1.1800843477249146\n",
            "Epoch  53 |  loss:  1.194564938545227\n",
            "Epoch  54 |  loss:  1.128897786140442\n",
            "Epoch  55 |  loss:  1.1493655443191528\n",
            "Epoch  56 |  loss:  1.1509144306182861\n",
            "Epoch  57 |  loss:  1.1708120107650757\n",
            "Epoch  58 |  loss:  1.1340211629867554\n",
            "Epoch  59 |  loss:  1.2140929698944092\n",
            "Epoch  60 |  loss:  1.1981109380722046\n",
            "Epoch  61 |  loss:  1.1860812902450562\n",
            "Epoch  62 |  loss:  1.1456644535064697\n",
            "Epoch  63 |  loss:  1.1731219291687012\n",
            "Epoch  64 |  loss:  1.1379375457763672\n",
            "Epoch  65 |  loss:  1.151595950126648\n",
            "Epoch  66 |  loss:  1.1754555702209473\n",
            "Epoch  67 |  loss:  1.1565725803375244\n",
            "Epoch  68 |  loss:  1.1314886808395386\n",
            "Epoch  69 |  loss:  1.114498496055603\n",
            "Epoch  70 |  loss:  1.1360293626785278\n",
            "Epoch  71 |  loss:  1.2044422626495361\n",
            "Epoch  72 |  loss:  1.1549667119979858\n",
            "Epoch  73 |  loss:  1.128806233406067\n",
            "Epoch  74 |  loss:  1.1694939136505127\n",
            "Epoch  75 |  loss:  1.149959921836853\n",
            "Epoch  76 |  loss:  1.1756765842437744\n",
            "Epoch  77 |  loss:  1.1167333126068115\n",
            "Epoch  78 |  loss:  1.1346644163131714\n",
            "Epoch  79 |  loss:  1.1873291730880737\n",
            "Epoch  80 |  loss:  1.1461222171783447\n",
            "Epoch  81 |  loss:  1.1270984411239624\n",
            "Epoch  82 |  loss:  1.1455127000808716\n",
            "Epoch  83 |  loss:  1.1489098072052002\n",
            "Epoch  84 |  loss:  1.1320220232009888\n",
            "Epoch  85 |  loss:  1.1071724891662598\n",
            "Epoch  86 |  loss:  1.0941262245178223\n",
            "Epoch  87 |  loss:  1.157568097114563\n",
            "Epoch  88 |  loss:  1.134994626045227\n",
            "Epoch  89 |  loss:  1.1102136373519897\n",
            "Epoch  90 |  loss:  1.1474297046661377\n",
            "Epoch  91 |  loss:  1.1449579000473022\n",
            "Epoch  92 |  loss:  1.0784637928009033\n",
            "Epoch  93 |  loss:  1.0631732940673828\n",
            "Epoch  94 |  loss:  1.1619960069656372\n",
            "Epoch  95 |  loss:  1.0994685888290405\n",
            "Epoch  96 |  loss:  1.04534912109375\n",
            "Epoch  97 |  loss:  1.0804117918014526\n",
            "Epoch  98 |  loss:  1.0444635152816772\n",
            "Epoch  99 |  loss:  1.069655179977417\n",
            "Epoch  100 |  loss:  1.0324082374572754\n",
            "Epoch  101 |  loss:  1.0337648391723633\n",
            "Epoch  102 |  loss:  1.0261154174804688\n",
            "Epoch  103 |  loss:  1.1211411952972412\n",
            "Epoch  104 |  loss:  1.0161200761795044\n",
            "Epoch  105 |  loss:  1.0539888143539429\n",
            "Epoch  106 |  loss:  1.045204997062683\n",
            "Epoch  107 |  loss:  1.0175567865371704\n",
            "Epoch  108 |  loss:  1.0246180295944214\n",
            "Epoch  109 |  loss:  1.0145864486694336\n",
            "Epoch  110 |  loss:  1.0137280225753784\n",
            "Epoch  111 |  loss:  1.0121327638626099\n",
            "Epoch  112 |  loss:  1.0052626132965088\n",
            "Epoch  113 |  loss:  0.9887399673461914\n",
            "Epoch  114 |  loss:  0.9925824403762817\n",
            "Epoch  115 |  loss:  1.0003314018249512\n",
            "Epoch  116 |  loss:  0.9774636626243591\n",
            "Epoch  117 |  loss:  0.9795887470245361\n",
            "Epoch  118 |  loss:  1.0086438655853271\n",
            "Epoch  119 |  loss:  1.009771704673767\n",
            "Epoch  120 |  loss:  1.0010108947753906\n",
            "Epoch  121 |  loss:  0.964677631855011\n",
            "Epoch  122 |  loss:  1.039602279663086\n",
            "Epoch  123 |  loss:  1.0044585466384888\n",
            "Epoch  124 |  loss:  1.0209157466888428\n",
            "Epoch  125 |  loss:  0.9733707308769226\n",
            "Epoch  126 |  loss:  1.0131988525390625\n",
            "Epoch  127 |  loss:  0.9801551699638367\n",
            "Epoch  128 |  loss:  0.9697073698043823\n",
            "Epoch  129 |  loss:  0.9739236235618591\n",
            "Epoch  130 |  loss:  0.9702113270759583\n",
            "Epoch  131 |  loss:  0.9758521318435669\n",
            "Epoch  132 |  loss:  0.9892197847366333\n",
            "Epoch  133 |  loss:  0.9775866270065308\n",
            "Epoch  134 |  loss:  0.9674994945526123\n",
            "Epoch  135 |  loss:  0.9959783554077148\n",
            "Epoch  136 |  loss:  0.9732491374015808\n",
            "Epoch  137 |  loss:  0.9539627432823181\n",
            "Epoch  138 |  loss:  0.97488933801651\n",
            "Epoch  139 |  loss:  0.9644026160240173\n",
            "Epoch  140 |  loss:  0.9534214735031128\n",
            "Epoch  141 |  loss:  0.9410950541496277\n",
            "Epoch  142 |  loss:  0.9747255444526672\n",
            "Epoch  143 |  loss:  0.9768227934837341\n",
            "Epoch  144 |  loss:  0.9544140696525574\n",
            "Epoch  145 |  loss:  0.9708957076072693\n",
            "Epoch  146 |  loss:  0.9595779180526733\n",
            "Epoch  147 |  loss:  0.9644120931625366\n",
            "Epoch  148 |  loss:  0.9445093870162964\n",
            "Epoch  149 |  loss:  0.9647690653800964\n",
            "Epoch  150 |  loss:  0.9538477659225464\n",
            "Epoch  151 |  loss:  0.9931001663208008\n",
            "Epoch  152 |  loss:  0.9581847190856934\n",
            "Epoch  153 |  loss:  0.9684149622917175\n",
            "Epoch  154 |  loss:  0.9602437019348145\n",
            "Epoch  155 |  loss:  0.9574776887893677\n",
            "Epoch  156 |  loss:  0.9600984454154968\n",
            "Epoch  157 |  loss:  1.0263926982879639\n",
            "Epoch  158 |  loss:  0.9554821252822876\n",
            "Epoch  159 |  loss:  0.9511415958404541\n",
            "Epoch  160 |  loss:  0.972714900970459\n",
            "Epoch  161 |  loss:  0.9798276424407959\n",
            "Epoch  162 |  loss:  0.9460424780845642\n",
            "Epoch  163 |  loss:  0.9702667593955994\n",
            "Epoch  164 |  loss:  0.989508330821991\n",
            "Epoch  165 |  loss:  0.9754363894462585\n",
            "Epoch  166 |  loss:  0.9401400089263916\n",
            "Epoch  167 |  loss:  0.9725874066352844\n",
            "Epoch  168 |  loss:  0.9504295587539673\n",
            "Epoch  169 |  loss:  0.962272047996521\n",
            "Epoch  170 |  loss:  0.9428616166114807\n",
            "Epoch  171 |  loss:  0.9584859609603882\n",
            "Epoch  172 |  loss:  0.9550153613090515\n",
            "Epoch  173 |  loss:  0.9568940997123718\n",
            "Epoch  174 |  loss:  0.9417643547058105\n",
            "Epoch  175 |  loss:  0.957440972328186\n",
            "Epoch  176 |  loss:  0.9501771330833435\n",
            "Epoch  177 |  loss:  0.9640251398086548\n",
            "Epoch  178 |  loss:  0.9352498650550842\n",
            "Epoch  179 |  loss:  0.9695389866828918\n",
            "Epoch  180 |  loss:  0.953428328037262\n",
            "Epoch  181 |  loss:  0.9430245161056519\n",
            "Epoch  182 |  loss:  0.9314764738082886\n",
            "Epoch  183 |  loss:  0.9593594670295715\n",
            "Epoch  184 |  loss:  0.9556718468666077\n",
            "Epoch  185 |  loss:  0.9482687711715698\n",
            "Epoch  186 |  loss:  0.9437485933303833\n",
            "Epoch  187 |  loss:  0.9382222890853882\n",
            "Epoch  188 |  loss:  0.9442614912986755\n",
            "Epoch  189 |  loss:  0.9411407113075256\n",
            "Epoch  190 |  loss:  0.9403281211853027\n",
            "Epoch  191 |  loss:  0.9469217658042908\n",
            "Epoch  192 |  loss:  0.9519186615943909\n",
            "Epoch  193 |  loss:  0.9319968223571777\n",
            "Epoch  194 |  loss:  0.9492751359939575\n",
            "Epoch  195 |  loss:  0.9465407133102417\n",
            "Epoch  196 |  loss:  0.957213282585144\n",
            "Epoch  197 |  loss:  0.9483363628387451\n",
            "Epoch  198 |  loss:  0.9454687833786011\n",
            "Epoch  199 |  loss:  0.9300280809402466\n",
            "Epoch  200 |  loss:  0.9554557800292969\n",
            "Epoch  201 |  loss:  0.9533047676086426\n",
            "Epoch  202 |  loss:  0.9414912462234497\n",
            "Epoch  203 |  loss:  0.934745192527771\n",
            "Epoch  204 |  loss:  0.9242748022079468\n",
            "Epoch  205 |  loss:  0.9210501313209534\n",
            "Epoch  206 |  loss:  0.9366660118103027\n",
            "Epoch  207 |  loss:  0.9374889135360718\n",
            "Epoch  208 |  loss:  0.9243127107620239\n",
            "Epoch  209 |  loss:  0.9509068727493286\n",
            "Epoch  210 |  loss:  0.9408356547355652\n",
            "Epoch  211 |  loss:  0.9461336135864258\n",
            "Epoch  212 |  loss:  0.9262876510620117\n",
            "Epoch  213 |  loss:  0.9327096343040466\n",
            "Epoch  214 |  loss:  0.9551824331283569\n",
            "Epoch  215 |  loss:  0.9758138656616211\n",
            "Epoch  216 |  loss:  0.9754430651664734\n",
            "Epoch  217 |  loss:  0.9363158345222473\n",
            "Epoch  218 |  loss:  0.9387848377227783\n",
            "Epoch  219 |  loss:  0.9367250800132751\n",
            "Epoch  220 |  loss:  0.9397287368774414\n",
            "Epoch  221 |  loss:  0.934395432472229\n",
            "Epoch  222 |  loss:  0.9411333203315735\n",
            "Epoch  223 |  loss:  0.9396970868110657\n",
            "Epoch  224 |  loss:  0.9267974495887756\n",
            "Epoch  225 |  loss:  0.9245355725288391\n",
            "Epoch  226 |  loss:  0.9505173563957214\n",
            "Epoch  227 |  loss:  0.9247192740440369\n",
            "Epoch  228 |  loss:  0.9368537664413452\n",
            "Epoch  229 |  loss:  0.9392982721328735\n",
            "Epoch  230 |  loss:  0.935783863067627\n",
            "Epoch  231 |  loss:  0.9355403184890747\n",
            "Epoch  232 |  loss:  0.9289547801017761\n",
            "Epoch  233 |  loss:  0.9377999305725098\n",
            "Epoch  234 |  loss:  0.9398722648620605\n",
            "Epoch  235 |  loss:  0.9401103258132935\n",
            "Epoch  236 |  loss:  0.9366059303283691\n",
            "Epoch  237 |  loss:  0.929815948009491\n",
            "Epoch  238 |  loss:  0.9423958659172058\n",
            "Epoch  239 |  loss:  0.9320154190063477\n",
            "Epoch  240 |  loss:  0.9512014389038086\n",
            "Epoch  241 |  loss:  0.9393563270568848\n",
            "Epoch  242 |  loss:  0.9537959098815918\n",
            "Epoch  243 |  loss:  0.9357646703720093\n",
            "Epoch  244 |  loss:  0.9390577077865601\n",
            "Epoch  245 |  loss:  0.9345534443855286\n",
            "Epoch  246 |  loss:  0.920768141746521\n",
            "Epoch  247 |  loss:  0.9346972107887268\n",
            "Epoch  248 |  loss:  0.9181872606277466\n",
            "Epoch  249 |  loss:  0.9295797944068909\n",
            "Epoch  250 |  loss:  0.9277751445770264\n",
            "Epoch  251 |  loss:  0.9164924025535583\n",
            "Epoch  252 |  loss:  0.9244876503944397\n",
            "Epoch  253 |  loss:  0.9276692867279053\n",
            "Epoch  254 |  loss:  0.9418985843658447\n",
            "Epoch  255 |  loss:  0.9274829030036926\n",
            "Epoch  256 |  loss:  0.960277795791626\n",
            "Epoch  257 |  loss:  0.9331291913986206\n",
            "Epoch  258 |  loss:  0.9314253926277161\n",
            "Epoch  259 |  loss:  0.9416559338569641\n",
            "Epoch  260 |  loss:  0.9201164841651917\n",
            "Epoch  261 |  loss:  0.9289712309837341\n",
            "Epoch  262 |  loss:  0.9381479620933533\n",
            "Epoch  263 |  loss:  0.9232289791107178\n",
            "Epoch  264 |  loss:  0.9177758693695068\n",
            "Epoch  265 |  loss:  0.9221138954162598\n",
            "Epoch  266 |  loss:  0.9274613261222839\n",
            "Epoch  267 |  loss:  0.937921941280365\n",
            "Epoch  268 |  loss:  0.9327733516693115\n",
            "Epoch  269 |  loss:  0.9223305583000183\n",
            "Epoch  270 |  loss:  0.9435795545578003\n",
            "Epoch  271 |  loss:  0.9324867129325867\n",
            "Epoch  272 |  loss:  0.928743839263916\n",
            "Epoch  273 |  loss:  0.9717820286750793\n",
            "Epoch  274 |  loss:  0.9243876934051514\n",
            "Epoch  275 |  loss:  0.9379862546920776\n",
            "Epoch  276 |  loss:  0.9497357606887817\n",
            "Epoch  277 |  loss:  0.9219510555267334\n",
            "Epoch  278 |  loss:  0.9162774682044983\n",
            "Epoch  279 |  loss:  0.9395948052406311\n",
            "Epoch  280 |  loss:  0.932801365852356\n",
            "Epoch  281 |  loss:  0.9196425080299377\n",
            "Epoch  282 |  loss:  0.9319916367530823\n",
            "Epoch  283 |  loss:  0.9376843571662903\n",
            "Epoch  284 |  loss:  0.9272604584693909\n",
            "Epoch  285 |  loss:  0.9384543895721436\n",
            "Epoch  286 |  loss:  0.9112451672554016\n",
            "Epoch  287 |  loss:  0.9222199320793152\n",
            "Epoch  288 |  loss:  0.9382535815238953\n",
            "Epoch  289 |  loss:  0.9319643974304199\n",
            "Epoch  290 |  loss:  0.9272834062576294\n",
            "Epoch  291 |  loss:  0.9321728348731995\n",
            "Epoch  292 |  loss:  0.918315052986145\n",
            "Epoch  293 |  loss:  0.9233990907669067\n",
            "Epoch  294 |  loss:  0.9276522994041443\n",
            "Epoch  295 |  loss:  0.9435166716575623\n",
            "Epoch  296 |  loss:  0.9218704104423523\n",
            "Epoch  297 |  loss:  0.9268767237663269\n",
            "Epoch  298 |  loss:  0.9116246700286865\n",
            "Epoch  299 |  loss:  0.9334468841552734\n",
            "Epoch  300 |  loss:  0.9233865737915039\n"
          ]
        },
        {
          "output_type": "execute_result",
          "data": {
            "text/plain": [
              "Text(0, 0.5, 'cost')"
            ]
          },
          "metadata": {},
          "execution_count": 51
        },
        {
          "output_type": "display_data",
          "data": {
            "text/plain": [
              "<Figure size 1008x432 with 1 Axes>"
            ],
            "image/png": "[encoded data removed]"
          },
          "metadata": {
            "needs_background": "light"
          }
        }
      ],
      "source": [
        "# loss inicial\n",
        "for X_batch,y_batch in train_dataloader:\n",
        "    \n",
        "    y_pred = model(X_batch.float())\n",
        "    loss = loss_fn(y_pred, y_batch.float())\n",
        "    break\n",
        "\n",
        "loss_list = [loss.item()]\n",
        "print (\"Epoch \",0,\"|  loss: \", loss.item())\n",
        "optimizer.zero_grad() # Zero gradients\n",
        "\n",
        "for epoch in range(1, epochs+1):\n",
        "    for X_batch,y_batch in train_dataloader:\n",
        "        y_pred = model(X_batch.float())            # prediction\n",
        "\n",
        "        loss = loss_fn(y_pred, y_batch.float())     # loss calculation\n",
        "        \n",
        "        optimizer.zero_grad() # Zero gradients\n",
        "        loss.backward()       # Gradients\n",
        "        optimizer.step()      # Update\n",
        "\n",
        "    print (\"Epoch \",epoch,\"|  loss: \", loss.item())\n",
        "        \n",
        "    \n",
        "    loss_list.append(loss.item())\n",
        "\n",
        "plt.figure(figsize = (14,6))\n",
        "plt.title(\"cost decay\")\n",
        "plt.plot(loss_list)\n",
        "plt.xlabel(\"epoch\")\n",
        "plt.ylabel(\"cost\")"
      ]
    },
    {
      "cell_type": "markdown",
      "metadata": {
        "id": "gJjot_JpkXYU"
      },
      "source": [
        "### evaluation"
      ]
    },
    {
      "cell_type": "code",
      "execution_count": null,
      "metadata": {
        "id": "EOdYMiTrkXYU"
      },
      "outputs": [],
      "source": [
        "from sklearn.metrics import classification_report"
      ]
    },
    {
      "cell_type": "code",
      "source": [
        "X_train.shape"
      ],
      "metadata": {
        "colab": {
          "base_uri": "https://localhost:8080/"
        },
        "outputId": "2fdd18d3-f6f6-410d-cc95-c7768c708a53",
        "id": "rgeUbZVjkXYU"
      },
      "execution_count": null,
      "outputs": [
        {
          "output_type": "execute_result",
          "data": {
            "text/plain": [
              "(1723, 257, 257)"
            ]
          },
          "metadata": {},
          "execution_count": 53
        }
      ]
    },
    {
      "cell_type": "code",
      "execution_count": null,
      "metadata": {
        "colab": {
          "base_uri": "https://localhost:8080/"
        },
        "outputId": "bf291498-1ca7-4f5e-99c1-3c229d57caaa",
        "id": "f1S9mnUFkXYU"
      },
      "outputs": [
        {
          "output_type": "stream",
          "name": "stdout",
          "text": [
            "training set\n",
            "              precision    recall  f1-score   support\n",
            "\n",
            "           0       0.97      0.98      0.98       311\n",
            "           1       0.98      0.98      0.98       487\n",
            "           2       0.97      0.97      0.97       326\n",
            "           3       1.00      0.99      0.99       253\n",
            "           4       0.98      0.97      0.98       346\n",
            "\n",
            "    accuracy                           0.98      1723\n",
            "   macro avg       0.98      0.98      0.98      1723\n",
            "weighted avg       0.98      0.98      0.98      1723\n",
            "\n",
            "----------------------------------------------------------------------------------------------------\n"
          ]
        },
        {
          "output_type": "stream",
          "name": "stderr",
          "text": [
            "/usr/local/lib/python3.7/dist-packages/ipykernel_launcher.py:43: UserWarning: Implicit dimension choice for softmax has been deprecated. Change the call to include dim=X as an argument.\n"
          ]
        }
      ],
      "source": [
        "with torch.no_grad():\n",
        "    \n",
        "\n",
        "    y_pred = model(torch.tensor(X_train.reshape(-1,1,257,257)))\n",
        "    y_pred = y_pred.argmax(axis = 1)\n",
        "\n",
        "\n",
        "    print(\"training set\")\n",
        "    print(classification_report(y_train,y_pred))\n",
        "\n",
        "    print(\"-\"*100)\n",
        "    "
      ]
    },
    {
      "cell_type": "code",
      "execution_count": null,
      "metadata": {
        "colab": {
          "base_uri": "https://localhost:8080/"
        },
        "outputId": "9b3c03f7-3939-4c2a-9228-63c5b45510bb",
        "id": "kP3fy9TWkXYV"
      },
      "outputs": [
        {
          "output_type": "stream",
          "name": "stdout",
          "text": [
            "test set\n",
            "              precision    recall  f1-score   support\n",
            "\n",
            "           0       0.83      0.80      0.82       105\n",
            "           1       0.90      0.96      0.93       178\n",
            "           2       0.87      0.74      0.80        88\n",
            "           3       0.89      0.97      0.93        87\n",
            "           4       0.86      0.85      0.86       117\n",
            "\n",
            "    accuracy                           0.87       575\n",
            "   macro avg       0.87      0.86      0.87       575\n",
            "weighted avg       0.87      0.87      0.87       575\n",
            "\n",
            "----------------------------------------------------------------------------------------------------\n"
          ]
        },
        {
          "output_type": "stream",
          "name": "stderr",
          "text": [
            "/usr/local/lib/python3.7/dist-packages/ipykernel_launcher.py:43: UserWarning: Implicit dimension choice for softmax has been deprecated. Change the call to include dim=X as an argument.\n"
          ]
        }
      ],
      "source": [
        "with torch.no_grad():\n",
        "    \n",
        "    y_pred = model(torch.tensor(X_test.reshape(-1,1,257,257)))\n",
        "    y_pred = y_pred.argmax(axis = 1)\n",
        "\n",
        "    print(\"test set\")\n",
        "    print(classification_report(y_test,y_pred))\n",
        "\n",
        "    print(\"-\"*100)\n",
        "    "
      ]
    },
    {
      "cell_type": "code",
      "source": [],
      "metadata": {
        "id": "KVWesqPykXYV"
      },
      "execution_count": null,
      "outputs": []
    },
    {
      "cell_type": "markdown",
      "source": [
        "## Medium"
      ],
      "metadata": {
        "id": "jiPzJaDqkXYV"
      }
    },
    {
      "cell_type": "code",
      "source": [
        "model = MediumNet(num_classes)\n",
        "loss_fn = nn.CrossEntropyLoss()"
      ],
      "metadata": {
        "id": "fGFPNIM_dg4Q"
      },
      "execution_count": null,
      "outputs": []
    },
    {
      "cell_type": "code",
      "source": [
        "def treinar(model,opt = None, Nepochs = 50,batch_size = 64, learning_rate = 1e-3,loss_list = [],primeiro_treino =False):\n",
        "    train_dataloader = DataLoader(Dataset_desc(torch.tensor(X_train.reshape(-1,1,257,257)),\n",
        "                                           F.one_hot(torch.tensor(y_train).long())\n",
        "                                           ),\n",
        "                            batch_size = batch_size,\n",
        "                            shuffle=True)\n",
        "    \n",
        "    \n",
        "    if primeiro_treino:\n",
        "        opt = torch.optim.Adam(model.parameters(), lr=learning_rate)\n",
        "        # loss inicial\n",
        "        for X_batch,y_batch in train_dataloader:\n",
        "            \n",
        "            y_pred = model(X_batch.float())\n",
        "            loss = loss_fn(y_pred, y_batch.float())\n",
        "            break\n",
        "\n",
        "        loss_list = [loss.item()]\n",
        "        print (\"Epoch \",0,\"|  loss: \", loss.item())\n",
        "  \n",
        "        opt.zero_grad() # Zero gradients\n",
        "\n",
        "    if opt is None:\n",
        "        opt = torch.optim.Adam(model.parameters(), lr=learning_rate)\n",
        "\n",
        "\n",
        "    for epoch in range(1, Nepochs+1):\n",
        "        for X_batch,y_batch in train_dataloader:\n",
        "            y_pred = model(X_batch.float())            # prediction\n",
        "\n",
        "            loss = loss_fn(y_pred, y_batch.float())     # loss calculation\n",
        "            \n",
        "            opt.zero_grad() # Zero gradients\n",
        "            loss.backward()       # Gradients\n",
        "            opt.step()      # Update\n",
        "\n",
        "        print (\"Epoch \",epoch,\"|  loss: \", loss.item())\n",
        "            \n",
        "        \n",
        "        loss_list.append(loss.item())\n",
        "\n",
        "    plt.figure(figsize = (14,6))\n",
        "    plt.title(\"cost decay\")\n",
        "    plt.plot(loss_list)\n",
        "    plt.xlabel(\"epoch\")\n",
        "    plt.ylabel(\"cost\")\n",
        "\n",
        "    \n",
        "\n",
        "    return loss_list, opt"
      ],
      "metadata": {
        "id": "nh2Fs0Vxdhui"
      },
      "execution_count": null,
      "outputs": []
    },
    {
      "cell_type": "code",
      "source": [
        "len(y_train)"
      ],
      "metadata": {
        "colab": {
          "base_uri": "https://localhost:8080/"
        },
        "id": "O8idUB-OW804",
        "outputId": "3c5bf47a-6bae-4a68-f10f-22667d3fa39c"
      },
      "execution_count": null,
      "outputs": [
        {
          "output_type": "execute_result",
          "data": {
            "text/plain": [
              "1723"
            ]
          },
          "metadata": {},
          "execution_count": 27
        }
      ]
    },
    {
      "cell_type": "code",
      "execution_count": null,
      "metadata": {
        "id": "8dkQsgjIkXYV",
        "colab": {
          "base_uri": "https://localhost:8080/",
          "height": 1000
        },
        "outputId": "cfbf25f3-497d-4baa-8ebf-b8234b0e5b75"
      },
      "outputs": [
        {
          "output_type": "stream",
          "name": "stderr",
          "text": [
            "/usr/local/lib/python3.7/dist-packages/ipykernel_launcher.py:56: UserWarning: Implicit dimension choice for softmax has been deprecated. Change the call to include dim=X as an argument.\n"
          ]
        },
        {
          "output_type": "stream",
          "name": "stdout",
          "text": [
            "Epoch  0 |  loss:  1.6151241064071655\n",
            "Epoch  1 |  loss:  1.5515073537826538\n",
            "Epoch  2 |  loss:  1.5973680019378662\n",
            "Epoch  3 |  loss:  1.5737859010696411\n",
            "Epoch  4 |  loss:  1.5560306310653687\n",
            "Epoch  5 |  loss:  1.5797823667526245\n",
            "Epoch  6 |  loss:  1.535438895225525\n",
            "Epoch  7 |  loss:  1.5039411783218384\n",
            "Epoch  8 |  loss:  1.4556286334991455\n",
            "Epoch  9 |  loss:  1.4920159578323364\n",
            "Epoch  10 |  loss:  1.3621480464935303\n",
            "Epoch  11 |  loss:  1.2508370876312256\n",
            "Epoch  12 |  loss:  1.3366121053695679\n",
            "Epoch  13 |  loss:  1.329088568687439\n",
            "Epoch  14 |  loss:  1.3184659481048584\n",
            "Epoch  15 |  loss:  1.2975879907608032\n",
            "Epoch  16 |  loss:  1.2341419458389282\n",
            "Epoch  17 |  loss:  1.2254785299301147\n",
            "Epoch  18 |  loss:  1.229617953300476\n",
            "Epoch  19 |  loss:  1.1713993549346924\n",
            "Epoch  20 |  loss:  1.1783415079116821\n",
            "Epoch  21 |  loss:  1.2169219255447388\n",
            "Epoch  22 |  loss:  1.2053636312484741\n",
            "Epoch  23 |  loss:  1.1747559309005737\n",
            "Epoch  24 |  loss:  1.1687068939208984\n",
            "Epoch  25 |  loss:  1.1777119636535645\n",
            "Epoch  26 |  loss:  1.1566158533096313\n",
            "Epoch  27 |  loss:  1.2094789743423462\n",
            "Epoch  28 |  loss:  1.1518385410308838\n",
            "Epoch  29 |  loss:  1.1446114778518677\n",
            "Epoch  30 |  loss:  1.1493619680404663\n",
            "Epoch  31 |  loss:  1.1335757970809937\n",
            "Epoch  32 |  loss:  1.1510398387908936\n",
            "Epoch  33 |  loss:  1.1350475549697876\n",
            "Epoch  34 |  loss:  1.10853910446167\n",
            "Epoch  35 |  loss:  1.1173999309539795\n",
            "Epoch  36 |  loss:  1.1250720024108887\n",
            "Epoch  37 |  loss:  1.1156163215637207\n",
            "Epoch  38 |  loss:  1.1433662176132202\n",
            "Epoch  39 |  loss:  1.102195143699646\n",
            "Epoch  40 |  loss:  1.10753333568573\n",
            "Epoch  41 |  loss:  1.1307164430618286\n",
            "Epoch  42 |  loss:  1.1729106903076172\n",
            "Epoch  43 |  loss:  1.1405763626098633\n",
            "Epoch  44 |  loss:  1.1526004076004028\n",
            "Epoch  45 |  loss:  1.132830262184143\n",
            "Epoch  46 |  loss:  1.0910122394561768\n",
            "Epoch  47 |  loss:  1.1151509284973145\n",
            "Epoch  48 |  loss:  1.0868101119995117\n",
            "Epoch  49 |  loss:  1.1379727125167847\n",
            "Epoch  50 |  loss:  1.1158416271209717\n"
          ]
        },
        {
          "output_type": "display_data",
          "data": {
            "text/plain": [
              "<Figure size 1008x432 with 1 Axes>"
            ],
            "image/png": "[encoded data removed]"
          },
          "metadata": {
            "needs_background": "light"
          }
        }
      ],
      "source": [
        "loss_list, opt = treinar(model,Nepochs = 50,batch_size = 256, learning_rate = 1e-3,loss_list = [],primeiro_treino =True)"
      ]
    },
    {
      "cell_type": "code",
      "source": [
        "loss_list, opt = treinar(model, opt, Nepochs = 15,batch_size = 512, learning_rate = 1e-3,loss_list = loss_list,primeiro_treino =False)"
      ],
      "metadata": {
        "colab": {
          "base_uri": "https://localhost:8080/",
          "height": 716
        },
        "id": "j92lr9q5mJXD",
        "outputId": "3de76c25-85c4-4c15-e509-a2f588e25bf1"
      },
      "execution_count": null,
      "outputs": [
        {
          "output_type": "stream",
          "name": "stderr",
          "text": [
            "/usr/local/lib/python3.7/dist-packages/ipykernel_launcher.py:56: UserWarning: Implicit dimension choice for softmax has been deprecated. Change the call to include dim=X as an argument.\n"
          ]
        },
        {
          "output_type": "stream",
          "name": "stdout",
          "text": [
            "Epoch  1 |  loss:  1.0986205339431763\n",
            "Epoch  2 |  loss:  1.1043986082077026\n",
            "Epoch  3 |  loss:  1.1008350849151611\n",
            "Epoch  4 |  loss:  1.1141811609268188\n",
            "Epoch  5 |  loss:  1.0647778511047363\n",
            "Epoch  6 |  loss:  1.1055508852005005\n",
            "Epoch  7 |  loss:  1.0820339918136597\n",
            "Epoch  8 |  loss:  1.084573745727539\n",
            "Epoch  9 |  loss:  1.1129016876220703\n",
            "Epoch  10 |  loss:  1.03407621383667\n",
            "Epoch  11 |  loss:  0.9812966585159302\n",
            "Epoch  12 |  loss:  1.0103143453598022\n",
            "Epoch  13 |  loss:  0.9899817705154419\n",
            "Epoch  14 |  loss:  0.9748793840408325\n",
            "Epoch  15 |  loss:  0.9503251314163208\n"
          ]
        },
        {
          "output_type": "display_data",
          "data": {
            "text/plain": [
              "<Figure size 1008x432 with 1 Axes>"
            ],
            "image/png": "[encoded data removed]"
          },
          "metadata": {
            "needs_background": "light"
          }
        }
      ]
    },
    {
      "cell_type": "code",
      "source": [
        "loss_list, opt = treinar(model, opt, Nepochs = 10, batch_size = 512, learning_rate = 1e-3,loss_list = loss_list,primeiro_treino =False)"
      ],
      "metadata": {
        "colab": {
          "base_uri": "https://localhost:8080/",
          "height": 625
        },
        "id": "Jh40CB-novMK",
        "outputId": "cc7bd687-1bd8-4ad1-97e0-011c05dfdceb"
      },
      "execution_count": null,
      "outputs": [
        {
          "output_type": "stream",
          "name": "stderr",
          "text": [
            "/usr/local/lib/python3.7/dist-packages/ipykernel_launcher.py:56: UserWarning: Implicit dimension choice for softmax has been deprecated. Change the call to include dim=X as an argument.\n"
          ]
        },
        {
          "output_type": "stream",
          "name": "stdout",
          "text": [
            "Epoch  1 |  loss:  0.9539639949798584\n",
            "Epoch  2 |  loss:  0.9651726484298706\n",
            "Epoch  3 |  loss:  0.9571718573570251\n",
            "Epoch  4 |  loss:  0.9673537611961365\n",
            "Epoch  5 |  loss:  0.9750551581382751\n",
            "Epoch  6 |  loss:  0.989728569984436\n",
            "Epoch  7 |  loss:  0.9633049964904785\n",
            "Epoch  8 |  loss:  0.956788182258606\n",
            "Epoch  9 |  loss:  0.9360411167144775\n",
            "Epoch  10 |  loss:  0.963960587978363\n"
          ]
        },
        {
          "output_type": "display_data",
          "data": {
            "text/plain": [
              "<Figure size 1008x432 with 1 Axes>"
            ],
            "image/png": "[encoded data removed]"
          },
          "metadata": {
            "needs_background": "light"
          }
        }
      ]
    },
    {
      "cell_type": "code",
      "source": [
        "loss_list, opt = treinar(model, opt, Nepochs = 15, batch_size = 512, learning_rate = 1e-3,loss_list = loss_list,primeiro_treino =False)"
      ],
      "metadata": {
        "id": "fQL33dtupxRr"
      },
      "execution_count": null,
      "outputs": []
    },
    {
      "cell_type": "code",
      "execution_count": null,
      "metadata": {
        "id": "4MhzySlAkXYW"
      },
      "outputs": [],
      "source": [
        "loss_list, opt = treinar(model, opt, Nepochs = 25,batch_size = 512, learning_rate = 1e-4,loss_list = loss_list,primeiro_treino =False)"
      ]
    },
    {
      "cell_type": "markdown",
      "metadata": {
        "id": "4GeT2TmPkXYW"
      },
      "source": [
        "### evaluation"
      ]
    },
    {
      "cell_type": "code",
      "execution_count": null,
      "metadata": {
        "id": "jCc_s-wAkXYW"
      },
      "outputs": [],
      "source": [
        "from sklearn.metrics import classification_report"
      ]
    },
    {
      "cell_type": "code",
      "source": [
        "X_train.shape"
      ],
      "metadata": {
        "colab": {
          "base_uri": "https://localhost:8080/"
        },
        "outputId": "7edbe54e-e29a-477e-ed92-0f26fdfbbf04",
        "id": "xfY-klwmkXYW"
      },
      "execution_count": null,
      "outputs": [
        {
          "output_type": "execute_result",
          "data": {
            "text/plain": [
              "(1723, 257, 257)"
            ]
          },
          "metadata": {},
          "execution_count": 36
        }
      ]
    },
    {
      "cell_type": "code",
      "execution_count": null,
      "metadata": {
        "colab": {
          "base_uri": "https://localhost:8080/"
        },
        "outputId": "335f6bd2-9dda-4f86-c500-86621ccb0af5",
        "id": "ujxMgh4ikXYW"
      },
      "outputs": [
        {
          "output_type": "stream",
          "name": "stdout",
          "text": [
            "training set\n",
            "              precision    recall  f1-score   support\n",
            "\n",
            "           0       0.95      0.90      0.92       308\n",
            "           1       0.97      0.98      0.97       511\n",
            "           2       0.96      0.95      0.95       311\n",
            "           3       0.96      0.97      0.96       243\n",
            "           4       0.93      0.95      0.94       350\n",
            "\n",
            "    accuracy                           0.95      1723\n",
            "   macro avg       0.95      0.95      0.95      1723\n",
            "weighted avg       0.95      0.95      0.95      1723\n",
            "\n",
            "----------------------------------------------------------------------------------------------------\n"
          ]
        },
        {
          "output_type": "stream",
          "name": "stderr",
          "text": [
            "/usr/local/lib/python3.7/dist-packages/ipykernel_launcher.py:56: UserWarning: Implicit dimension choice for softmax has been deprecated. Change the call to include dim=X as an argument.\n"
          ]
        }
      ],
      "source": [
        "# pode estourar memoria , talvez valha a pena avaliar em batches\n",
        "with torch.no_grad():\n",
        "    \n",
        "\n",
        "    y_pred = model(torch.tensor(X_train.reshape(-1,1,257,257)))\n",
        "    y_pred = y_pred.argmax(axis = 1)\n",
        "\n",
        "\n",
        "    print(\"training set\")\n",
        "    print(classification_report(y_train,y_pred))\n",
        "\n",
        "    print(\"-\"*100)\n",
        "    "
      ]
    },
    {
      "cell_type": "code",
      "execution_count": null,
      "metadata": {
        "colab": {
          "base_uri": "https://localhost:8080/"
        },
        "outputId": "3cd4610f-6205-4650-f91e-2b6fd16a54bc",
        "id": "HR0hzze5kXYW"
      },
      "outputs": [
        {
          "output_type": "stream",
          "name": "stdout",
          "text": [
            "test set\n",
            "              precision    recall  f1-score   support\n",
            "\n",
            "           0       0.94      0.84      0.89       108\n",
            "           1       0.95      0.92      0.94       154\n",
            "           2       0.86      0.92      0.89       103\n",
            "           3       0.94      0.97      0.95        97\n",
            "           4       0.89      0.94      0.91       113\n",
            "\n",
            "    accuracy                           0.92       575\n",
            "   macro avg       0.92      0.92      0.92       575\n",
            "weighted avg       0.92      0.92      0.92       575\n",
            "\n",
            "----------------------------------------------------------------------------------------------------\n"
          ]
        },
        {
          "output_type": "stream",
          "name": "stderr",
          "text": [
            "/usr/local/lib/python3.7/dist-packages/ipykernel_launcher.py:56: UserWarning: Implicit dimension choice for softmax has been deprecated. Change the call to include dim=X as an argument.\n"
          ]
        }
      ],
      "source": [
        "with torch.no_grad():\n",
        "    \n",
        "    y_pred = model(torch.tensor(X_test.reshape(-1,1,257,257)))\n",
        "    y_pred = y_pred.argmax(axis = 1)\n",
        "\n",
        "    print(\"test set\")\n",
        "    print(classification_report(y_test,y_pred))\n",
        "\n",
        "    print(\"-\"*100)\n",
        "    "
      ]
    },
    {
      "cell_type": "markdown",
      "source": [
        "#### save model"
      ],
      "metadata": {
        "id": "3q8edWaDEU4E"
      }
    },
    {
      "cell_type": "code",
      "source": [
        "torch.save(model,\"/content/drive/MyDrive/projeto deep/models/MediumNet.pt\" )"
      ],
      "metadata": {
        "id": "9QxR5mFhkXYW"
      },
      "execution_count": null,
      "outputs": []
    },
    {
      "cell_type": "code",
      "source": [
        "model_saved = torch.load(\"/content/drive/MyDrive/projeto deep/models/MediumNet.pt\")"
      ],
      "metadata": {
        "id": "_tXxxrVdD6fh"
      },
      "execution_count": null,
      "outputs": []
    },
    {
      "cell_type": "code",
      "source": [
        "y_pred = model_saved(torch.tensor(X_test.reshape(-1,1,257,257)))\n",
        "y_pred = y_pred.argmax(axis = 1)\n",
        "\n",
        "print(\"test set\")\n",
        "print(classification_report(y_test,y_pred))\n",
        "\n",
        "print(\"-\"*100)\n"
      ],
      "metadata": {
        "colab": {
          "base_uri": "https://localhost:8080/"
        },
        "id": "jJOUVyx2EDjF",
        "outputId": "23eeee02-169f-4721-c271-9f1b10c48877"
      },
      "execution_count": null,
      "outputs": [
        {
          "output_type": "stream",
          "name": "stdout",
          "text": [
            "test set\n",
            "              precision    recall  f1-score   support\n",
            "\n",
            "           0       0.91      0.91      0.91       108\n",
            "           1       0.97      0.89      0.93       154\n",
            "           2       0.82      0.94      0.87       103\n",
            "           3       0.95      0.95      0.95        97\n",
            "           4       0.93      0.90      0.91       113\n",
            "\n",
            "    accuracy                           0.91       575\n",
            "   macro avg       0.91      0.92      0.91       575\n",
            "weighted avg       0.92      0.91      0.92       575\n",
            "\n",
            "----------------------------------------------------------------------------------------------------\n"
          ]
        },
        {
          "output_type": "stream",
          "name": "stderr",
          "text": [
            "/usr/local/lib/python3.7/dist-packages/ipykernel_launcher.py:56: UserWarning: Implicit dimension choice for softmax has been deprecated. Change the call to include dim=X as an argument.\n"
          ]
        }
      ]
    },
    {
      "cell_type": "code",
      "source": [
        "del model_saved\n",
        "del y_pred"
      ],
      "metadata": {
        "id": "98safDwzEW5_"
      },
      "execution_count": null,
      "outputs": []
    },
    {
      "cell_type": "markdown",
      "source": [
        "## Big"
      ],
      "metadata": {
        "id": "H48-LFSFxxhW"
      }
    },
    {
      "cell_type": "markdown",
      "source": [
        "### treino"
      ],
      "metadata": {
        "id": "KR_dSaqixxhX"
      }
    },
    {
      "cell_type": "code",
      "source": [
        "num_classes = 5"
      ],
      "metadata": {
        "id": "34Z_V-6Zx5u9"
      },
      "execution_count": null,
      "outputs": []
    },
    {
      "cell_type": "code",
      "execution_count": null,
      "metadata": {
        "id": "GNv3XspyxxhX"
      },
      "outputs": [],
      "source": [
        "\n",
        "model = BigNet(num_classes)\n",
        "\n",
        "model.to('cuda')\n",
        "optimizer = torch.optim.Adam(model.parameters(), lr=1e-3)\n",
        "loss_fn = nn.CrossEntropyLoss()\n",
        "epochs = 120\n",
        "\n"
      ]
    },
    {
      "cell_type": "code",
      "execution_count": null,
      "metadata": {
        "colab": {
          "base_uri": "https://localhost:8080/",
          "height": 1000
        },
        "outputId": "9d7b5ae1-5a5d-4b72-8126-73ee1d795506",
        "id": "m_adKyyYxxhX"
      },
      "outputs": [
        {
          "output_type": "stream",
          "name": "stderr",
          "text": [
            "/usr/local/lib/python3.7/dist-packages/ipykernel_launcher.py:61: UserWarning: Implicit dimension choice for softmax has been deprecated. Change the call to include dim=X as an argument.\n"
          ]
        },
        {
          "output_type": "stream",
          "name": "stdout",
          "text": [
            "Epoch  0 |  loss:  1.606050968170166\n",
            "Epoch  1 |  loss:  1.593772530555725\n",
            "Epoch  2 |  loss:  1.5930622816085815\n",
            "Epoch  3 |  loss:  1.5954749584197998\n",
            "Epoch  4 |  loss:  1.5723451375961304\n",
            "Epoch  5 |  loss:  1.583828091621399\n",
            "Epoch  6 |  loss:  1.5559614896774292\n",
            "Epoch  7 |  loss:  1.5191618204116821\n",
            "Epoch  8 |  loss:  1.539949655532837\n",
            "Epoch  9 |  loss:  1.4474116563796997\n",
            "Epoch  10 |  loss:  1.4739187955856323\n",
            "Epoch  11 |  loss:  1.3936418294906616\n",
            "Epoch  12 |  loss:  1.3708287477493286\n",
            "Epoch  13 |  loss:  1.3735710382461548\n",
            "Epoch  14 |  loss:  1.3459947109222412\n",
            "Epoch  15 |  loss:  1.3145595788955688\n",
            "Epoch  16 |  loss:  1.2672992944717407\n",
            "Epoch  17 |  loss:  1.2849431037902832\n",
            "Epoch  18 |  loss:  1.254423975944519\n",
            "Epoch  19 |  loss:  1.1826210021972656\n",
            "Epoch  20 |  loss:  1.351274013519287\n",
            "Epoch  21 |  loss:  1.2048394680023193\n",
            "Epoch  22 |  loss:  1.2236698865890503\n",
            "Epoch  23 |  loss:  1.2064061164855957\n",
            "Epoch  24 |  loss:  1.1494977474212646\n",
            "Epoch  25 |  loss:  1.1529552936553955\n",
            "Epoch  26 |  loss:  1.1091398000717163\n",
            "Epoch  27 |  loss:  1.0987548828125\n",
            "Epoch  28 |  loss:  1.1760859489440918\n",
            "Epoch  29 |  loss:  1.1420570611953735\n",
            "Epoch  30 |  loss:  1.0730313062667847\n",
            "Epoch  31 |  loss:  1.1457515954971313\n",
            "Epoch  32 |  loss:  1.1651923656463623\n",
            "Epoch  33 |  loss:  1.1186603307724\n",
            "Epoch  34 |  loss:  1.1439377069473267\n",
            "Epoch  35 |  loss:  1.1102159023284912\n",
            "Epoch  36 |  loss:  1.1379812955856323\n",
            "Epoch  37 |  loss:  1.1215944290161133\n",
            "Epoch  38 |  loss:  1.1005853414535522\n",
            "Epoch  39 |  loss:  1.1806352138519287\n",
            "Epoch  40 |  loss:  1.1069855690002441\n",
            "Epoch  41 |  loss:  1.0752272605895996\n",
            "Epoch  42 |  loss:  1.0515927076339722\n",
            "Epoch  43 |  loss:  1.1282117366790771\n",
            "Epoch  44 |  loss:  1.0931476354599\n",
            "Epoch  45 |  loss:  1.0653504133224487\n",
            "Epoch  46 |  loss:  1.0807554721832275\n",
            "Epoch  47 |  loss:  1.0434612035751343\n",
            "Epoch  48 |  loss:  1.0609647035598755\n",
            "Epoch  49 |  loss:  1.096706748008728\n",
            "Epoch  50 |  loss:  1.0407178401947021\n",
            "Epoch  51 |  loss:  1.0584571361541748\n",
            "Epoch  52 |  loss:  1.0828791856765747\n",
            "Epoch  53 |  loss:  1.0779894590377808\n",
            "Epoch  54 |  loss:  1.082370400428772\n",
            "Epoch  55 |  loss:  1.112520456314087\n",
            "Epoch  56 |  loss:  1.0967880487442017\n",
            "Epoch  57 |  loss:  1.1460810899734497\n",
            "Epoch  58 |  loss:  1.0733168125152588\n",
            "Epoch  59 |  loss:  1.095556378364563\n",
            "Epoch  60 |  loss:  1.0359101295471191\n",
            "Epoch  61 |  loss:  1.0925956964492798\n",
            "Epoch  62 |  loss:  1.035593032836914\n",
            "Epoch  63 |  loss:  1.0574299097061157\n",
            "Epoch  64 |  loss:  1.041076898574829\n",
            "Epoch  65 |  loss:  0.9699113368988037\n",
            "Epoch  66 |  loss:  1.019534707069397\n",
            "Epoch  67 |  loss:  1.0319243669509888\n",
            "Epoch  68 |  loss:  1.0428487062454224\n",
            "Epoch  69 |  loss:  0.9720762968063354\n",
            "Epoch  70 |  loss:  1.006065011024475\n",
            "Epoch  71 |  loss:  0.9844349026679993\n",
            "Epoch  72 |  loss:  1.0439082384109497\n",
            "Epoch  73 |  loss:  0.9920427799224854\n",
            "Epoch  74 |  loss:  1.0108429193496704\n",
            "Epoch  75 |  loss:  1.0121474266052246\n",
            "Epoch  76 |  loss:  0.9923045039176941\n",
            "Epoch  77 |  loss:  0.9627357721328735\n",
            "Epoch  78 |  loss:  0.9863954782485962\n",
            "Epoch  79 |  loss:  0.9759363532066345\n",
            "Epoch  80 |  loss:  1.014218807220459\n",
            "Epoch  81 |  loss:  0.9972866773605347\n",
            "Epoch  82 |  loss:  0.97574782371521\n",
            "Epoch  83 |  loss:  0.98997962474823\n",
            "Epoch  84 |  loss:  0.9670212864875793\n",
            "Epoch  85 |  loss:  0.9567215442657471\n",
            "Epoch  86 |  loss:  0.9539515972137451\n",
            "Epoch  87 |  loss:  0.9728307127952576\n",
            "Epoch  88 |  loss:  0.9803193807601929\n",
            "Epoch  89 |  loss:  0.9597370624542236\n",
            "Epoch  90 |  loss:  0.9762465953826904\n",
            "Epoch  91 |  loss:  0.9672647714614868\n",
            "Epoch  92 |  loss:  0.9608280062675476\n",
            "Epoch  93 |  loss:  0.9523016810417175\n",
            "Epoch  94 |  loss:  0.9858479499816895\n",
            "Epoch  95 |  loss:  0.9283043742179871\n",
            "Epoch  96 |  loss:  0.958856463432312\n",
            "Epoch  97 |  loss:  0.960933268070221\n",
            "Epoch  98 |  loss:  0.9408539533615112\n",
            "Epoch  99 |  loss:  0.9665849208831787\n",
            "Epoch  100 |  loss:  0.9777825474739075\n",
            "Epoch  101 |  loss:  0.9675767421722412\n",
            "Epoch  102 |  loss:  0.9512197375297546\n",
            "Epoch  103 |  loss:  0.9338657855987549\n",
            "Epoch  104 |  loss:  0.9682744741439819\n",
            "Epoch  105 |  loss:  0.9470422267913818\n",
            "Epoch  106 |  loss:  0.9325510859489441\n",
            "Epoch  107 |  loss:  0.9424012899398804\n",
            "Epoch  108 |  loss:  0.9175246953964233\n",
            "Epoch  109 |  loss:  0.9460181593894958\n",
            "Epoch  110 |  loss:  0.9510097503662109\n",
            "Epoch  111 |  loss:  0.9397350549697876\n",
            "Epoch  112 |  loss:  0.9330596327781677\n",
            "Epoch  113 |  loss:  0.955084502696991\n",
            "Epoch  114 |  loss:  0.9575082659721375\n",
            "Epoch  115 |  loss:  0.9499260783195496\n",
            "Epoch  116 |  loss:  0.9476292729377747\n",
            "Epoch  117 |  loss:  0.9380333423614502\n",
            "Epoch  118 |  loss:  0.9318909645080566\n",
            "Epoch  119 |  loss:  0.9316484928131104\n",
            "Epoch  120 |  loss:  0.9338241815567017\n"
          ]
        },
        {
          "output_type": "execute_result",
          "data": {
            "text/plain": [
              "Text(0, 0.5, 'cost')"
            ]
          },
          "metadata": {},
          "execution_count": 46
        },
        {
          "output_type": "display_data",
          "data": {
            "text/plain": [
              "<Figure size 1008x432 with 1 Axes>"
            ],
            "image/png": "[encoded data removed]"
          },
          "metadata": {
            "needs_background": "light"
          }
        }
      ],
      "source": [
        "# loss inicial\n",
        "for X_batch,y_batch in train_dataloader:\n",
        "    \n",
        "    y_pred = model(X_batch.float())\n",
        "    loss = loss_fn(y_pred, y_batch.float())\n",
        "    break\n",
        "\n",
        "loss_list = [loss.item()]\n",
        "print (\"Epoch \",0,\"|  loss: \", loss.item())\n",
        "optimizer.zero_grad() # Zero gradients\n",
        "\n",
        "for epoch in range(1, epochs+1):\n",
        "    for X_batch,y_batch in train_dataloader:\n",
        "        y_pred = model(X_batch.float())            # prediction\n",
        "\n",
        "        loss = loss_fn(y_pred, y_batch.float())     # loss calculation\n",
        "        \n",
        "        optimizer.zero_grad() # Zero gradients\n",
        "        loss.backward()       # Gradients\n",
        "        optimizer.step()      # Update\n",
        "\n",
        "    print (\"Epoch \",epoch,\"|  loss: \", loss.item())\n",
        "        \n",
        "    \n",
        "    loss_list.append(loss.item())\n",
        "\n",
        "plt.figure(figsize = (14,6))\n",
        "plt.title(\"cost decay\")\n",
        "plt.plot(loss_list)\n",
        "plt.xlabel(\"epoch\")\n",
        "plt.ylabel(\"cost\")"
      ]
    },
    {
      "cell_type": "markdown",
      "metadata": {
        "id": "_lsXot32xxhY"
      },
      "source": [
        "### evaluation"
      ]
    },
    {
      "cell_type": "code",
      "execution_count": null,
      "metadata": {
        "id": "_iEmgKRXxxhY"
      },
      "outputs": [],
      "source": [
        "from sklearn.metrics import classification_report"
      ]
    },
    {
      "cell_type": "code",
      "source": [
        "X_train.shape"
      ],
      "metadata": {
        "colab": {
          "base_uri": "https://localhost:8080/"
        },
        "outputId": "9ed2330d-05a5-41e0-b17f-91cccf4c685b",
        "id": "Zx1_QfcSxxhY"
      },
      "execution_count": null,
      "outputs": [
        {
          "output_type": "execute_result",
          "data": {
            "text/plain": [
              "(1723, 257, 257)"
            ]
          },
          "metadata": {},
          "execution_count": 52
        }
      ]
    },
    {
      "cell_type": "code",
      "execution_count": null,
      "metadata": {
        "colab": {
          "base_uri": "https://localhost:8080/"
        },
        "outputId": "8710e56a-1257-49fe-f35e-36464b69b409",
        "id": "YNHgil45xxhZ"
      },
      "outputs": [
        {
          "output_type": "stream",
          "name": "stderr",
          "text": [
            "/usr/local/lib/python3.7/dist-packages/ipykernel_launcher.py:61: UserWarning: Implicit dimension choice for softmax has been deprecated. Change the call to include dim=X as an argument.\n"
          ]
        },
        {
          "output_type": "stream",
          "name": "stdout",
          "text": [
            "training set\n",
            "              precision    recall  f1-score   support\n",
            "\n",
            "           0       0.96      0.97      0.96       326\n",
            "           1       0.97      0.99      0.98       481\n",
            "           2       0.97      0.95      0.96       310\n",
            "           3       0.99      1.00      0.99       256\n",
            "           4       0.97      0.95      0.96       350\n",
            "\n",
            "    accuracy                           0.97      1723\n",
            "   macro avg       0.97      0.97      0.97      1723\n",
            "weighted avg       0.97      0.97      0.97      1723\n",
            "\n",
            "----------------------------------------------------------------------------------------------------\n"
          ]
        }
      ],
      "source": [
        "with torch.no_grad():\n",
        "    \n",
        "\n",
        "    y_pred = model(torch.tensor(X_train.reshape(-1,1,257,257)).cuda())\n",
        "    y_pred = y_pred.cpu().detach().numpy().argmax(axis = 1)\n",
        "\n",
        "\n",
        "    print(\"training set\")\n",
        "    print(classification_report(y_train,y_pred))\n",
        "\n",
        "    print(\"-\"*100)\n",
        "    "
      ]
    },
    {
      "cell_type": "code",
      "execution_count": null,
      "metadata": {
        "colab": {
          "base_uri": "https://localhost:8080/"
        },
        "outputId": "fd1d4631-b3a7-4509-e79b-52de6fcae309",
        "id": "qIFS_8KixxhZ"
      },
      "outputs": [
        {
          "output_type": "stream",
          "name": "stdout",
          "text": [
            "test set\n",
            "              precision    recall  f1-score   support\n",
            "\n",
            "           0       0.72      0.78      0.75        90\n",
            "           1       0.94      0.90      0.92       184\n",
            "           2       0.79      0.86      0.82       104\n",
            "           3       0.91      0.94      0.92        84\n",
            "           4       0.81      0.73      0.77       113\n",
            "\n",
            "    accuracy                           0.85       575\n",
            "   macro avg       0.83      0.84      0.84       575\n",
            "weighted avg       0.85      0.85      0.85       575\n",
            "\n",
            "----------------------------------------------------------------------------------------------------\n"
          ]
        },
        {
          "output_type": "stream",
          "name": "stderr",
          "text": [
            "/usr/local/lib/python3.7/dist-packages/ipykernel_launcher.py:61: UserWarning: Implicit dimension choice for softmax has been deprecated. Change the call to include dim=X as an argument.\n"
          ]
        }
      ],
      "source": [
        "with torch.no_grad():\n",
        "    \n",
        "    y_pred = model(torch.tensor(X_test.reshape(-1,1,257,257)).cuda())\n",
        "    y_pred = y_pred.cpu().detach().numpy().argmax(axis = 1)\n",
        "\n",
        "    print(\"test set\")\n",
        "    print(classification_report(y_test,y_pred))\n",
        "\n",
        "    print(\"-\"*100)\n",
        "    "
      ]
    },
    {
      "cell_type": "code",
      "source": [],
      "metadata": {
        "id": "OBMgXiuVxxhZ"
      },
      "execution_count": null,
      "outputs": []
    },
    {
      "cell_type": "markdown",
      "source": [
        "## BigNet drop"
      ],
      "metadata": {
        "id": "b7bpEABLGFmS"
      }
    },
    {
      "cell_type": "markdown",
      "source": [
        "### treino"
      ],
      "metadata": {
        "id": "DkJqQHtKHbcI"
      }
    },
    {
      "cell_type": "code",
      "source": [
        "num_classes = 5"
      ],
      "metadata": {
        "id": "Wg6Iglv-HbcL"
      },
      "execution_count": null,
      "outputs": []
    },
    {
      "cell_type": "code",
      "execution_count": null,
      "metadata": {
        "id": "DKLCu2ryHbcN"
      },
      "outputs": [],
      "source": [
        "model = BigNet_drop(num_classes)\n",
        "\n",
        "model.to('cuda')\n",
        "optimizer = torch.optim.Adam(model.parameters(), lr=1e-3)\n",
        "loss_fn = nn.CrossEntropyLoss()\n",
        "epochs = 150\n",
        "\n"
      ]
    },
    {
      "cell_type": "code",
      "execution_count": null,
      "metadata": {
        "colab": {
          "base_uri": "https://localhost:8080/",
          "height": 1000
        },
        "outputId": "c5cff5bc-0178-480c-c7cd-4ae3dc419d20",
        "id": "VGT1WYixHbcP"
      },
      "outputs": [
        {
          "output_type": "stream",
          "name": "stderr",
          "text": [
            "/usr/local/lib/python3.7/dist-packages/ipykernel_launcher.py:64: UserWarning: Implicit dimension choice for softmax has been deprecated. Change the call to include dim=X as an argument.\n"
          ]
        },
        {
          "output_type": "stream",
          "name": "stdout",
          "text": [
            "Epoch  0 |  loss:  1.6108776330947876\n",
            "Epoch  1 |  loss:  1.6003451347351074\n",
            "Epoch  2 |  loss:  1.589573860168457\n",
            "Epoch  3 |  loss:  1.5868858098983765\n",
            "Epoch  4 |  loss:  1.5862960815429688\n",
            "Epoch  5 |  loss:  1.589321255683899\n",
            "Epoch  6 |  loss:  1.5823472738265991\n",
            "Epoch  7 |  loss:  1.5580692291259766\n",
            "Epoch  8 |  loss:  1.5880581140518188\n",
            "Epoch  9 |  loss:  1.5893434286117554\n",
            "Epoch  10 |  loss:  1.5934243202209473\n",
            "Epoch  11 |  loss:  1.5649421215057373\n",
            "Epoch  12 |  loss:  1.578439474105835\n",
            "Epoch  13 |  loss:  1.5762076377868652\n",
            "Epoch  14 |  loss:  1.5721536874771118\n",
            "Epoch  15 |  loss:  1.5704299211502075\n",
            "Epoch  16 |  loss:  1.514588713645935\n",
            "Epoch  17 |  loss:  1.5065836906433105\n",
            "Epoch  18 |  loss:  1.504801869392395\n",
            "Epoch  19 |  loss:  1.3994979858398438\n",
            "Epoch  20 |  loss:  1.3922079801559448\n",
            "Epoch  21 |  loss:  1.4226306676864624\n",
            "Epoch  22 |  loss:  1.3758653402328491\n",
            "Epoch  23 |  loss:  1.3865286111831665\n",
            "Epoch  24 |  loss:  1.3957594633102417\n",
            "Epoch  25 |  loss:  1.3309873342514038\n",
            "Epoch  26 |  loss:  1.3668686151504517\n",
            "Epoch  27 |  loss:  1.2917104959487915\n",
            "Epoch  28 |  loss:  1.2882561683654785\n",
            "Epoch  29 |  loss:  1.2898520231246948\n",
            "Epoch  30 |  loss:  1.2888305187225342\n",
            "Epoch  31 |  loss:  1.1920915842056274\n",
            "Epoch  32 |  loss:  1.2917776107788086\n",
            "Epoch  33 |  loss:  1.3339266777038574\n",
            "Epoch  34 |  loss:  1.317134141921997\n",
            "Epoch  35 |  loss:  1.3535757064819336\n",
            "Epoch  36 |  loss:  1.2516014575958252\n",
            "Epoch  37 |  loss:  1.239938735961914\n",
            "Epoch  38 |  loss:  1.214622974395752\n",
            "Epoch  39 |  loss:  1.2121169567108154\n",
            "Epoch  40 |  loss:  1.22625732421875\n",
            "Epoch  41 |  loss:  1.244610071182251\n",
            "Epoch  42 |  loss:  1.247840404510498\n",
            "Epoch  43 |  loss:  1.2177648544311523\n",
            "Epoch  44 |  loss:  1.1946539878845215\n",
            "Epoch  45 |  loss:  1.2861802577972412\n",
            "Epoch  46 |  loss:  1.3061968088150024\n",
            "Epoch  47 |  loss:  1.21573007106781\n",
            "Epoch  48 |  loss:  1.2135738134384155\n",
            "Epoch  49 |  loss:  1.2303040027618408\n",
            "Epoch  50 |  loss:  1.166235089302063\n",
            "Epoch  51 |  loss:  1.136509895324707\n",
            "Epoch  52 |  loss:  1.0697317123413086\n",
            "Epoch  53 |  loss:  1.116024136543274\n",
            "Epoch  54 |  loss:  1.1161229610443115\n",
            "Epoch  55 |  loss:  1.0918097496032715\n",
            "Epoch  56 |  loss:  1.1070997714996338\n",
            "Epoch  57 |  loss:  1.0334179401397705\n",
            "Epoch  58 |  loss:  1.0588359832763672\n",
            "Epoch  59 |  loss:  1.030724287033081\n",
            "Epoch  60 |  loss:  1.0622121095657349\n",
            "Epoch  61 |  loss:  1.0480374097824097\n",
            "Epoch  62 |  loss:  1.0654066801071167\n",
            "Epoch  63 |  loss:  1.0375852584838867\n",
            "Epoch  64 |  loss:  1.077673077583313\n",
            "Epoch  65 |  loss:  1.0708749294281006\n",
            "Epoch  66 |  loss:  1.070472002029419\n",
            "Epoch  67 |  loss:  1.0044347047805786\n",
            "Epoch  68 |  loss:  0.9975141286849976\n",
            "Epoch  69 |  loss:  0.991344153881073\n",
            "Epoch  70 |  loss:  0.9881117343902588\n",
            "Epoch  71 |  loss:  0.9785784482955933\n",
            "Epoch  72 |  loss:  0.9746968746185303\n",
            "Epoch  73 |  loss:  0.9910154342651367\n",
            "Epoch  74 |  loss:  1.0819851160049438\n",
            "Epoch  75 |  loss:  1.0185151100158691\n",
            "Epoch  76 |  loss:  1.010873794555664\n",
            "Epoch  77 |  loss:  1.0078243017196655\n",
            "Epoch  78 |  loss:  0.9838833212852478\n",
            "Epoch  79 |  loss:  0.9678271412849426\n",
            "Epoch  80 |  loss:  0.9969208240509033\n",
            "Epoch  81 |  loss:  0.970138669013977\n",
            "Epoch  82 |  loss:  0.9602543115615845\n",
            "Epoch  83 |  loss:  0.9599599838256836\n",
            "Epoch  84 |  loss:  0.944112241268158\n",
            "Epoch  85 |  loss:  0.9863685965538025\n",
            "Epoch  86 |  loss:  0.9934572577476501\n",
            "Epoch  87 |  loss:  0.9450352787971497\n",
            "Epoch  88 |  loss:  0.9600064158439636\n",
            "Epoch  89 |  loss:  0.9563521146774292\n",
            "Epoch  90 |  loss:  0.9821823239326477\n",
            "Epoch  91 |  loss:  0.9318253993988037\n",
            "Epoch  92 |  loss:  0.9514831900596619\n",
            "Epoch  93 |  loss:  0.9668755531311035\n",
            "Epoch  94 |  loss:  0.9382848143577576\n",
            "Epoch  95 |  loss:  0.9417213797569275\n",
            "Epoch  96 |  loss:  0.9336501359939575\n",
            "Epoch  97 |  loss:  0.9540175199508667\n",
            "Epoch  98 |  loss:  0.9376452565193176\n",
            "Epoch  99 |  loss:  0.9256117939949036\n",
            "Epoch  100 |  loss:  0.9346979260444641\n",
            "Epoch  101 |  loss:  0.9437304735183716\n",
            "Epoch  102 |  loss:  0.9489696621894836\n",
            "Epoch  103 |  loss:  0.9516596794128418\n",
            "Epoch  104 |  loss:  0.9268274307250977\n",
            "Epoch  105 |  loss:  0.9402467608451843\n",
            "Epoch  106 |  loss:  0.9397785663604736\n",
            "Epoch  107 |  loss:  0.9440555572509766\n",
            "Epoch  108 |  loss:  0.9523856043815613\n",
            "Epoch  109 |  loss:  0.9932472109794617\n",
            "Epoch  110 |  loss:  0.9600136876106262\n",
            "Epoch  111 |  loss:  0.9530746936798096\n",
            "Epoch  112 |  loss:  0.9338005185127258\n",
            "Epoch  113 |  loss:  0.9336196184158325\n",
            "Epoch  114 |  loss:  0.9182022213935852\n",
            "Epoch  115 |  loss:  0.9178280830383301\n",
            "Epoch  116 |  loss:  0.9421266317367554\n",
            "Epoch  117 |  loss:  0.9184651970863342\n",
            "Epoch  118 |  loss:  1.034645915031433\n",
            "Epoch  119 |  loss:  0.9491123557090759\n",
            "Epoch  120 |  loss:  0.9545479416847229\n",
            "Epoch  121 |  loss:  0.9160104393959045\n",
            "Epoch  122 |  loss:  0.9449605345726013\n",
            "Epoch  123 |  loss:  0.9259123206138611\n",
            "Epoch  124 |  loss:  0.9452821612358093\n",
            "Epoch  125 |  loss:  0.9211310148239136\n",
            "Epoch  126 |  loss:  0.9156619310379028\n",
            "Epoch  127 |  loss:  0.9438915848731995\n",
            "Epoch  128 |  loss:  0.9424095749855042\n",
            "Epoch  129 |  loss:  0.9209474921226501\n",
            "Epoch  130 |  loss:  0.9261820912361145\n",
            "Epoch  131 |  loss:  0.9213700890541077\n",
            "Epoch  132 |  loss:  0.9224605560302734\n",
            "Epoch  133 |  loss:  0.925084114074707\n",
            "Epoch  134 |  loss:  0.9278249740600586\n",
            "Epoch  135 |  loss:  0.921483039855957\n",
            "Epoch  136 |  loss:  0.9278467297554016\n",
            "Epoch  137 |  loss:  0.9218719005584717\n",
            "Epoch  138 |  loss:  0.9368442296981812\n",
            "Epoch  139 |  loss:  0.9320236444473267\n",
            "Epoch  140 |  loss:  0.91021728515625\n",
            "Epoch  141 |  loss:  0.9208945631980896\n",
            "Epoch  142 |  loss:  0.9155489206314087\n",
            "Epoch  143 |  loss:  0.9209047555923462\n",
            "Epoch  144 |  loss:  0.9316025972366333\n",
            "Epoch  145 |  loss:  0.947433352470398\n",
            "Epoch  146 |  loss:  0.9180582761764526\n",
            "Epoch  147 |  loss:  0.9155605435371399\n",
            "Epoch  148 |  loss:  0.9266246557235718\n",
            "Epoch  149 |  loss:  0.9240902066230774\n",
            "Epoch  150 |  loss:  0.9263529181480408\n"
          ]
        },
        {
          "output_type": "execute_result",
          "data": {
            "text/plain": [
              "Text(0, 0.5, 'cost')"
            ]
          },
          "metadata": {},
          "execution_count": 76
        },
        {
          "output_type": "display_data",
          "data": {
            "text/plain": [
              "<Figure size 1008x432 with 1 Axes>"
            ],
            "image/png": "[encoded data removed]"
          },
          "metadata": {
            "needs_background": "light"
          }
        }
      ],
      "source": [
        "# loss inicial\n",
        "for X_batch,y_batch in train_dataloader:\n",
        "    \n",
        "    y_pred = model(X_batch.float())\n",
        "    loss = loss_fn(y_pred, y_batch.float())\n",
        "    break\n",
        "\n",
        "loss_list = [loss.item()]\n",
        "print (\"Epoch \",0,\"|  loss: \", loss.item())\n",
        "optimizer.zero_grad() # Zero gradients\n",
        "\n",
        "for epoch in range(1, epochs+1):\n",
        "    for X_batch,y_batch in train_dataloader:\n",
        "        y_pred = model(X_batch.float())            # prediction\n",
        "\n",
        "        loss = loss_fn(y_pred, y_batch.float())     # loss calculation\n",
        "        \n",
        "        optimizer.zero_grad() # Zero gradients\n",
        "        loss.backward()       # Gradients\n",
        "        optimizer.step()      # Update\n",
        "\n",
        "    print (\"Epoch \",epoch,\"|  loss: \", loss.item())\n",
        "        \n",
        "    \n",
        "    loss_list.append(loss.item())\n",
        "\n",
        "plt.figure(figsize = (14,6))\n",
        "plt.title(\"cost decay\")\n",
        "plt.plot(loss_list)\n",
        "plt.xlabel(\"epoch\")\n",
        "plt.ylabel(\"cost\")"
      ]
    },
    {
      "cell_type": "markdown",
      "metadata": {
        "id": "eEr5wDQ_HbcS"
      },
      "source": [
        "### evaluation"
      ]
    },
    {
      "cell_type": "code",
      "execution_count": null,
      "metadata": {
        "id": "11S1ZuA4HbcT"
      },
      "outputs": [],
      "source": [
        "from sklearn.metrics import classification_report"
      ]
    },
    {
      "cell_type": "code",
      "source": [
        "X_train.shape"
      ],
      "metadata": {
        "colab": {
          "base_uri": "https://localhost:8080/"
        },
        "outputId": "16149a8a-ef76-43f2-99b0-2250391a3493",
        "id": "yyWRe3DJHbcU"
      },
      "execution_count": null,
      "outputs": [
        {
          "output_type": "execute_result",
          "data": {
            "text/plain": [
              "(1723, 257, 257)"
            ]
          },
          "metadata": {},
          "execution_count": 78
        }
      ]
    },
    {
      "cell_type": "code",
      "execution_count": null,
      "metadata": {
        "colab": {
          "base_uri": "https://localhost:8080/"
        },
        "outputId": "a55d6ccc-2bb2-4cc4-e446-d8bf31c76b14",
        "id": "0wkmGI2ZHbcW"
      },
      "outputs": [
        {
          "output_type": "stream",
          "name": "stderr",
          "text": [
            "/usr/local/lib/python3.7/dist-packages/ipykernel_launcher.py:64: UserWarning: Implicit dimension choice for softmax has been deprecated. Change the call to include dim=X as an argument.\n"
          ]
        },
        {
          "output_type": "stream",
          "name": "stdout",
          "text": [
            "training set\n",
            "              precision    recall  f1-score   support\n",
            "\n",
            "           0       0.99      0.97      0.98       326\n",
            "           1       0.99      0.99      0.99       481\n",
            "           2       0.98      0.97      0.98       310\n",
            "           3       0.98      0.98      0.98       256\n",
            "           4       0.97      0.98      0.97       350\n",
            "\n",
            "    accuracy                           0.98      1723\n",
            "   macro avg       0.98      0.98      0.98      1723\n",
            "weighted avg       0.98      0.98      0.98      1723\n",
            "\n",
            "----------------------------------------------------------------------------------------------------\n"
          ]
        }
      ],
      "source": [
        "with torch.no_grad():\n",
        "    \n",
        "\n",
        "    y_pred = model(torch.tensor(X_train.reshape(-1,1,257,257)).cuda())\n",
        "    y_pred = y_pred.cpu().detach().numpy().argmax(axis = 1)\n",
        "\n",
        "\n",
        "    print(\"training set\")\n",
        "    print(classification_report(y_train,y_pred))\n",
        "\n",
        "    print(\"-\"*100)\n",
        "    "
      ]
    },
    {
      "cell_type": "code",
      "execution_count": null,
      "metadata": {
        "colab": {
          "base_uri": "https://localhost:8080/"
        },
        "outputId": "2d6ae6cf-bd38-4779-f4ba-42ab2ebbcf65",
        "id": "_TN7VE_KHbcY"
      },
      "outputs": [
        {
          "output_type": "stream",
          "name": "stdout",
          "text": [
            "test set\n",
            "              precision    recall  f1-score   support\n",
            "\n",
            "           0       0.70      0.56      0.62        90\n",
            "           1       0.90      0.94      0.92       184\n",
            "           2       0.85      0.79      0.82       104\n",
            "           3       0.83      0.95      0.89        84\n",
            "           4       0.72      0.76      0.74       113\n",
            "\n",
            "    accuracy                           0.82       575\n",
            "   macro avg       0.80      0.80      0.80       575\n",
            "weighted avg       0.82      0.82      0.81       575\n",
            "\n",
            "----------------------------------------------------------------------------------------------------\n"
          ]
        },
        {
          "output_type": "stream",
          "name": "stderr",
          "text": [
            "/usr/local/lib/python3.7/dist-packages/ipykernel_launcher.py:64: UserWarning: Implicit dimension choice for softmax has been deprecated. Change the call to include dim=X as an argument.\n"
          ]
        }
      ],
      "source": [
        "with torch.no_grad():\n",
        "    \n",
        "    y_pred = model(torch.tensor(X_test.reshape(-1,1,257,257)).cuda())\n",
        "    y_pred = y_pred.cpu().detach().numpy().argmax(axis = 1)\n",
        "\n",
        "    print(\"test set\")\n",
        "    print(classification_report(y_test,y_pred))\n",
        "\n",
        "    print(\"-\"*100)\n",
        "    "
      ]
    },
    {
      "cell_type": "code",
      "source": [],
      "metadata": {
        "id": "-UgX4YoqHbca"
      },
      "execution_count": null,
      "outputs": []
    },
    {
      "cell_type": "markdown",
      "source": [
        "## Batch Norm"
      ],
      "metadata": {
        "id": "hEwbj0w3K9Bx"
      }
    },
    {
      "cell_type": "markdown",
      "source": [
        "### treino"
      ],
      "metadata": {
        "id": "8w7S-7XaLAhE"
      }
    },
    {
      "cell_type": "code",
      "source": [
        "num_classes = 5"
      ],
      "metadata": {
        "id": "gu-SJLUmLAhG"
      },
      "execution_count": null,
      "outputs": []
    },
    {
      "cell_type": "code",
      "source": [
        "train_dataloader = DataLoader(Dataset_desc(torch.tensor(X_train.reshape(-1,1,257,257)),\n",
        "                                           F.one_hot(torch.tensor(y_train).long())\n",
        "                                           ),\n",
        "                            batch_size = 256,\n",
        "                            shuffle=True)\n",
        "test_dataloader  = DataLoader(Dataset_desc(torch.tensor(X_test.reshape(-1,1,257,257 )),\n",
        "                                            F.one_hot(torch.tensor(y_test).long()))\n",
        "                             )"
      ],
      "metadata": {
        "id": "PDeBvq_EMhLp"
      },
      "execution_count": null,
      "outputs": []
    },
    {
      "cell_type": "code",
      "execution_count": null,
      "metadata": {
        "id": "_nXjtBitLAhH"
      },
      "outputs": [],
      "source": [
        "model = BigNet_batch(num_classes)\n",
        "\n",
        "model.to('cpu')\n",
        "optimizer = torch.optim.Adam(model.parameters(), lr=1e-3)\n",
        "loss_fn = nn.CrossEntropyLoss()\n",
        "epochs = 50\n",
        "\n"
      ]
    },
    {
      "cell_type": "code",
      "execution_count": null,
      "metadata": {
        "colab": {
          "base_uri": "https://localhost:8080/",
          "height": 1000
        },
        "outputId": "824a8b9f-9373-4956-943b-2a17a594eed5",
        "id": "w_dmx4HlLAhI"
      },
      "outputs": [
        {
          "output_type": "stream",
          "name": "stderr",
          "text": [
            "/usr/local/lib/python3.7/dist-packages/ipykernel_launcher.py:64: UserWarning: Implicit dimension choice for softmax has been deprecated. Change the call to include dim=X as an argument.\n"
          ]
        },
        {
          "output_type": "stream",
          "name": "stdout",
          "text": [
            "Epoch  0 |  loss:  1.6104451417922974\n",
            "Epoch  1 |  loss:  1.605513095855713\n",
            "Epoch  2 |  loss:  1.593361735343933\n",
            "Epoch  3 |  loss:  1.539698839187622\n",
            "Epoch  4 |  loss:  1.4165349006652832\n",
            "Epoch  5 |  loss:  1.369248867034912\n",
            "Epoch  6 |  loss:  1.3148521184921265\n",
            "Epoch  7 |  loss:  1.2241491079330444\n",
            "Epoch  8 |  loss:  1.2540274858474731\n",
            "Epoch  9 |  loss:  1.1754264831542969\n",
            "Epoch  10 |  loss:  1.190875768661499\n",
            "Epoch  11 |  loss:  1.1673191785812378\n",
            "Epoch  12 |  loss:  1.1566929817199707\n",
            "Epoch  13 |  loss:  1.0836620330810547\n",
            "Epoch  14 |  loss:  0.9985278844833374\n",
            "Epoch  15 |  loss:  0.9788411855697632\n",
            "Epoch  16 |  loss:  0.9695374965667725\n",
            "Epoch  17 |  loss:  0.9493147730827332\n",
            "Epoch  18 |  loss:  0.9334836602210999\n",
            "Epoch  19 |  loss:  0.9225174784660339\n",
            "Epoch  20 |  loss:  0.9162343740463257\n",
            "Epoch  21 |  loss:  0.9323137998580933\n",
            "Epoch  22 |  loss:  0.9133443832397461\n",
            "Epoch  23 |  loss:  0.9113703370094299\n",
            "Epoch  24 |  loss:  0.9344643354415894\n",
            "Epoch  25 |  loss:  0.9119403958320618\n",
            "Epoch  26 |  loss:  0.905754029750824\n",
            "Epoch  27 |  loss:  0.9173080325126648\n",
            "Epoch  28 |  loss:  0.9122955799102783\n",
            "Epoch  29 |  loss:  0.9268338084220886\n",
            "Epoch  30 |  loss:  0.9107758402824402\n",
            "Epoch  31 |  loss:  0.9113979339599609\n",
            "Epoch  32 |  loss:  0.9051639437675476\n",
            "Epoch  33 |  loss:  0.9214891195297241\n",
            "Epoch  34 |  loss:  0.9109317660331726\n",
            "Epoch  35 |  loss:  0.9111226201057434\n",
            "Epoch  36 |  loss:  0.916761577129364\n",
            "Epoch  37 |  loss:  0.9138455986976624\n",
            "Epoch  38 |  loss:  0.9105619788169861\n",
            "Epoch  39 |  loss:  0.906614363193512\n",
            "Epoch  40 |  loss:  0.9251525402069092\n",
            "Epoch  41 |  loss:  0.9164423942565918\n",
            "Epoch  42 |  loss:  0.90608149766922\n",
            "Epoch  43 |  loss:  0.9189291596412659\n",
            "Epoch  44 |  loss:  0.9299954771995544\n",
            "Epoch  45 |  loss:  0.9182010293006897\n",
            "Epoch  46 |  loss:  0.9182485342025757\n",
            "Epoch  47 |  loss:  0.917961597442627\n",
            "Epoch  48 |  loss:  0.9173988699913025\n",
            "Epoch  49 |  loss:  0.9129379391670227\n",
            "Epoch  50 |  loss:  0.9158879518508911\n"
          ]
        },
        {
          "output_type": "execute_result",
          "data": {
            "text/plain": [
              "Text(0, 0.5, 'cost')"
            ]
          },
          "metadata": {},
          "execution_count": 25
        },
        {
          "output_type": "display_data",
          "data": {
            "text/plain": [
              "<Figure size 1008x432 with 1 Axes>"
            ],
            "image/png": "[encoded data removed]"
          },
          "metadata": {
            "needs_background": "light"
          }
        }
      ],
      "source": [
        "# loss inicial\n",
        "for X_batch,y_batch in train_dataloader:\n",
        "    \n",
        "    y_pred = model(X_batch.float())\n",
        "    loss = loss_fn(y_pred, y_batch.float())\n",
        "    break\n",
        "\n",
        "loss_list = [loss.item()]\n",
        "print (\"Epoch \",0,\"|  loss: \", loss.item())\n",
        "optimizer.zero_grad() # Zero gradients\n",
        "\n",
        "for epoch in range(1, epochs+1):\n",
        "    for X_batch,y_batch in train_dataloader:\n",
        "        y_pred = model(X_batch.float())            # prediction\n",
        "\n",
        "        loss = loss_fn(y_pred, y_batch.float())     # loss calculation\n",
        "        \n",
        "        optimizer.zero_grad() # Zero gradients\n",
        "        loss.backward()       # Gradients\n",
        "        optimizer.step()      # Update\n",
        "\n",
        "    print (\"Epoch \",epoch,\"|  loss: \", loss.item())\n",
        "        \n",
        "    \n",
        "    loss_list.append(loss.item())\n",
        "\n",
        "plt.figure(figsize = (14,6))\n",
        "plt.title(\"cost decay\")\n",
        "plt.plot(loss_list)\n",
        "plt.xlabel(\"epoch\")\n",
        "plt.ylabel(\"cost\")"
      ]
    },
    {
      "cell_type": "markdown",
      "metadata": {
        "id": "PM5Vs4bTLAhK"
      },
      "source": [
        "### evaluation"
      ]
    },
    {
      "cell_type": "code",
      "execution_count": null,
      "metadata": {
        "id": "18aGQgxbLAhL"
      },
      "outputs": [],
      "source": [
        "from sklearn.metrics import classification_report"
      ]
    },
    {
      "cell_type": "code",
      "source": [
        "X_train.shape"
      ],
      "metadata": {
        "colab": {
          "base_uri": "https://localhost:8080/"
        },
        "outputId": "3644fc2d-e9f3-4ea1-a435-cb2d295c4fee",
        "id": "jzRUqwUoLAhM"
      },
      "execution_count": null,
      "outputs": [
        {
          "output_type": "execute_result",
          "data": {
            "text/plain": [
              "(1723, 257, 257)"
            ]
          },
          "metadata": {},
          "execution_count": 30
        }
      ]
    },
    {
      "cell_type": "code",
      "execution_count": null,
      "metadata": {
        "id": "_EASgcdsLAhN",
        "colab": {
          "base_uri": "https://localhost:8080/"
        },
        "outputId": "e8bba743-ce4e-4a12-9835-2777227cce42"
      },
      "outputs": [
        {
          "output_type": "stream",
          "name": "stderr",
          "text": [
            "/usr/local/lib/python3.7/dist-packages/ipykernel_launcher.py:64: UserWarning: Implicit dimension choice for softmax has been deprecated. Change the call to include dim=X as an argument.\n"
          ]
        },
        {
          "output_type": "stream",
          "name": "stdout",
          "text": [
            "training set\n",
            "              precision    recall  f1-score   support\n",
            "\n",
            "           0       0.99      0.99      0.99       303\n",
            "           1       1.00      1.00      1.00       505\n",
            "           2       1.00      1.00      1.00       305\n",
            "           3       1.00      1.00      1.00       245\n",
            "           4       0.99      0.99      0.99       365\n",
            "\n",
            "    accuracy                           1.00      1723\n",
            "   macro avg       1.00      1.00      1.00      1723\n",
            "weighted avg       1.00      1.00      1.00      1723\n",
            "\n",
            "----------------------------------------------------------------------------------------------------\n"
          ]
        }
      ],
      "source": [
        "with torch.no_grad():\n",
        "    preds = []\n",
        "    y_true = []\n",
        "    for X_batch,y_batch in train_dataloader:\n",
        "        y_pred = model(X_batch.float())            # prediction\n",
        "\n",
        "        y_pred = y_pred.argmax(axis = 1)\n",
        "        preds.append(y_pred.detach().numpy())\n",
        "        y_true.append(y_batch.argmax(axis = 1).detach().numpy())\n",
        "\n",
        "    y_pred = np.hstack(preds)\n",
        "    y_true = np.hstack(y_true)\n",
        "    \n",
        "    print(\"training set\")\n",
        "    print(classification_report(y_true,y_pred))\n",
        "\n",
        "    print(\"-\"*100)\n",
        "    "
      ]
    },
    {
      "cell_type": "code",
      "source": [
        "y_true[0].shape"
      ],
      "metadata": {
        "colab": {
          "base_uri": "https://localhost:8080/"
        },
        "id": "TZPmmrehv_AA",
        "outputId": "adbfbcb6-2f02-4b65-c839-92000fcb81d3"
      },
      "execution_count": null,
      "outputs": [
        {
          "output_type": "execute_result",
          "data": {
            "text/plain": [
              "(5,)"
            ]
          },
          "metadata": {},
          "execution_count": 44
        }
      ]
    },
    {
      "cell_type": "code",
      "source": [
        "X_batch.shape"
      ],
      "metadata": {
        "colab": {
          "base_uri": "https://localhost:8080/"
        },
        "id": "IAm707eayCdG",
        "outputId": "b8627f7c-df33-46af-f0ed-f7404eea843d"
      },
      "execution_count": null,
      "outputs": [
        {
          "output_type": "execute_result",
          "data": {
            "text/plain": [
              "torch.Size([1, 1, 257, 257])"
            ]
          },
          "metadata": {},
          "execution_count": 49
        }
      ]
    },
    {
      "cell_type": "code",
      "execution_count": null,
      "metadata": {
        "id": "Ak9_LnRyLAhP",
        "colab": {
          "base_uri": "https://localhost:8080/"
        },
        "outputId": "575f6701-af3a-4504-a50d-f27b98e945e4"
      },
      "outputs": [
        {
          "output_type": "stream",
          "name": "stdout",
          "text": [
            "testing set\n",
            "              precision    recall  f1-score   support\n",
            "\n",
            "           0       0.92      0.87      0.89       113\n",
            "           1       0.95      0.97      0.96       160\n",
            "           2       0.95      0.93      0.94       109\n",
            "           3       0.96      0.93      0.94        95\n",
            "           4       0.88      0.97      0.92        98\n",
            "\n",
            "    accuracy                           0.93       575\n",
            "   macro avg       0.93      0.93      0.93       575\n",
            "weighted avg       0.93      0.93      0.93       575\n",
            "\n",
            "----------------------------------------------------------------------------------------------------\n"
          ]
        },
        {
          "output_type": "stream",
          "name": "stderr",
          "text": [
            "/usr/local/lib/python3.7/dist-packages/ipykernel_launcher.py:64: UserWarning: Implicit dimension choice for softmax has been deprecated. Change the call to include dim=X as an argument.\n"
          ]
        }
      ],
      "source": [
        "test_dataloader  = DataLoader(Dataset_desc(torch.tensor(X_test.reshape(-1,1,257,257 )),\n",
        "                                            F.one_hot(torch.tensor(y_test).long())),\n",
        "                             batch_size = len(y_test))\n",
        "with torch.no_grad():\n",
        "    preds = []\n",
        "    y_true = []\n",
        "    for X_batch,y_batch in test_dataloader:\n",
        "        y_pred = model(X_batch.float())            # prediction\n",
        "\n",
        "        y_pred = y_pred.argmax(axis = 1)\n",
        "        preds.append(y_pred.detach().numpy())\n",
        "        y_true.append(y_batch.argmax(axis = 1).detach().numpy())\n",
        "\n",
        "    y_pred = np.hstack(preds)\n",
        "    y_true = np.hstack(y_true)\n",
        "    \n",
        "    print(\"testing set\")\n",
        "    print(classification_report(y_true,y_pred))\n",
        "\n",
        "    print(\"-\"*100)\n",
        "    "
      ]
    },
    {
      "cell_type": "code",
      "source": [],
      "metadata": {
        "id": "x9UgCOsNLAhQ"
      },
      "execution_count": null,
      "outputs": []
    },
    {
      "cell_type": "code",
      "source": [],
      "metadata": {
        "id": "4izGMToCHYrr"
      },
      "execution_count": null,
      "outputs": []
    },
    {
      "cell_type": "markdown",
      "source": [
        "# 10 classes"
      ],
      "metadata": {
        "id": "rO_m5GQlbIUm"
      }
    },
    {
      "cell_type": "markdown",
      "source": [
        "## preparando dados"
      ],
      "metadata": {
        "id": "ObIeq5y7Y_uG"
      }
    },
    {
      "cell_type": "code",
      "source": [
        "num_classes = 10"
      ],
      "metadata": {
        "id": "FpDMlUUDbIUr"
      },
      "execution_count": null,
      "outputs": []
    },
    {
      "cell_type": "code",
      "source": [
        "X = np.load(\"/content/drive/MyDrive/synestheticAI/pause_breath_set/train_images.npy\")\n",
        "y = np.load(\"/content/drive/MyDrive/synestheticAI/pause_breath_set/train_labels.npy\")"
      ],
      "metadata": {
        "id": "dTn1pYUEOkYY"
      },
      "execution_count": null,
      "outputs": []
    },
    {
      "cell_type": "code",
      "source": [
        "X = X[:,:,:257]"
      ],
      "metadata": {
        "id": "KaC3G_fHOzjB"
      },
      "execution_count": null,
      "outputs": []
    },
    {
      "cell_type": "code",
      "source": [
        "X_train,X_test,y_train,y_test = train_test_split(X,y)\n",
        "del X\n",
        "del y"
      ],
      "metadata": {
        "id": "r5D1PWx-bIUo"
      },
      "execution_count": null,
      "outputs": []
    },
    {
      "cell_type": "code",
      "source": [
        "X_train.shape"
      ],
      "metadata": {
        "colab": {
          "base_uri": "https://localhost:8080/"
        },
        "outputId": "2d66908d-6a62-4518-a0ea-cf0c1aac6f9c",
        "id": "tPZ8RgE4bIUp"
      },
      "execution_count": null,
      "outputs": [
        {
          "output_type": "execute_result",
          "data": {
            "text/plain": [
              "(2733, 257, 257)"
            ]
          },
          "metadata": {},
          "execution_count": 8
        }
      ]
    },
    {
      "cell_type": "code",
      "execution_count": null,
      "metadata": {
        "colab": {
          "base_uri": "https://localhost:8080/"
        },
        "outputId": "5a8508e3-f6c4-459c-ef79-e395cddd3bf8",
        "id": "p7CRPjakbIUq"
      },
      "outputs": [
        {
          "output_type": "execute_result",
          "data": {
            "text/plain": [
              "(array([0, 1, 2, 3, 4, 5, 6, 7, 8, 9]),\n",
              " array([304, 489, 305, 251, 350, 149, 132, 271, 266, 216]))"
            ]
          },
          "metadata": {},
          "execution_count": 32
        }
      ],
      "source": [
        "np.unique(y_train, return_counts =  1)"
      ]
    },
    {
      "cell_type": "code",
      "execution_count": null,
      "metadata": {
        "colab": {
          "base_uri": "https://localhost:8080/"
        },
        "id": "RHXObgExbIUq",
        "outputId": "ff080d2d-4c8f-4045-af7d-61d57a736430"
      },
      "outputs": [
        {
          "output_type": "execute_result",
          "data": {
            "text/plain": [
              "tensor([[0, 0, 0,  ..., 0, 0, 1],\n",
              "        [0, 1, 0,  ..., 0, 0, 0],\n",
              "        [0, 0, 1,  ..., 0, 0, 0],\n",
              "        ...,\n",
              "        [0, 0, 0,  ..., 1, 0, 0],\n",
              "        [0, 0, 0,  ..., 1, 0, 0],\n",
              "        [1, 0, 0,  ..., 0, 0, 0]])"
            ]
          },
          "metadata": {},
          "execution_count": 9
        }
      ],
      "source": [
        "import torch.nn.functional as F\n",
        "F.one_hot(torch.tensor(y_train).long())"
      ]
    },
    {
      "cell_type": "code",
      "execution_count": null,
      "metadata": {
        "id": "JuISbmT5bIUr"
      },
      "outputs": [],
      "source": [
        "train_dataloader = DataLoader(Dataset_desc(torch.tensor(X_train.reshape(-1,1,257,257 )),\n",
        "                                           F.one_hot(torch.tensor(y_train).long())\n",
        "                                           ),\n",
        "                            batch_size = 512,\n",
        "                            shuffle=True)\n",
        "test_dataloader  = DataLoader(Dataset_desc(torch.tensor(X_test.reshape(-1,1,257,257 )),\n",
        "                                            F.one_hot(torch.tensor(y_test).long()))\n",
        "                             )"
      ]
    },
    {
      "cell_type": "markdown",
      "source": [
        "## SmallNet"
      ],
      "metadata": {
        "id": "I50WwirXqgFx"
      }
    },
    {
      "cell_type": "code",
      "execution_count": null,
      "metadata": {
        "id": "rcBczQ6GbIUu"
      },
      "outputs": [],
      "source": [
        "model = SmallNet(num_classes)\n",
        "optimizer = torch.optim.Adam(model.parameters(), lr=1e-3)\n",
        "loss_fn = nn.CrossEntropyLoss()\n",
        "epochs = 150\n",
        "\n"
      ]
    },
    {
      "cell_type": "code",
      "execution_count": null,
      "metadata": {
        "colab": {
          "base_uri": "https://localhost:8080/",
          "height": 1000
        },
        "outputId": "6f22f881-7328-4a25-bcb4-44ad2422a2c7",
        "id": "gG02J6iQbIUu"
      },
      "outputs": [
        {
          "output_type": "stream",
          "name": "stderr",
          "text": [
            "/usr/local/lib/python3.7/dist-packages/ipykernel_launcher.py:43: UserWarning: Implicit dimension choice for softmax has been deprecated. Change the call to include dim=X as an argument.\n"
          ]
        },
        {
          "output_type": "stream",
          "name": "stdout",
          "text": [
            "Epoch  0 |  loss:  2.306781768798828\n",
            "Epoch  1 |  loss:  2.254411220550537\n",
            "Epoch  2 |  loss:  2.2358837127685547\n",
            "Epoch  3 |  loss:  2.2641170024871826\n",
            "Epoch  4 |  loss:  2.2620818614959717\n",
            "Epoch  5 |  loss:  2.278223991394043\n",
            "Epoch  6 |  loss:  2.283377170562744\n",
            "Epoch  7 |  loss:  2.278179168701172\n",
            "Epoch  8 |  loss:  2.27357816696167\n",
            "Epoch  9 |  loss:  2.2332160472869873\n",
            "Epoch  10 |  loss:  2.268098831176758\n",
            "Epoch  11 |  loss:  2.227494716644287\n",
            "Epoch  12 |  loss:  2.2414941787719727\n",
            "Epoch  13 |  loss:  2.248745918273926\n",
            "Epoch  14 |  loss:  2.1290783882141113\n",
            "Epoch  15 |  loss:  2.2187626361846924\n",
            "Epoch  16 |  loss:  2.1646203994750977\n",
            "Epoch  17 |  loss:  2.126694917678833\n",
            "Epoch  18 |  loss:  2.0715701580047607\n",
            "Epoch  19 |  loss:  2.155372142791748\n",
            "Epoch  20 |  loss:  2.1161515712738037\n",
            "Epoch  21 |  loss:  2.2020320892333984\n",
            "Epoch  22 |  loss:  2.1592273712158203\n",
            "Epoch  23 |  loss:  2.0893070697784424\n",
            "Epoch  24 |  loss:  2.0421369075775146\n",
            "Epoch  25 |  loss:  2.140270709991455\n",
            "Epoch  26 |  loss:  2.1176605224609375\n",
            "Epoch  27 |  loss:  2.093942880630493\n",
            "Epoch  28 |  loss:  2.0794546604156494\n",
            "Epoch  29 |  loss:  2.1071081161499023\n",
            "Epoch  30 |  loss:  2.0745770931243896\n",
            "Epoch  31 |  loss:  2.107079267501831\n",
            "Epoch  32 |  loss:  2.127124071121216\n",
            "Epoch  33 |  loss:  2.044067144393921\n",
            "Epoch  34 |  loss:  2.146310806274414\n",
            "Epoch  35 |  loss:  2.0698726177215576\n",
            "Epoch  36 |  loss:  2.0798914432525635\n",
            "Epoch  37 |  loss:  2.0694029331207275\n",
            "Epoch  38 |  loss:  2.1435062885284424\n",
            "Epoch  39 |  loss:  2.0843846797943115\n",
            "Epoch  40 |  loss:  2.1462008953094482\n",
            "Epoch  41 |  loss:  2.1067864894866943\n",
            "Epoch  42 |  loss:  2.0687801837921143\n",
            "Epoch  43 |  loss:  2.113818645477295\n",
            "Epoch  44 |  loss:  2.1018784046173096\n",
            "Epoch  45 |  loss:  2.12015962600708\n",
            "Epoch  46 |  loss:  2.1029436588287354\n",
            "Epoch  47 |  loss:  2.1405222415924072\n",
            "Epoch  48 |  loss:  2.062269687652588\n",
            "Epoch  49 |  loss:  2.077078104019165\n",
            "Epoch  50 |  loss:  2.0831072330474854\n",
            "Epoch  51 |  loss:  2.049931049346924\n",
            "Epoch  52 |  loss:  2.077134370803833\n",
            "Epoch  53 |  loss:  2.07955265045166\n",
            "Epoch  54 |  loss:  2.0653045177459717\n",
            "Epoch  55 |  loss:  2.052737236022949\n",
            "Epoch  56 |  loss:  2.044677972793579\n",
            "Epoch  57 |  loss:  2.0532801151275635\n",
            "Epoch  58 |  loss:  2.0486607551574707\n",
            "Epoch  59 |  loss:  2.1388471126556396\n",
            "Epoch  60 |  loss:  2.0839850902557373\n",
            "Epoch  61 |  loss:  2.033308506011963\n",
            "Epoch  62 |  loss:  2.06099009513855\n",
            "Epoch  63 |  loss:  2.0439252853393555\n",
            "Epoch  64 |  loss:  2.0418055057525635\n",
            "Epoch  65 |  loss:  2.139145612716675\n",
            "Epoch  66 |  loss:  2.056098699569702\n",
            "Epoch  67 |  loss:  2.111588478088379\n",
            "Epoch  68 |  loss:  2.085745334625244\n",
            "Epoch  69 |  loss:  2.0384416580200195\n",
            "Epoch  70 |  loss:  2.0320229530334473\n",
            "Epoch  71 |  loss:  2.0593512058258057\n",
            "Epoch  72 |  loss:  2.0600006580352783\n",
            "Epoch  73 |  loss:  2.044276237487793\n",
            "Epoch  74 |  loss:  2.018223524093628\n",
            "Epoch  75 |  loss:  2.0853450298309326\n",
            "Epoch  76 |  loss:  2.0962541103363037\n",
            "Epoch  77 |  loss:  2.0514326095581055\n",
            "Epoch  78 |  loss:  2.002504587173462\n",
            "Epoch  79 |  loss:  2.0458405017852783\n",
            "Epoch  80 |  loss:  2.0739614963531494\n",
            "Epoch  81 |  loss:  1.9984116554260254\n",
            "Epoch  82 |  loss:  2.1062984466552734\n",
            "Epoch  83 |  loss:  2.048417806625366\n",
            "Epoch  84 |  loss:  1.9458699226379395\n",
            "Epoch  85 |  loss:  1.9966731071472168\n",
            "Epoch  86 |  loss:  1.9808419942855835\n",
            "Epoch  87 |  loss:  2.02517032623291\n",
            "Epoch  88 |  loss:  2.0156517028808594\n",
            "Epoch  89 |  loss:  2.0012881755828857\n",
            "Epoch  90 |  loss:  2.018261432647705\n",
            "Epoch  91 |  loss:  1.9964299201965332\n",
            "Epoch  92 |  loss:  1.947102427482605\n",
            "Epoch  93 |  loss:  2.0013411045074463\n",
            "Epoch  94 |  loss:  2.0036189556121826\n",
            "Epoch  95 |  loss:  2.0265982151031494\n",
            "Epoch  96 |  loss:  1.9867558479309082\n",
            "Epoch  97 |  loss:  1.9668686389923096\n",
            "Epoch  98 |  loss:  2.0459542274475098\n",
            "Epoch  99 |  loss:  1.960186243057251\n",
            "Epoch  100 |  loss:  1.94708251953125\n",
            "Epoch  101 |  loss:  1.938211441040039\n",
            "Epoch  102 |  loss:  1.9717319011688232\n",
            "Epoch  103 |  loss:  1.9109092950820923\n",
            "Epoch  104 |  loss:  1.957524299621582\n",
            "Epoch  105 |  loss:  1.9573966264724731\n",
            "Epoch  106 |  loss:  1.9574609994888306\n",
            "Epoch  107 |  loss:  1.9971803426742554\n",
            "Epoch  108 |  loss:  1.933212399482727\n",
            "Epoch  109 |  loss:  1.9647072553634644\n",
            "Epoch  110 |  loss:  1.9867212772369385\n",
            "Epoch  111 |  loss:  1.8449504375457764\n",
            "Epoch  112 |  loss:  1.950551986694336\n",
            "Epoch  113 |  loss:  1.9124757051467896\n",
            "Epoch  114 |  loss:  1.9718514680862427\n",
            "Epoch  115 |  loss:  1.8854031562805176\n",
            "Epoch  116 |  loss:  1.9705537557601929\n",
            "Epoch  117 |  loss:  1.9022246599197388\n",
            "Epoch  118 |  loss:  1.9467557668685913\n",
            "Epoch  119 |  loss:  1.8309483528137207\n",
            "Epoch  120 |  loss:  1.8957785367965698\n",
            "Epoch  121 |  loss:  1.8742737770080566\n",
            "Epoch  122 |  loss:  1.9429160356521606\n",
            "Epoch  123 |  loss:  1.9228110313415527\n",
            "Epoch  124 |  loss:  1.9053990840911865\n",
            "Epoch  125 |  loss:  1.9357043504714966\n",
            "Epoch  126 |  loss:  1.924951434135437\n",
            "Epoch  127 |  loss:  1.9166626930236816\n",
            "Epoch  128 |  loss:  1.8939224481582642\n",
            "Epoch  129 |  loss:  1.8979144096374512\n",
            "Epoch  130 |  loss:  1.9162395000457764\n",
            "Epoch  131 |  loss:  1.906015396118164\n",
            "Epoch  132 |  loss:  1.899418592453003\n",
            "Epoch  133 |  loss:  1.8830642700195312\n",
            "Epoch  134 |  loss:  1.8502006530761719\n",
            "Epoch  135 |  loss:  1.8441202640533447\n",
            "Epoch  136 |  loss:  1.8709979057312012\n",
            "Epoch  137 |  loss:  1.928767442703247\n",
            "Epoch  138 |  loss:  1.770259976387024\n",
            "Epoch  139 |  loss:  1.8451061248779297\n",
            "Epoch  140 |  loss:  1.882694959640503\n",
            "Epoch  141 |  loss:  1.8311152458190918\n",
            "Epoch  142 |  loss:  1.9003703594207764\n",
            "Epoch  143 |  loss:  1.8947287797927856\n",
            "Epoch  144 |  loss:  1.851912260055542\n",
            "Epoch  145 |  loss:  1.848953127861023\n",
            "Epoch  146 |  loss:  1.8639522790908813\n",
            "Epoch  147 |  loss:  1.8536592721939087\n",
            "Epoch  148 |  loss:  1.856874704360962\n",
            "Epoch  149 |  loss:  1.8790889978408813\n",
            "Epoch  150 |  loss:  1.870676040649414\n"
          ]
        },
        {
          "output_type": "execute_result",
          "data": {
            "text/plain": [
              "Text(0, 0.5, 'cost')"
            ]
          },
          "metadata": {},
          "execution_count": 35
        },
        {
          "output_type": "display_data",
          "data": {
            "text/plain": [
              "<Figure size 1008x432 with 1 Axes>"
            ],
            "image/png": "[encoded data removed]"
          },
          "metadata": {
            "needs_background": "light"
          }
        }
      ],
      "source": [
        "# loss inicial\n",
        "for X_batch,y_batch in train_dataloader:\n",
        "    \n",
        "    y_pred = model(X_batch.float())\n",
        "    loss = loss_fn(y_pred, y_batch.float())\n",
        "    break\n",
        "\n",
        "loss_list = [loss.item()]\n",
        "print (\"Epoch \",0,\"|  loss: \", loss.item())\n",
        "optimizer.zero_grad() # Zero gradients\n",
        "\n",
        "for epoch in range(1, epochs+1):\n",
        "    for X_batch,y_batch in train_dataloader:\n",
        "        y_pred = model(X_batch.float())            # prediction\n",
        "\n",
        "        loss = loss_fn(y_pred, y_batch.float())     # loss calculation\n",
        "        \n",
        "        optimizer.zero_grad() # Zero gradients\n",
        "        loss.backward()       # Gradients\n",
        "        optimizer.step()      # Update\n",
        "\n",
        "    print (\"Epoch \",epoch,\"|  loss: \", loss.item())\n",
        "        \n",
        "    \n",
        "    loss_list.append(loss.item())\n",
        "\n",
        "plt.figure(figsize = (14,6))\n",
        "plt.title(\"cost decay\")\n",
        "plt.plot(loss_list)\n",
        "plt.xlabel(\"epoch\")\n",
        "plt.ylabel(\"cost\")"
      ]
    },
    {
      "cell_type": "markdown",
      "metadata": {
        "id": "hjrpJWWtbIUv"
      },
      "source": [
        "### evaluation"
      ]
    },
    {
      "cell_type": "code",
      "source": [
        "from sklearn.metrics import classification_report"
      ],
      "metadata": {
        "id": "bYabzsw7zq4B"
      },
      "execution_count": null,
      "outputs": []
    },
    {
      "cell_type": "code",
      "execution_count": null,
      "metadata": {
        "colab": {
          "base_uri": "https://localhost:8080/"
        },
        "outputId": "856c7187-8e39-4297-83ea-8db091d7b13e",
        "id": "-eGRL_BmbIUx"
      },
      "outputs": [
        {
          "output_type": "stream",
          "name": "stderr",
          "text": [
            "/usr/local/lib/python3.7/dist-packages/ipykernel_launcher.py:43: UserWarning: Implicit dimension choice for softmax has been deprecated. Change the call to include dim=X as an argument.\n"
          ]
        },
        {
          "output_type": "stream",
          "name": "stdout",
          "text": [
            "[[0]\n",
            " [1]\n",
            " [1]\n",
            " ...\n",
            " [1]\n",
            " [1]\n",
            " [1]]\n",
            "training set\n",
            "              precision    recall  f1-score   support\n",
            "\n",
            "           0       0.59      0.84      0.69       318\n",
            "           1       0.50      1.00      0.67       504\n",
            "           2       0.00      0.00      0.00       303\n",
            "           3       0.57      0.95      0.71       251\n",
            "           4       0.68      0.87      0.77       349\n",
            "           5       0.80      0.90      0.84       145\n",
            "           6       0.00      0.00      0.00       120\n",
            "           7       0.00      0.00      0.00       257\n",
            "           8       0.91      0.91      0.91       252\n",
            "           9       0.00      0.00      0.00       234\n",
            "\n",
            "    accuracy                           0.61      2733\n",
            "   macro avg       0.40      0.55      0.46      2733\n",
            "weighted avg       0.43      0.61      0.50      2733\n",
            "\n",
            "----------------------------------------------------------------------------------------------------\n"
          ]
        },
        {
          "output_type": "stream",
          "name": "stderr",
          "text": [
            "/usr/local/lib/python3.7/dist-packages/sklearn/metrics/_classification.py:1318: UndefinedMetricWarning: Precision and F-score are ill-defined and being set to 0.0 in labels with no predicted samples. Use `zero_division` parameter to control this behavior.\n",
            "  _warn_prf(average, modifier, msg_start, len(result))\n",
            "/usr/local/lib/python3.7/dist-packages/sklearn/metrics/_classification.py:1318: UndefinedMetricWarning: Precision and F-score are ill-defined and being set to 0.0 in labels with no predicted samples. Use `zero_division` parameter to control this behavior.\n",
            "  _warn_prf(average, modifier, msg_start, len(result))\n",
            "/usr/local/lib/python3.7/dist-packages/sklearn/metrics/_classification.py:1318: UndefinedMetricWarning: Precision and F-score are ill-defined and being set to 0.0 in labels with no predicted samples. Use `zero_division` parameter to control this behavior.\n",
            "  _warn_prf(average, modifier, msg_start, len(result))\n"
          ]
        }
      ],
      "source": [
        "with torch.no_grad():\n",
        "    preds = []\n",
        "    for X_sample,y_sample in Dataset_desc(torch.tensor(X_train.reshape(-1,1,257,257)),y_train):\n",
        "       \n",
        "        y_pred = model(X_sample.reshape(-1,1,257,257).float())\n",
        "        y_pred = y_pred.argmax(axis = 1)\n",
        "        preds.append(y_pred.detach().numpy())\n",
        "   \n",
        "    y_pred = np.array(preds)\n",
        "    \n",
        "    print(y_pred)\n",
        "    print(\"training set\")\n",
        "    print(classification_report(y_train,y_pred))\n",
        "\n",
        "    print(\"-\"*100)\n",
        "    "
      ]
    },
    {
      "cell_type": "code",
      "execution_count": null,
      "metadata": {
        "colab": {
          "base_uri": "https://localhost:8080/"
        },
        "outputId": "4a708f65-4b66-4526-e0b2-3760afbe4ad8",
        "id": "nnE4KMOLbIUx"
      },
      "outputs": [
        {
          "output_type": "stream",
          "name": "stdout",
          "text": [
            "test set\n",
            "              precision    recall  f1-score   support\n",
            "\n",
            "           0       0.48      0.72      0.58        98\n",
            "           1       0.49      0.98      0.65       161\n",
            "           2       0.00      0.00      0.00       111\n",
            "           3       0.59      0.94      0.72        89\n",
            "           4       0.59      0.76      0.66       114\n",
            "           5       0.70      0.81      0.75        48\n",
            "           6       0.00      0.00      0.00        41\n",
            "           7       0.00      0.00      0.00        94\n",
            "           8       0.85      0.84      0.84        93\n",
            "           9       0.00      0.00      0.00        62\n",
            "\n",
            "    accuracy                           0.57       911\n",
            "   macro avg       0.37      0.51      0.42       911\n",
            "weighted avg       0.39      0.57      0.46       911\n",
            "\n",
            "----------------------------------------------------------------------------------------------------\n"
          ]
        },
        {
          "output_type": "stream",
          "name": "stderr",
          "text": [
            "/usr/local/lib/python3.7/dist-packages/ipykernel_launcher.py:43: UserWarning: Implicit dimension choice for softmax has been deprecated. Change the call to include dim=X as an argument.\n",
            "/usr/local/lib/python3.7/dist-packages/sklearn/metrics/_classification.py:1318: UndefinedMetricWarning: Precision and F-score are ill-defined and being set to 0.0 in labels with no predicted samples. Use `zero_division` parameter to control this behavior.\n",
            "  _warn_prf(average, modifier, msg_start, len(result))\n",
            "/usr/local/lib/python3.7/dist-packages/sklearn/metrics/_classification.py:1318: UndefinedMetricWarning: Precision and F-score are ill-defined and being set to 0.0 in labels with no predicted samples. Use `zero_division` parameter to control this behavior.\n",
            "  _warn_prf(average, modifier, msg_start, len(result))\n",
            "/usr/local/lib/python3.7/dist-packages/sklearn/metrics/_classification.py:1318: UndefinedMetricWarning: Precision and F-score are ill-defined and being set to 0.0 in labels with no predicted samples. Use `zero_division` parameter to control this behavior.\n",
            "  _warn_prf(average, modifier, msg_start, len(result))\n"
          ]
        }
      ],
      "source": [
        "with torch.no_grad():\n",
        "    \n",
        "    y_pred = model(torch.tensor(X_test.reshape(-1,1,257,257)))\n",
        "    y_pred = y_pred.argmax(axis = 1)\n",
        "\n",
        "    print(\"test set\")\n",
        "    print(classification_report(y_test,y_pred))\n",
        "\n",
        "    print(\"-\"*100)\n",
        "    "
      ]
    },
    {
      "cell_type": "code",
      "source": [],
      "metadata": {
        "id": "AYunpB6zbIUy"
      },
      "execution_count": null,
      "outputs": []
    },
    {
      "cell_type": "code",
      "source": [],
      "metadata": {
        "id": "XIRi2EnT81At"
      },
      "execution_count": null,
      "outputs": []
    },
    {
      "cell_type": "markdown",
      "source": [
        "## MediumNet"
      ],
      "metadata": {
        "id": "9yxmLEfUqjru"
      }
    },
    {
      "cell_type": "code",
      "source": [],
      "metadata": {
        "id": "J2xddHJ9qodr"
      },
      "execution_count": null,
      "outputs": []
    },
    {
      "cell_type": "code",
      "execution_count": null,
      "metadata": {
        "id": "WHSPaM5-qyGt"
      },
      "outputs": [],
      "source": [
        "model = MediumNet(num_classes)\n",
        "optimizer = torch.optim.Adam(model.parameters(), lr=1e-3)\n",
        "loss_fn = nn.CrossEntropyLoss()\n",
        "epochs = 200\n",
        "\n"
      ]
    },
    {
      "cell_type": "code",
      "execution_count": null,
      "metadata": {
        "id": "tD56riiZqyGv",
        "colab": {
          "base_uri": "https://localhost:8080/"
        },
        "outputId": "cb21cb02-cc1f-46d3-b20f-3530657daecb"
      },
      "outputs": [
        {
          "output_type": "stream",
          "name": "stderr",
          "text": [
            "/usr/local/lib/python3.7/dist-packages/ipykernel_launcher.py:55: UserWarning: Implicit dimension choice for softmax has been deprecated. Change the call to include dim=X as an argument.\n"
          ]
        },
        {
          "output_type": "stream",
          "name": "stdout",
          "text": [
            "Epoch  0 |  loss:  2.3030643463134766\n",
            "Epoch  1 |  loss:  2.233260154724121\n",
            "Epoch  2 |  loss:  2.2454965114593506\n",
            "Epoch  3 |  loss:  2.27433443069458\n",
            "Epoch  4 |  loss:  2.285325765609741\n",
            "Epoch  5 |  loss:  2.2390527725219727\n",
            "Epoch  6 |  loss:  2.1615495681762695\n",
            "Epoch  7 |  loss:  2.1704440116882324\n"
          ]
        }
      ],
      "source": [
        "# loss inicial\n",
        "for X_batch,y_batch in train_dataloader:\n",
        "    \n",
        "    y_pred = model(X_batch.float())\n",
        "    loss = loss_fn(y_pred, y_batch.float())\n",
        "    break\n",
        "\n",
        "loss_list = [loss.item()]\n",
        "print (\"Epoch \",0,\"|  loss: \", loss.item())\n",
        "optimizer.zero_grad() # Zero gradients\n",
        "\n",
        "for epoch in range(1, epochs+1):\n",
        "    for X_batch,y_batch in train_dataloader:\n",
        "        y_pred = model(X_batch.float())            # prediction\n",
        "\n",
        "        loss = loss_fn(y_pred, y_batch.float())     # loss calculation\n",
        "        \n",
        "        optimizer.zero_grad() # Zero gradients\n",
        "        loss.backward()       # Gradients\n",
        "        optimizer.step()      # Update\n",
        "\n",
        "    print (\"Epoch \",epoch,\"|  loss: \", loss.item())\n",
        "        \n",
        "    \n",
        "    loss_list.append(loss.item())\n",
        "\n",
        "plt.figure(figsize = (14,6))\n",
        "plt.title(\"cost decay\")\n",
        "plt.plot(loss_list)\n",
        "plt.xlabel(\"epoch\")\n",
        "plt.ylabel(\"cost\")"
      ]
    },
    {
      "cell_type": "markdown",
      "metadata": {
        "id": "Uu30VcxnqyGw"
      },
      "source": [
        "### evaluation"
      ]
    },
    {
      "cell_type": "code",
      "execution_count": null,
      "metadata": {
        "id": "95-ckGBXqyGw"
      },
      "outputs": [],
      "source": [
        "with torch.no_grad():\n",
        "    preds = []\n",
        "    for X_sample,y_sample in Dataset_desc(torch.tensor(X_train.reshape(-1,1,257,257)),y_train):\n",
        "       \n",
        "        y_pred = model(X_sample.reshape(-1,1,257,257).float())\n",
        "        y_pred = y_pred.argmax(axis = 1)\n",
        "        preds.append(y_pred.detach().numpy())\n",
        "   \n",
        "    y_pred = np.array(preds)\n",
        "    \n",
        "    print(y_pred)\n",
        "    print(\"training set\")\n",
        "    print(classification_report(y_train,y_pred))\n",
        "\n",
        "    print(\"-\"*100)\n",
        "    "
      ]
    },
    {
      "cell_type": "code",
      "execution_count": null,
      "metadata": {
        "id": "_rO2mj3nqyGx"
      },
      "outputs": [],
      "source": [
        "with torch.no_grad():\n",
        "    \n",
        "    y_pred = model(torch.tensor(X_test.reshape(-1,1,257,257)))\n",
        "    y_pred = y_pred.argmax(axis = 1)\n",
        "\n",
        "    print(\"test set\")\n",
        "    print(classification_report(y_test,y_pred))\n",
        "\n",
        "    print(\"-\"*100)\n",
        "    "
      ]
    },
    {
      "cell_type": "code",
      "source": [
        "torch.save(model,\"/content/drive/MyDrive/projeto deep/models/MediumNet10.pt\" )"
      ],
      "metadata": {
        "id": "nqS0uHDHqyGx"
      },
      "execution_count": null,
      "outputs": []
    },
    {
      "cell_type": "markdown",
      "source": [
        "## Big"
      ],
      "metadata": {
        "id": "PbY-FMlVEC6K"
      }
    },
    {
      "cell_type": "markdown",
      "source": [
        "### treino"
      ],
      "metadata": {
        "id": "WyYLAbvNEC6L"
      }
    },
    {
      "cell_type": "code",
      "source": [
        "num_classes = 10"
      ],
      "metadata": {
        "id": "PydddrqqEC6L"
      },
      "execution_count": null,
      "outputs": []
    },
    {
      "cell_type": "code",
      "execution_count": null,
      "metadata": {
        "id": "BUyCT_TwEC6L"
      },
      "outputs": [],
      "source": [
        "model = BigNet(num_classes)\n",
        "optimizer = torch.optim.Adam(model.parameters(), lr=1e-3)\n",
        "loss_fn = nn.CrossEntropyLoss()\n",
        "epochs = 300"
      ]
    },
    {
      "cell_type": "code",
      "source": [
        "if torch.cuda.is_available():\n",
        "    model.to('cuda')"
      ],
      "metadata": {
        "id": "VACH0lHzMw_M"
      },
      "execution_count": null,
      "outputs": []
    },
    {
      "cell_type": "code",
      "execution_count": null,
      "metadata": {
        "id": "6Kwd_X78EC6L",
        "colab": {
          "base_uri": "https://localhost:8080/",
          "height": 1000
        },
        "outputId": "589e4dc5-c462-41bd-e0e5-24e3c0708248"
      },
      "outputs": [
        {
          "output_type": "stream",
          "name": "stderr",
          "text": [
            "/usr/local/lib/python3.7/dist-packages/ipykernel_launcher.py:61: UserWarning: Implicit dimension choice for softmax has been deprecated. Change the call to include dim=X as an argument.\n"
          ]
        },
        {
          "output_type": "stream",
          "name": "stdout",
          "text": [
            "Epoch  0 |  loss:  2.3053901195526123\n",
            "Epoch  1 |  loss:  2.302665948867798\n",
            "Epoch  2 |  loss:  2.264348268508911\n",
            "Epoch  3 |  loss:  2.28871750831604\n",
            "Epoch  4 |  loss:  2.2502849102020264\n",
            "Epoch  5 |  loss:  2.2532315254211426\n",
            "Epoch  6 |  loss:  2.287874698638916\n",
            "Epoch  7 |  loss:  2.272993803024292\n",
            "Epoch  8 |  loss:  2.242180824279785\n",
            "Epoch  9 |  loss:  2.270031690597534\n",
            "Epoch  10 |  loss:  2.271247148513794\n",
            "Epoch  11 |  loss:  2.2693121433258057\n",
            "Epoch  12 |  loss:  2.250978469848633\n",
            "Epoch  13 |  loss:  2.237440586090088\n",
            "Epoch  14 |  loss:  2.237137794494629\n",
            "Epoch  15 |  loss:  2.227428674697876\n",
            "Epoch  16 |  loss:  2.1712052822113037\n",
            "Epoch  17 |  loss:  2.146298408508301\n",
            "Epoch  18 |  loss:  2.1221601963043213\n",
            "Epoch  19 |  loss:  2.165618419647217\n",
            "Epoch  20 |  loss:  2.168806552886963\n",
            "Epoch  21 |  loss:  2.128443956375122\n",
            "Epoch  22 |  loss:  2.099698305130005\n",
            "Epoch  23 |  loss:  2.071099281311035\n",
            "Epoch  24 |  loss:  2.0925567150115967\n",
            "Epoch  25 |  loss:  2.1857497692108154\n",
            "Epoch  26 |  loss:  2.086085319519043\n",
            "Epoch  27 |  loss:  2.083280563354492\n",
            "Epoch  28 |  loss:  2.108859062194824\n",
            "Epoch  29 |  loss:  2.054539203643799\n",
            "Epoch  30 |  loss:  2.042821168899536\n",
            "Epoch  31 |  loss:  2.1287291049957275\n",
            "Epoch  32 |  loss:  2.0304079055786133\n",
            "Epoch  33 |  loss:  2.031318187713623\n",
            "Epoch  34 |  loss:  1.990127444267273\n",
            "Epoch  35 |  loss:  2.095670223236084\n",
            "Epoch  36 |  loss:  2.0779340267181396\n",
            "Epoch  37 |  loss:  1.991357445716858\n",
            "Epoch  38 |  loss:  1.9826256036758423\n",
            "Epoch  39 |  loss:  1.947494387626648\n",
            "Epoch  40 |  loss:  1.9966638088226318\n",
            "Epoch  41 |  loss:  2.121830701828003\n",
            "Epoch  42 |  loss:  2.0208845138549805\n",
            "Epoch  43 |  loss:  2.007432460784912\n",
            "Epoch  44 |  loss:  2.0105133056640625\n",
            "Epoch  45 |  loss:  1.9846794605255127\n",
            "Epoch  46 |  loss:  1.954194188117981\n",
            "Epoch  47 |  loss:  1.9411911964416504\n",
            "Epoch  48 |  loss:  1.9277775287628174\n",
            "Epoch  49 |  loss:  1.9322096109390259\n",
            "Epoch  50 |  loss:  1.8619625568389893\n",
            "Epoch  51 |  loss:  1.8337352275848389\n",
            "Epoch  52 |  loss:  1.8326199054718018\n",
            "Epoch  53 |  loss:  1.8539998531341553\n",
            "Epoch  54 |  loss:  1.8726476430892944\n",
            "Epoch  55 |  loss:  1.9225221872329712\n",
            "Epoch  56 |  loss:  1.8526417016983032\n",
            "Epoch  57 |  loss:  1.7413922548294067\n",
            "Epoch  58 |  loss:  1.7942476272583008\n",
            "Epoch  59 |  loss:  1.7147526741027832\n",
            "Epoch  60 |  loss:  1.7906932830810547\n",
            "Epoch  61 |  loss:  1.7457834482192993\n",
            "Epoch  62 |  loss:  1.8357371091842651\n",
            "Epoch  63 |  loss:  1.7918007373809814\n",
            "Epoch  64 |  loss:  1.7450249195098877\n",
            "Epoch  65 |  loss:  1.805281400680542\n",
            "Epoch  66 |  loss:  1.8453799486160278\n",
            "Epoch  67 |  loss:  1.777054786682129\n",
            "Epoch  68 |  loss:  1.8020877838134766\n",
            "Epoch  69 |  loss:  1.7370870113372803\n",
            "Epoch  70 |  loss:  1.7426273822784424\n",
            "Epoch  71 |  loss:  1.698816180229187\n",
            "Epoch  72 |  loss:  1.7370227575302124\n",
            "Epoch  73 |  loss:  1.7519340515136719\n",
            "Epoch  74 |  loss:  1.742713451385498\n",
            "Epoch  75 |  loss:  1.697376012802124\n",
            "Epoch  76 |  loss:  1.720269799232483\n",
            "Epoch  77 |  loss:  1.7401601076126099\n",
            "Epoch  78 |  loss:  1.7083622217178345\n",
            "Epoch  79 |  loss:  1.7352534532546997\n",
            "Epoch  80 |  loss:  1.705712080001831\n",
            "Epoch  81 |  loss:  1.7431721687316895\n",
            "Epoch  82 |  loss:  1.7456213235855103\n",
            "Epoch  83 |  loss:  1.732508659362793\n",
            "Epoch  84 |  loss:  1.7323944568634033\n",
            "Epoch  85 |  loss:  1.7079566717147827\n",
            "Epoch  86 |  loss:  1.7504557371139526\n",
            "Epoch  87 |  loss:  1.7485841512680054\n",
            "Epoch  88 |  loss:  1.7119964361190796\n",
            "Epoch  89 |  loss:  1.6931606531143188\n",
            "Epoch  90 |  loss:  1.7581026554107666\n",
            "Epoch  91 |  loss:  1.7439913749694824\n",
            "Epoch  92 |  loss:  1.7235820293426514\n",
            "Epoch  93 |  loss:  1.6546385288238525\n",
            "Epoch  94 |  loss:  1.668500542640686\n",
            "Epoch  95 |  loss:  1.6787482500076294\n",
            "Epoch  96 |  loss:  1.7316964864730835\n",
            "Epoch  97 |  loss:  1.6803876161575317\n",
            "Epoch  98 |  loss:  1.7335238456726074\n",
            "Epoch  99 |  loss:  1.6478705406188965\n",
            "Epoch  100 |  loss:  1.6926854848861694\n",
            "Epoch  101 |  loss:  1.7091937065124512\n",
            "Epoch  102 |  loss:  1.685142159461975\n",
            "Epoch  103 |  loss:  1.671739101409912\n",
            "Epoch  104 |  loss:  1.656908631324768\n",
            "Epoch  105 |  loss:  1.6503747701644897\n",
            "Epoch  106 |  loss:  1.7088093757629395\n",
            "Epoch  107 |  loss:  1.695054531097412\n",
            "Epoch  108 |  loss:  1.6044665575027466\n",
            "Epoch  109 |  loss:  1.711531639099121\n",
            "Epoch  110 |  loss:  1.632498860359192\n",
            "Epoch  111 |  loss:  1.702996850013733\n",
            "Epoch  112 |  loss:  1.6964608430862427\n",
            "Epoch  113 |  loss:  1.698399543762207\n",
            "Epoch  114 |  loss:  1.6801307201385498\n",
            "Epoch  115 |  loss:  1.6569064855575562\n",
            "Epoch  116 |  loss:  1.6461964845657349\n",
            "Epoch  117 |  loss:  1.6634989976882935\n",
            "Epoch  118 |  loss:  1.6281776428222656\n",
            "Epoch  119 |  loss:  1.6342027187347412\n",
            "Epoch  120 |  loss:  1.6747896671295166\n",
            "Epoch  121 |  loss:  1.6290949583053589\n",
            "Epoch  122 |  loss:  1.6684740781784058\n",
            "Epoch  123 |  loss:  1.600093960762024\n",
            "Epoch  124 |  loss:  1.7321594953536987\n",
            "Epoch  125 |  loss:  1.703872561454773\n",
            "Epoch  126 |  loss:  1.6633104085922241\n",
            "Epoch  127 |  loss:  1.662819504737854\n",
            "Epoch  128 |  loss:  1.6684813499450684\n",
            "Epoch  129 |  loss:  1.7029104232788086\n",
            "Epoch  130 |  loss:  1.6509928703308105\n",
            "Epoch  131 |  loss:  1.668595314025879\n",
            "Epoch  132 |  loss:  1.6680618524551392\n",
            "Epoch  133 |  loss:  1.6616796255111694\n",
            "Epoch  134 |  loss:  1.6556382179260254\n",
            "Epoch  135 |  loss:  1.6628364324569702\n",
            "Epoch  136 |  loss:  1.662729263305664\n",
            "Epoch  137 |  loss:  1.6328089237213135\n",
            "Epoch  138 |  loss:  1.6894255876541138\n",
            "Epoch  139 |  loss:  1.6559159755706787\n",
            "Epoch  140 |  loss:  1.6620680093765259\n",
            "Epoch  141 |  loss:  1.6721463203430176\n",
            "Epoch  142 |  loss:  1.6500293016433716\n",
            "Epoch  143 |  loss:  1.7245837450027466\n",
            "Epoch  144 |  loss:  1.6045448780059814\n",
            "Epoch  145 |  loss:  1.7317829132080078\n",
            "Epoch  146 |  loss:  1.6854428052902222\n",
            "Epoch  147 |  loss:  1.6441353559494019\n",
            "Epoch  148 |  loss:  1.6627634763717651\n",
            "Epoch  149 |  loss:  1.6852999925613403\n",
            "Epoch  150 |  loss:  1.7082064151763916\n",
            "Epoch  151 |  loss:  1.7598150968551636\n",
            "Epoch  152 |  loss:  1.683872103691101\n",
            "Epoch  153 |  loss:  1.7300431728363037\n",
            "Epoch  154 |  loss:  1.6956372261047363\n",
            "Epoch  155 |  loss:  1.6902096271514893\n",
            "Epoch  156 |  loss:  1.706728458404541\n",
            "Epoch  157 |  loss:  1.7134813070297241\n",
            "Epoch  158 |  loss:  1.7232446670532227\n",
            "Epoch  159 |  loss:  1.662348747253418\n",
            "Epoch  160 |  loss:  1.7170586585998535\n",
            "Epoch  161 |  loss:  1.7418010234832764\n",
            "Epoch  162 |  loss:  1.6844252347946167\n",
            "Epoch  163 |  loss:  1.6496891975402832\n",
            "Epoch  164 |  loss:  1.673088550567627\n",
            "Epoch  165 |  loss:  1.6432642936706543\n",
            "Epoch  166 |  loss:  1.6719284057617188\n",
            "Epoch  167 |  loss:  1.6950080394744873\n",
            "Epoch  168 |  loss:  1.70847487449646\n",
            "Epoch  169 |  loss:  1.6678078174591064\n",
            "Epoch  170 |  loss:  1.633642554283142\n",
            "Epoch  171 |  loss:  1.6952383518218994\n",
            "Epoch  172 |  loss:  1.6409093141555786\n",
            "Epoch  173 |  loss:  1.6778597831726074\n",
            "Epoch  174 |  loss:  1.6876329183578491\n",
            "Epoch  175 |  loss:  1.622757911682129\n",
            "Epoch  176 |  loss:  1.6332626342773438\n",
            "Epoch  177 |  loss:  1.6216721534729004\n",
            "Epoch  178 |  loss:  1.6073167324066162\n",
            "Epoch  179 |  loss:  1.613005518913269\n",
            "Epoch  180 |  loss:  1.6612093448638916\n",
            "Epoch  181 |  loss:  1.6322832107543945\n",
            "Epoch  182 |  loss:  1.627111792564392\n",
            "Epoch  183 |  loss:  1.6243466138839722\n",
            "Epoch  184 |  loss:  1.60476553440094\n",
            "Epoch  185 |  loss:  1.673220157623291\n",
            "Epoch  186 |  loss:  1.5786675214767456\n",
            "Epoch  187 |  loss:  1.6026571989059448\n",
            "Epoch  188 |  loss:  1.641379952430725\n",
            "Epoch  189 |  loss:  1.6045383214950562\n",
            "Epoch  190 |  loss:  1.6494122743606567\n",
            "Epoch  191 |  loss:  1.5871223211288452\n",
            "Epoch  192 |  loss:  1.5636380910873413\n",
            "Epoch  193 |  loss:  1.5565730333328247\n",
            "Epoch  194 |  loss:  1.5871493816375732\n",
            "Epoch  195 |  loss:  1.586453914642334\n",
            "Epoch  196 |  loss:  1.5388662815093994\n",
            "Epoch  197 |  loss:  1.5600942373275757\n",
            "Epoch  198 |  loss:  1.5695217847824097\n",
            "Epoch  199 |  loss:  1.5302393436431885\n",
            "Epoch  200 |  loss:  1.5456221103668213\n",
            "Epoch  201 |  loss:  1.521738052368164\n",
            "Epoch  202 |  loss:  1.5719760656356812\n",
            "Epoch  203 |  loss:  1.5798226594924927\n",
            "Epoch  204 |  loss:  1.5865442752838135\n",
            "Epoch  205 |  loss:  1.561609148979187\n",
            "Epoch  206 |  loss:  1.5623010396957397\n",
            "Epoch  207 |  loss:  1.5347832441329956\n",
            "Epoch  208 |  loss:  1.54826819896698\n",
            "Epoch  209 |  loss:  1.5227091312408447\n",
            "Epoch  210 |  loss:  1.5583827495574951\n",
            "Epoch  211 |  loss:  1.5305202007293701\n",
            "Epoch  212 |  loss:  1.5623701810836792\n",
            "Epoch  213 |  loss:  1.5490425825119019\n",
            "Epoch  214 |  loss:  1.5180002450942993\n",
            "Epoch  215 |  loss:  1.548618197441101\n",
            "Epoch  216 |  loss:  1.5700348615646362\n",
            "Epoch  217 |  loss:  1.5362629890441895\n",
            "Epoch  218 |  loss:  1.5466691255569458\n",
            "Epoch  219 |  loss:  1.5503408908843994\n",
            "Epoch  220 |  loss:  1.525460124015808\n",
            "Epoch  221 |  loss:  1.5396806001663208\n",
            "Epoch  222 |  loss:  1.5237975120544434\n",
            "Epoch  223 |  loss:  1.5560693740844727\n",
            "Epoch  224 |  loss:  1.5188905000686646\n",
            "Epoch  225 |  loss:  1.5439521074295044\n",
            "Epoch  226 |  loss:  1.50446617603302\n",
            "Epoch  227 |  loss:  1.5470654964447021\n",
            "Epoch  228 |  loss:  1.5338720083236694\n",
            "Epoch  229 |  loss:  1.5420701503753662\n",
            "Epoch  230 |  loss:  1.5130226612091064\n",
            "Epoch  231 |  loss:  1.5075571537017822\n",
            "Epoch  232 |  loss:  1.4962221384048462\n",
            "Epoch  233 |  loss:  1.54569411277771\n",
            "Epoch  234 |  loss:  1.4784984588623047\n",
            "Epoch  235 |  loss:  1.4967148303985596\n",
            "Epoch  236 |  loss:  1.5418882369995117\n",
            "Epoch  237 |  loss:  1.5074084997177124\n",
            "Epoch  238 |  loss:  1.5356663465499878\n",
            "Epoch  239 |  loss:  1.542105793952942\n",
            "Epoch  240 |  loss:  1.553298830986023\n",
            "Epoch  241 |  loss:  1.5090888738632202\n",
            "Epoch  242 |  loss:  1.5362515449523926\n",
            "Epoch  243 |  loss:  1.5407297611236572\n",
            "Epoch  244 |  loss:  1.5303224325180054\n",
            "Epoch  245 |  loss:  1.536340594291687\n",
            "Epoch  246 |  loss:  1.5239450931549072\n",
            "Epoch  247 |  loss:  1.520261526107788\n",
            "Epoch  248 |  loss:  1.5028488636016846\n",
            "Epoch  249 |  loss:  1.512697696685791\n",
            "Epoch  250 |  loss:  1.501561164855957\n",
            "Epoch  251 |  loss:  1.4973458051681519\n",
            "Epoch  252 |  loss:  1.5045740604400635\n",
            "Epoch  253 |  loss:  1.5192312002182007\n",
            "Epoch  254 |  loss:  1.551414132118225\n",
            "Epoch  255 |  loss:  1.522025227546692\n",
            "Epoch  256 |  loss:  1.4902204275131226\n",
            "Epoch  257 |  loss:  1.5033113956451416\n",
            "Epoch  258 |  loss:  1.5298138856887817\n",
            "Epoch  259 |  loss:  1.5190277099609375\n",
            "Epoch  260 |  loss:  1.5013072490692139\n",
            "Epoch  261 |  loss:  1.539551854133606\n",
            "Epoch  262 |  loss:  1.5324480533599854\n",
            "Epoch  263 |  loss:  1.524832844734192\n",
            "Epoch  264 |  loss:  1.5558146238327026\n",
            "Epoch  265 |  loss:  1.5004427433013916\n",
            "Epoch  266 |  loss:  1.5307059288024902\n",
            "Epoch  267 |  loss:  1.5589137077331543\n",
            "Epoch  268 |  loss:  1.5115255117416382\n",
            "Epoch  269 |  loss:  1.4921518564224243\n",
            "Epoch  270 |  loss:  1.5093410015106201\n",
            "Epoch  271 |  loss:  1.4958148002624512\n",
            "Epoch  272 |  loss:  1.5524425506591797\n",
            "Epoch  273 |  loss:  1.5140693187713623\n",
            "Epoch  274 |  loss:  1.5329874753952026\n",
            "Epoch  275 |  loss:  1.5611367225646973\n",
            "Epoch  276 |  loss:  1.5691580772399902\n",
            "Epoch  277 |  loss:  1.5648407936096191\n",
            "Epoch  278 |  loss:  1.5173194408416748\n",
            "Epoch  279 |  loss:  1.5252918004989624\n",
            "Epoch  280 |  loss:  1.4882433414459229\n",
            "Epoch  281 |  loss:  1.5232055187225342\n",
            "Epoch  282 |  loss:  1.4904447793960571\n",
            "Epoch  283 |  loss:  1.5157511234283447\n",
            "Epoch  284 |  loss:  1.504177212715149\n",
            "Epoch  285 |  loss:  1.4980347156524658\n",
            "Epoch  286 |  loss:  1.490631103515625\n",
            "Epoch  287 |  loss:  1.5175837278366089\n",
            "Epoch  288 |  loss:  1.5144236087799072\n",
            "Epoch  289 |  loss:  1.5101546049118042\n",
            "Epoch  290 |  loss:  1.5303510427474976\n",
            "Epoch  291 |  loss:  1.5053874254226685\n",
            "Epoch  292 |  loss:  1.529254674911499\n",
            "Epoch  293 |  loss:  1.5245164632797241\n",
            "Epoch  294 |  loss:  1.5086243152618408\n",
            "Epoch  295 |  loss:  1.510830044746399\n",
            "Epoch  296 |  loss:  1.490839958190918\n",
            "Epoch  297 |  loss:  1.4786527156829834\n",
            "Epoch  298 |  loss:  1.49832022190094\n",
            "Epoch  299 |  loss:  1.4983781576156616\n",
            "Epoch  300 |  loss:  1.5261235237121582\n"
          ]
        },
        {
          "output_type": "execute_result",
          "data": {
            "text/plain": [
              "Text(0, 0.5, 'cost')"
            ]
          },
          "metadata": {},
          "execution_count": 41
        },
        {
          "output_type": "display_data",
          "data": {
            "text/plain": [
              "<Figure size 1008x432 with 1 Axes>"
            ],
            "image/png": "[encoded data removed]"
          },
          "metadata": {
            "needs_background": "light"
          }
        }
      ],
      "source": [
        "# loss inicial\n",
        "for X_batch,y_batch in train_dataloader:\n",
        "    \n",
        "    y_pred = model(X_batch.float())\n",
        "    loss = loss_fn(y_pred, y_batch.float())\n",
        "    break\n",
        "\n",
        "loss_list = [loss.item()]\n",
        "print (\"Epoch \",0,\"|  loss: \", loss.item())\n",
        "optimizer.zero_grad() # Zero gradients\n",
        "\n",
        "for epoch in range(1, epochs+1):\n",
        "    for X_batch,y_batch in train_dataloader:\n",
        "        y_pred = model(X_batch.float())            # prediction\n",
        "\n",
        "        loss = loss_fn(y_pred, y_batch.float())     # loss calculation\n",
        "        \n",
        "        optimizer.zero_grad() # Zero gradients\n",
        "        loss.backward()       # Gradients\n",
        "        optimizer.step()      # Update\n",
        "\n",
        "    print (\"Epoch \",epoch,\"|  loss: \", loss.item())\n",
        "        \n",
        "    \n",
        "    loss_list.append(loss.item())\n",
        "\n",
        "plt.figure(figsize = (14,6))\n",
        "plt.title(\"cost decay\")\n",
        "plt.plot(loss_list)\n",
        "plt.xlabel(\"epoch\")\n",
        "plt.ylabel(\"cost\")"
      ]
    },
    {
      "cell_type": "markdown",
      "metadata": {
        "id": "evKGwUclEC6M"
      },
      "source": [
        "### evaluation"
      ]
    },
    {
      "cell_type": "code",
      "execution_count": null,
      "metadata": {
        "id": "xNSlDWNgEC6M"
      },
      "outputs": [],
      "source": [
        "from sklearn.metrics import classification_report"
      ]
    },
    {
      "cell_type": "code",
      "source": [
        "X_train.shape"
      ],
      "metadata": {
        "id": "3suXdRcJEC6M",
        "colab": {
          "base_uri": "https://localhost:8080/"
        },
        "outputId": "539413e7-6e0e-44fd-fe7a-6f5d7bb43010"
      },
      "execution_count": null,
      "outputs": [
        {
          "output_type": "execute_result",
          "data": {
            "text/plain": [
              "(2733, 257, 257)"
            ]
          },
          "metadata": {},
          "execution_count": 43
        }
      ]
    },
    {
      "cell_type": "code",
      "execution_count": null,
      "metadata": {
        "id": "-3xZTo31EC6N",
        "colab": {
          "base_uri": "https://localhost:8080/"
        },
        "outputId": "475709f3-4606-4beb-ea08-f8df4a9f9e61"
      },
      "outputs": [
        {
          "output_type": "stream",
          "name": "stderr",
          "text": [
            "/usr/local/lib/python3.7/dist-packages/ipykernel_launcher.py:61: UserWarning: Implicit dimension choice for softmax has been deprecated. Change the call to include dim=X as an argument.\n"
          ]
        },
        {
          "output_type": "stream",
          "name": "stdout",
          "text": [
            "[[6]\n",
            " [4]\n",
            " [0]\n",
            " ...\n",
            " [4]\n",
            " [9]\n",
            " [4]]\n",
            "training set\n",
            "              precision    recall  f1-score   support\n",
            "\n",
            "           0       0.99      0.95      0.97       314\n",
            "           1       0.95      0.99      0.97       505\n",
            "           2       0.85      0.95      0.90       311\n",
            "           3       0.99      0.99      0.99       250\n",
            "           4       0.95      0.98      0.96       361\n",
            "           5       0.97      0.98      0.97       142\n",
            "           6       0.91      0.44      0.59       121\n",
            "           7       0.99      1.00      1.00       256\n",
            "           8       1.00      1.00      1.00       253\n",
            "           9       1.00      1.00      1.00       220\n",
            "\n",
            "    accuracy                           0.96      2733\n",
            "   macro avg       0.96      0.93      0.93      2733\n",
            "weighted avg       0.96      0.96      0.95      2733\n",
            "\n",
            "----------------------------------------------------------------------------------------------------\n"
          ]
        }
      ],
      "source": [
        "with torch.no_grad():\n",
        "    preds = []\n",
        "\n",
        "    model.to('cpu')\n",
        "    for X_sample,y_sample in Dataset_desc(torch.tensor(X_train.reshape(-1,1,257,257)),y_train):\n",
        "       \n",
        "        y_pred = model(X_sample.reshape(-1,1,257,257).float())\n",
        "        y_pred = y_pred.argmax(axis = 1)\n",
        "        preds.append(y_pred.detach().numpy())\n",
        "   \n",
        "    y_pred = np.array(preds)\n",
        "    \n",
        "    print(y_pred)\n",
        "    print(\"training set\")\n",
        "    print(classification_report(y_train,y_pred))\n",
        "\n",
        "    print(\"-\"*100)\n",
        "    "
      ]
    },
    {
      "cell_type": "code",
      "execution_count": null,
      "metadata": {
        "id": "mdQ4r1eNEC6N",
        "colab": {
          "base_uri": "https://localhost:8080/"
        },
        "outputId": "27465397-3f2a-4e34-cbf9-fe6067aa5c3c"
      },
      "outputs": [
        {
          "output_type": "stream",
          "name": "stdout",
          "text": [
            "test set\n",
            "              precision    recall  f1-score   support\n",
            "\n",
            "           0       0.76      0.69      0.72       102\n",
            "           1       0.86      0.91      0.88       160\n",
            "           2       0.72      0.69      0.70       103\n",
            "           3       0.92      0.87      0.89        90\n",
            "           4       0.68      0.74      0.71       102\n",
            "           5       0.78      0.96      0.86        51\n",
            "           6       0.27      0.25      0.26        40\n",
            "           7       0.97      0.94      0.95        95\n",
            "           8       0.99      0.96      0.97        92\n",
            "           9       1.00      0.97      0.99        76\n",
            "\n",
            "    accuracy                           0.82       911\n",
            "   macro avg       0.79      0.80      0.79       911\n",
            "weighted avg       0.82      0.82      0.82       911\n",
            "\n",
            "----------------------------------------------------------------------------------------------------\n"
          ]
        },
        {
          "output_type": "stream",
          "name": "stderr",
          "text": [
            "/usr/local/lib/python3.7/dist-packages/ipykernel_launcher.py:61: UserWarning: Implicit dimension choice for softmax has been deprecated. Change the call to include dim=X as an argument.\n"
          ]
        }
      ],
      "source": [
        "with torch.no_grad():\n",
        "    \n",
        "    y_pred = model(torch.tensor(X_test.reshape(-1,1,257,257)))\n",
        "    y_pred = y_pred.argmax(axis = 1)\n",
        "\n",
        "    print(\"test set\")\n",
        "    print(classification_report(y_test,y_pred))\n",
        "\n",
        "    print(\"-\"*100)\n",
        "    "
      ]
    },
    {
      "cell_type": "markdown",
      "source": [
        "## balance dataset"
      ],
      "metadata": {
        "id": "5eWtHB-BYkrX"
      }
    },
    {
      "cell_type": "markdown",
      "source": [
        "### balanceando"
      ],
      "metadata": {
        "id": "afn09DulYyMk"
      }
    },
    {
      "cell_type": "code",
      "source": [
        "np.unique(y_train,return_counts = True)"
      ],
      "metadata": {
        "colab": {
          "base_uri": "https://localhost:8080/"
        },
        "id": "oq1F1DEjWTmV",
        "outputId": "4c99a8cb-3662-4a19-93ce-8c0068436fc6"
      },
      "execution_count": null,
      "outputs": [
        {
          "output_type": "execute_result",
          "data": {
            "text/plain": [
              "(array([0, 1, 2, 3, 4, 5, 6, 7, 8, 9]),\n",
              " array([312, 499, 320, 244, 343, 150, 127, 267, 254, 217]))"
            ]
          },
          "metadata": {},
          "execution_count": 40
        }
      ]
    },
    {
      "cell_type": "code",
      "source": [
        "X_train = np.vstack([X_train,X_train[y_train == 5],X_train[y_train == 6]])\n",
        "y_train = np.hstack([y_train,150*[5],127*[6]])"
      ],
      "metadata": {
        "id": "mcTkcPd2WwEo"
      },
      "execution_count": null,
      "outputs": []
    },
    {
      "cell_type": "code",
      "source": [
        "np.unique(y_train,return_counts = True)"
      ],
      "metadata": {
        "colab": {
          "base_uri": "https://localhost:8080/"
        },
        "id": "QsZ3SEd9beUW",
        "outputId": "d46e3f08-aeb9-4732-86f7-b5fef4bd32dc"
      },
      "execution_count": null,
      "outputs": [
        {
          "output_type": "execute_result",
          "data": {
            "text/plain": [
              "(array([0, 1, 2, 3, 4, 5, 6, 7, 8, 9]),\n",
              " array([312, 499, 320, 244, 343, 300, 254, 267, 254, 217]))"
            ]
          },
          "metadata": {},
          "execution_count": 64
        }
      ]
    },
    {
      "cell_type": "code",
      "source": [
        "X_train = np.vstack([\n",
        "           X_train[y_train != 1],\n",
        "           X_train[y_train == 1][:300],\n",
        "           X_train[y_train == 9][:100]\n",
        "        ])\n",
        "\n",
        "y_train = np.hstack([\n",
        "    y_train[y_train != 1],\n",
        "    300*[1],\n",
        "    100*[9]\n",
        "])"
      ],
      "metadata": {
        "id": "hV1kCItzb9uC"
      },
      "execution_count": null,
      "outputs": []
    },
    {
      "cell_type": "code",
      "source": [
        "train_dataloader = DataLoader(Dataset_desc(torch.tensor(X_train.reshape(-1,1,257,257 )).cuda(),\n",
        "                                           F.one_hot(torch.tensor(y_train).long().cuda())\n",
        "                                           ),\n",
        "                            batch_size = 512,\n",
        "                            shuffle=True)\n",
        "test_dataloader  = DataLoader(Dataset_desc(torch.tensor(X_test.reshape(-1,1,257,257 )).cuda(),\n",
        "                                            F.one_hot(torch.tensor(y_test).long().cuda()))\n",
        "                             )"
      ],
      "metadata": {
        "id": "iNZhk8AOZLyp"
      },
      "execution_count": null,
      "outputs": []
    },
    {
      "cell_type": "markdown",
      "source": [
        "### treino"
      ],
      "metadata": {
        "id": "4pDheFaOY0T-"
      }
    },
    {
      "cell_type": "code",
      "source": [
        "num_classes = 10"
      ],
      "metadata": {
        "id": "gR3Y6o8BYwV5"
      },
      "execution_count": null,
      "outputs": []
    },
    {
      "cell_type": "code",
      "execution_count": null,
      "metadata": {
        "id": "t5AVRPfyYwV8"
      },
      "outputs": [],
      "source": [
        "model = BigNet(num_classes)\n",
        "optimizer = torch.optim.Adam(model.parameters(), lr=1e-3)\n",
        "loss_fn = nn.CrossEntropyLoss()\n",
        "epochs = 200\n",
        "\n"
      ]
    },
    {
      "cell_type": "code",
      "source": [
        "if torch.cuda.is_available():\n",
        "    model.to('cuda')"
      ],
      "metadata": {
        "id": "1L_iNcHNYwV9"
      },
      "execution_count": null,
      "outputs": []
    },
    {
      "cell_type": "code",
      "execution_count": null,
      "metadata": {
        "colab": {
          "base_uri": "https://localhost:8080/",
          "height": 1000
        },
        "outputId": "3bd40d0a-03d7-42bd-8327-fb970c346fc0",
        "id": "9ghIXi4pYwV-"
      },
      "outputs": [
        {
          "output_type": "stream",
          "name": "stderr",
          "text": [
            "/usr/local/lib/python3.7/dist-packages/ipykernel_launcher.py:61: UserWarning: Implicit dimension choice for softmax has been deprecated. Change the call to include dim=X as an argument.\n"
          ]
        },
        {
          "output_type": "stream",
          "name": "stdout",
          "text": [
            "Epoch  0 |  loss:  2.301652431488037\n",
            "Epoch  1 |  loss:  2.301739454269409\n",
            "Epoch  2 |  loss:  2.2999086380004883\n",
            "Epoch  3 |  loss:  2.274392604827881\n",
            "Epoch  4 |  loss:  2.205559730529785\n",
            "Epoch  5 |  loss:  2.249612331390381\n",
            "Epoch  6 |  loss:  2.2962327003479004\n",
            "Epoch  7 |  loss:  2.216539144515991\n",
            "Epoch  8 |  loss:  2.193279981613159\n",
            "Epoch  9 |  loss:  2.157048463821411\n",
            "Epoch  10 |  loss:  2.16434383392334\n",
            "Epoch  11 |  loss:  2.140077829360962\n",
            "Epoch  12 |  loss:  2.1678285598754883\n",
            "Epoch  13 |  loss:  2.127864122390747\n",
            "Epoch  14 |  loss:  2.127804756164551\n",
            "Epoch  15 |  loss:  2.1180543899536133\n",
            "Epoch  16 |  loss:  2.166598081588745\n",
            "Epoch  17 |  loss:  2.1235108375549316\n",
            "Epoch  18 |  loss:  2.140216588973999\n",
            "Epoch  19 |  loss:  2.109077215194702\n",
            "Epoch  20 |  loss:  2.0986292362213135\n",
            "Epoch  21 |  loss:  2.120089292526245\n",
            "Epoch  22 |  loss:  2.114777088165283\n",
            "Epoch  23 |  loss:  2.0612847805023193\n",
            "Epoch  24 |  loss:  2.079281806945801\n",
            "Epoch  25 |  loss:  2.0867881774902344\n",
            "Epoch  26 |  loss:  2.0968730449676514\n",
            "Epoch  27 |  loss:  2.0705626010894775\n",
            "Epoch  28 |  loss:  2.0208241939544678\n",
            "Epoch  29 |  loss:  2.064277410507202\n",
            "Epoch  30 |  loss:  2.0863001346588135\n",
            "Epoch  31 |  loss:  2.0286598205566406\n",
            "Epoch  32 |  loss:  2.0253748893737793\n",
            "Epoch  33 |  loss:  2.0130562782287598\n",
            "Epoch  34 |  loss:  2.0035791397094727\n",
            "Epoch  35 |  loss:  1.9601622819900513\n",
            "Epoch  36 |  loss:  2.0107040405273438\n",
            "Epoch  37 |  loss:  2.0106728076934814\n",
            "Epoch  38 |  loss:  1.9816535711288452\n",
            "Epoch  39 |  loss:  1.974501609802246\n",
            "Epoch  40 |  loss:  1.975685954093933\n",
            "Epoch  41 |  loss:  1.9654490947723389\n",
            "Epoch  42 |  loss:  1.9381815195083618\n",
            "Epoch  43 |  loss:  1.9254992008209229\n",
            "Epoch  44 |  loss:  1.943779706954956\n",
            "Epoch  45 |  loss:  1.9294097423553467\n",
            "Epoch  46 |  loss:  1.9044523239135742\n",
            "Epoch  47 |  loss:  1.8810280561447144\n",
            "Epoch  48 |  loss:  1.977217674255371\n",
            "Epoch  49 |  loss:  1.9327399730682373\n",
            "Epoch  50 |  loss:  1.8716875314712524\n",
            "Epoch  51 |  loss:  1.8519036769866943\n",
            "Epoch  52 |  loss:  1.8888744115829468\n",
            "Epoch  53 |  loss:  1.8703515529632568\n",
            "Epoch  54 |  loss:  1.9065699577331543\n",
            "Epoch  55 |  loss:  1.8386915922164917\n",
            "Epoch  56 |  loss:  1.8675988912582397\n",
            "Epoch  57 |  loss:  1.868939995765686\n",
            "Epoch  58 |  loss:  1.828757405281067\n",
            "Epoch  59 |  loss:  1.870503544807434\n",
            "Epoch  60 |  loss:  1.8577237129211426\n",
            "Epoch  61 |  loss:  1.8011966943740845\n",
            "Epoch  62 |  loss:  1.8018912076950073\n",
            "Epoch  63 |  loss:  1.8074898719787598\n",
            "Epoch  64 |  loss:  1.7848522663116455\n",
            "Epoch  65 |  loss:  1.7665239572525024\n",
            "Epoch  66 |  loss:  1.7746412754058838\n",
            "Epoch  67 |  loss:  1.7690892219543457\n",
            "Epoch  68 |  loss:  1.8080099821090698\n",
            "Epoch  69 |  loss:  1.7865278720855713\n",
            "Epoch  70 |  loss:  1.7822126150131226\n",
            "Epoch  71 |  loss:  1.810524582862854\n",
            "Epoch  72 |  loss:  1.7598828077316284\n",
            "Epoch  73 |  loss:  1.7826883792877197\n",
            "Epoch  74 |  loss:  1.7570481300354004\n",
            "Epoch  75 |  loss:  1.7450038194656372\n",
            "Epoch  76 |  loss:  1.70706307888031\n",
            "Epoch  77 |  loss:  1.7015655040740967\n",
            "Epoch  78 |  loss:  1.708046793937683\n",
            "Epoch  79 |  loss:  1.670314908027649\n",
            "Epoch  80 |  loss:  1.7271369695663452\n",
            "Epoch  81 |  loss:  1.7070198059082031\n",
            "Epoch  82 |  loss:  1.7154189348220825\n",
            "Epoch  83 |  loss:  1.6962568759918213\n",
            "Epoch  84 |  loss:  1.6862000226974487\n",
            "Epoch  85 |  loss:  1.7030613422393799\n",
            "Epoch  86 |  loss:  1.7542237043380737\n",
            "Epoch  87 |  loss:  1.7116327285766602\n",
            "Epoch  88 |  loss:  1.6797640323638916\n",
            "Epoch  89 |  loss:  1.683935284614563\n",
            "Epoch  90 |  loss:  1.6630696058273315\n",
            "Epoch  91 |  loss:  1.661176323890686\n",
            "Epoch  92 |  loss:  1.7121672630310059\n",
            "Epoch  93 |  loss:  1.659963607788086\n",
            "Epoch  94 |  loss:  1.6806318759918213\n",
            "Epoch  95 |  loss:  1.6968891620635986\n",
            "Epoch  96 |  loss:  1.6420912742614746\n",
            "Epoch  97 |  loss:  1.6818970441818237\n",
            "Epoch  98 |  loss:  1.685600757598877\n",
            "Epoch  99 |  loss:  1.7201564311981201\n",
            "Epoch  100 |  loss:  1.6762152910232544\n",
            "Epoch  101 |  loss:  1.668223261833191\n",
            "Epoch  102 |  loss:  1.7015031576156616\n",
            "Epoch  103 |  loss:  1.6990422010421753\n",
            "Epoch  104 |  loss:  1.7316830158233643\n",
            "Epoch  105 |  loss:  1.7613469362258911\n",
            "Epoch  106 |  loss:  1.6711866855621338\n",
            "Epoch  107 |  loss:  1.6988598108291626\n",
            "Epoch  108 |  loss:  1.6784945726394653\n",
            "Epoch  109 |  loss:  1.6723592281341553\n",
            "Epoch  110 |  loss:  1.696235179901123\n",
            "Epoch  111 |  loss:  1.6748676300048828\n",
            "Epoch  112 |  loss:  1.6439318656921387\n",
            "Epoch  113 |  loss:  1.685024380683899\n",
            "Epoch  114 |  loss:  1.6707820892333984\n",
            "Epoch  115 |  loss:  1.6694464683532715\n",
            "Epoch  116 |  loss:  1.6842159032821655\n",
            "Epoch  117 |  loss:  1.6487668752670288\n",
            "Epoch  118 |  loss:  1.6488234996795654\n",
            "Epoch  119 |  loss:  1.6487911939620972\n",
            "Epoch  120 |  loss:  1.6608904600143433\n",
            "Epoch  121 |  loss:  1.6758164167404175\n",
            "Epoch  122 |  loss:  1.602990984916687\n",
            "Epoch  123 |  loss:  1.689359188079834\n",
            "Epoch  124 |  loss:  1.6647554636001587\n",
            "Epoch  125 |  loss:  1.6110285520553589\n",
            "Epoch  126 |  loss:  1.6618846654891968\n",
            "Epoch  127 |  loss:  1.669490933418274\n",
            "Epoch  128 |  loss:  1.6730536222457886\n",
            "Epoch  129 |  loss:  1.6505244970321655\n",
            "Epoch  130 |  loss:  1.6468005180358887\n",
            "Epoch  131 |  loss:  1.671335220336914\n",
            "Epoch  132 |  loss:  1.617997169494629\n",
            "Epoch  133 |  loss:  1.67741060256958\n",
            "Epoch  134 |  loss:  1.6137124300003052\n",
            "Epoch  135 |  loss:  1.674935221672058\n",
            "Epoch  136 |  loss:  1.6810458898544312\n",
            "Epoch  137 |  loss:  1.6592402458190918\n",
            "Epoch  138 |  loss:  1.6453280448913574\n",
            "Epoch  139 |  loss:  1.6477789878845215\n",
            "Epoch  140 |  loss:  1.66276216506958\n",
            "Epoch  141 |  loss:  1.697785496711731\n",
            "Epoch  142 |  loss:  1.6631829738616943\n",
            "Epoch  143 |  loss:  1.6612309217453003\n",
            "Epoch  144 |  loss:  1.6810567378997803\n",
            "Epoch  145 |  loss:  1.709107518196106\n",
            "Epoch  146 |  loss:  1.6409187316894531\n",
            "Epoch  147 |  loss:  1.6554375886917114\n",
            "Epoch  148 |  loss:  1.6638520956039429\n",
            "Epoch  149 |  loss:  1.6533207893371582\n",
            "Epoch  150 |  loss:  1.6768954992294312\n",
            "Epoch  151 |  loss:  1.672324299812317\n",
            "Epoch  152 |  loss:  1.6356630325317383\n",
            "Epoch  153 |  loss:  1.6162196397781372\n",
            "Epoch  154 |  loss:  1.647758960723877\n",
            "Epoch  155 |  loss:  1.6667779684066772\n",
            "Epoch  156 |  loss:  1.6819833517074585\n",
            "Epoch  157 |  loss:  1.6376501321792603\n",
            "Epoch  158 |  loss:  1.6532593965530396\n",
            "Epoch  159 |  loss:  1.6450539827346802\n",
            "Epoch  160 |  loss:  1.6300480365753174\n",
            "Epoch  161 |  loss:  1.6413613557815552\n",
            "Epoch  162 |  loss:  1.6650025844573975\n",
            "Epoch  163 |  loss:  1.6523616313934326\n",
            "Epoch  164 |  loss:  1.642311692237854\n",
            "Epoch  165 |  loss:  1.6169114112854004\n",
            "Epoch  166 |  loss:  1.644728422164917\n",
            "Epoch  167 |  loss:  1.637069821357727\n",
            "Epoch  168 |  loss:  1.5803768634796143\n",
            "Epoch  169 |  loss:  1.5839954614639282\n",
            "Epoch  170 |  loss:  1.5690356492996216\n",
            "Epoch  171 |  loss:  1.575736403465271\n",
            "Epoch  172 |  loss:  1.597098708152771\n",
            "Epoch  173 |  loss:  1.6005079746246338\n",
            "Epoch  174 |  loss:  1.6486021280288696\n",
            "Epoch  175 |  loss:  1.596004605293274\n",
            "Epoch  176 |  loss:  1.6231143474578857\n",
            "Epoch  177 |  loss:  1.6214022636413574\n",
            "Epoch  178 |  loss:  1.6096885204315186\n",
            "Epoch  179 |  loss:  1.6033637523651123\n",
            "Epoch  180 |  loss:  1.6042859554290771\n",
            "Epoch  181 |  loss:  1.5566819906234741\n",
            "Epoch  182 |  loss:  1.5782452821731567\n",
            "Epoch  183 |  loss:  1.5977386236190796\n",
            "Epoch  184 |  loss:  1.5757752656936646\n",
            "Epoch  185 |  loss:  1.568970799446106\n",
            "Epoch  186 |  loss:  1.572373390197754\n",
            "Epoch  187 |  loss:  1.5438262224197388\n",
            "Epoch  188 |  loss:  1.5752533674240112\n",
            "Epoch  189 |  loss:  1.5715752840042114\n",
            "Epoch  190 |  loss:  1.5558222532272339\n",
            "Epoch  191 |  loss:  1.5500553846359253\n",
            "Epoch  192 |  loss:  1.5889865159988403\n",
            "Epoch  193 |  loss:  1.560547947883606\n",
            "Epoch  194 |  loss:  1.54939603805542\n",
            "Epoch  195 |  loss:  1.5604863166809082\n",
            "Epoch  196 |  loss:  1.5607693195343018\n",
            "Epoch  197 |  loss:  1.5434025526046753\n",
            "Epoch  198 |  loss:  1.5605595111846924\n",
            "Epoch  199 |  loss:  1.5825096368789673\n",
            "Epoch  200 |  loss:  1.5554938316345215\n"
          ]
        },
        {
          "output_type": "execute_result",
          "data": {
            "text/plain": [
              "Text(0, 0.5, 'cost')"
            ]
          },
          "metadata": {},
          "execution_count": 73
        },
        {
          "output_type": "display_data",
          "data": {
            "text/plain": [
              "<Figure size 1008x432 with 1 Axes>"
            ],
            "image/png": "[encoded data removed]"
          },
          "metadata": {
            "needs_background": "light"
          }
        }
      ],
      "source": [
        "# loss inicial\n",
        "for X_batch,y_batch in train_dataloader:\n",
        "    \n",
        "    y_pred = model(X_batch.float())\n",
        "    loss = loss_fn(y_pred, y_batch.float())\n",
        "    break\n",
        "\n",
        "loss_list = [loss.item()]\n",
        "print (\"Epoch \",0,\"|  loss: \", loss.item())\n",
        "optimizer.zero_grad() # Zero gradients\n",
        "\n",
        "for epoch in range(1, epochs+1):\n",
        "    for X_batch,y_batch in train_dataloader:\n",
        "        y_pred = model(X_batch.float())            # prediction\n",
        "\n",
        "        loss = loss_fn(y_pred, y_batch.float())     # loss calculation\n",
        "        \n",
        "        optimizer.zero_grad() # Zero gradients\n",
        "        loss.backward()       # Gradients\n",
        "        optimizer.step()      # Update\n",
        "\n",
        "    print (\"Epoch \",epoch,\"|  loss: \", loss.item())\n",
        "        \n",
        "    \n",
        "    loss_list.append(loss.item())\n",
        "\n",
        "plt.figure(figsize = (14,6))\n",
        "plt.title(\"cost decay\")\n",
        "plt.plot(loss_list)\n",
        "plt.xlabel(\"epoch\")\n",
        "plt.ylabel(\"cost\")"
      ]
    },
    {
      "cell_type": "markdown",
      "metadata": {
        "id": "zLY3TNRHZRmt"
      },
      "source": [
        "### evaluation"
      ]
    },
    {
      "cell_type": "code",
      "execution_count": null,
      "metadata": {
        "id": "B77Q8IsLZRmw"
      },
      "outputs": [],
      "source": [
        "from sklearn.metrics import classification_report"
      ]
    },
    {
      "cell_type": "code",
      "source": [
        "X_train.shape"
      ],
      "metadata": {
        "colab": {
          "base_uri": "https://localhost:8080/"
        },
        "outputId": "f73f7db9-a5c4-4f10-b95f-262244300d06",
        "id": "dseeVr8sZRmx"
      },
      "execution_count": null,
      "outputs": [
        {
          "output_type": "execute_result",
          "data": {
            "text/plain": [
              "(2911, 257, 257)"
            ]
          },
          "metadata": {},
          "execution_count": 76
        }
      ]
    },
    {
      "cell_type": "code",
      "execution_count": null,
      "metadata": {
        "colab": {
          "base_uri": "https://localhost:8080/"
        },
        "outputId": "cf4f24e7-68d5-4c26-c3b1-c42a022b9cff",
        "id": "1ANNiMjpZRmz"
      },
      "outputs": [
        {
          "output_type": "stream",
          "name": "stderr",
          "text": [
            "/usr/local/lib/python3.7/dist-packages/ipykernel_launcher.py:61: UserWarning: Implicit dimension choice for softmax has been deprecated. Change the call to include dim=X as an argument.\n"
          ]
        },
        {
          "output_type": "stream",
          "name": "stdout",
          "text": [
            "[[9]\n",
            " [0]\n",
            " [3]\n",
            " ...\n",
            " [9]\n",
            " [9]\n",
            " [9]]\n",
            "training set\n",
            "              precision    recall  f1-score   support\n",
            "\n",
            "           0       0.94      0.98      0.96       312\n",
            "           1       0.90      0.99      0.94       300\n",
            "           2       0.60      0.99      0.74       320\n",
            "           3       0.98      0.98      0.98       244\n",
            "           4       0.97      0.97      0.97       343\n",
            "           5       1.00      0.99      0.99       300\n",
            "           6       0.00      0.00      0.00       254\n",
            "           7       0.99      0.99      0.99       267\n",
            "           8       1.00      0.99      1.00       254\n",
            "           9       1.00      1.00      1.00       317\n",
            "\n",
            "    accuracy                           0.90      2911\n",
            "   macro avg       0.84      0.89      0.86      2911\n",
            "weighted avg       0.84      0.90      0.87      2911\n",
            "\n",
            "----------------------------------------------------------------------------------------------------\n"
          ]
        },
        {
          "output_type": "stream",
          "name": "stderr",
          "text": [
            "/usr/local/lib/python3.7/dist-packages/sklearn/metrics/_classification.py:1318: UndefinedMetricWarning: Precision and F-score are ill-defined and being set to 0.0 in labels with no predicted samples. Use `zero_division` parameter to control this behavior.\n",
            "  _warn_prf(average, modifier, msg_start, len(result))\n",
            "/usr/local/lib/python3.7/dist-packages/sklearn/metrics/_classification.py:1318: UndefinedMetricWarning: Precision and F-score are ill-defined and being set to 0.0 in labels with no predicted samples. Use `zero_division` parameter to control this behavior.\n",
            "  _warn_prf(average, modifier, msg_start, len(result))\n",
            "/usr/local/lib/python3.7/dist-packages/sklearn/metrics/_classification.py:1318: UndefinedMetricWarning: Precision and F-score are ill-defined and being set to 0.0 in labels with no predicted samples. Use `zero_division` parameter to control this behavior.\n",
            "  _warn_prf(average, modifier, msg_start, len(result))\n"
          ]
        }
      ],
      "source": [
        "with torch.no_grad():\n",
        "    preds = []\n",
        "\n",
        "    model.to('cpu')\n",
        "    for X_sample,y_sample in Dataset_desc(torch.tensor(X_train.reshape(-1,1,257,257)),y_train):\n",
        "       \n",
        "        y_pred = model(X_sample.reshape(-1,1,257,257).float())\n",
        "        y_pred = y_pred.argmax(axis = 1)\n",
        "        preds.append(y_pred.detach().numpy())\n",
        "   \n",
        "    y_pred = np.array(preds)\n",
        "    \n",
        "    print(y_pred)\n",
        "    print(\"training set\")\n",
        "    print(classification_report(y_train,y_pred))\n",
        "\n",
        "    print(\"-\"*100)\n",
        "    "
      ]
    },
    {
      "cell_type": "code",
      "execution_count": null,
      "metadata": {
        "colab": {
          "base_uri": "https://localhost:8080/"
        },
        "outputId": "738a39b6-d2df-44df-8b85-3893e80f0e47",
        "id": "b-bp7EMtZRm1"
      },
      "outputs": [
        {
          "output_type": "stream",
          "name": "stdout",
          "text": [
            "test set\n",
            "              precision    recall  f1-score   support\n",
            "\n",
            "           0       0.75      0.86      0.80       104\n",
            "           1       0.89      0.92      0.90       166\n",
            "           2       0.67      0.90      0.77        94\n",
            "           3       0.99      0.89      0.93        96\n",
            "           4       0.81      0.74      0.77       120\n",
            "           5       0.93      0.86      0.89        43\n",
            "           6       0.00      0.00      0.00        34\n",
            "           7       0.88      0.96      0.92        84\n",
            "           8       0.97      0.99      0.98        91\n",
            "           9       1.00      0.95      0.97        79\n",
            "\n",
            "    accuracy                           0.86       911\n",
            "   macro avg       0.79      0.81      0.79       911\n",
            "weighted avg       0.84      0.86      0.85       911\n",
            "\n",
            "----------------------------------------------------------------------------------------------------\n"
          ]
        },
        {
          "output_type": "stream",
          "name": "stderr",
          "text": [
            "/usr/local/lib/python3.7/dist-packages/ipykernel_launcher.py:61: UserWarning: Implicit dimension choice for softmax has been deprecated. Change the call to include dim=X as an argument.\n",
            "/usr/local/lib/python3.7/dist-packages/sklearn/metrics/_classification.py:1318: UndefinedMetricWarning: Precision and F-score are ill-defined and being set to 0.0 in labels with no predicted samples. Use `zero_division` parameter to control this behavior.\n",
            "  _warn_prf(average, modifier, msg_start, len(result))\n",
            "/usr/local/lib/python3.7/dist-packages/sklearn/metrics/_classification.py:1318: UndefinedMetricWarning: Precision and F-score are ill-defined and being set to 0.0 in labels with no predicted samples. Use `zero_division` parameter to control this behavior.\n",
            "  _warn_prf(average, modifier, msg_start, len(result))\n",
            "/usr/local/lib/python3.7/dist-packages/sklearn/metrics/_classification.py:1318: UndefinedMetricWarning: Precision and F-score are ill-defined and being set to 0.0 in labels with no predicted samples. Use `zero_division` parameter to control this behavior.\n",
            "  _warn_prf(average, modifier, msg_start, len(result))\n"
          ]
        }
      ],
      "source": [
        "with torch.no_grad():\n",
        "    \n",
        "    y_pred = model(torch.tensor(X_test.reshape(-1,1,257,257)))\n",
        "    y_pred = y_pred.argmax(axis = 1)\n",
        "\n",
        "    print(\"test set\")\n",
        "    print(classification_report(y_test,y_pred))\n",
        "\n",
        "    print(\"-\"*100)\n",
        "    "
      ]
    },
    {
      "cell_type": "code",
      "source": [
        "np.unique(y_train,return_counts = 1)"
      ],
      "metadata": {
        "colab": {
          "base_uri": "https://localhost:8080/"
        },
        "id": "Z92LeRqBewWH",
        "outputId": "6eab7353-5b03-463a-a65b-283188aa05d1"
      },
      "execution_count": null,
      "outputs": [
        {
          "output_type": "execute_result",
          "data": {
            "text/plain": [
              "(array([0, 1, 2, 3, 4, 5, 6, 7, 8, 9]),\n",
              " array([312, 300, 320, 244, 343, 300, 254, 267, 254, 317]))"
            ]
          },
          "metadata": {},
          "execution_count": 79
        }
      ]
    },
    {
      "cell_type": "code",
      "source": [],
      "metadata": {
        "id": "G-wi4YhUezPg"
      },
      "execution_count": null,
      "outputs": []
    },
    {
      "cell_type": "markdown",
      "source": [
        "## BatchNorm"
      ],
      "metadata": {
        "id": "zBy6Aqhw3sNR"
      }
    },
    {
      "cell_type": "code",
      "source": [],
      "metadata": {
        "id": "liz6jHSj3uWS"
      },
      "execution_count": null,
      "outputs": []
    },
    {
      "cell_type": "markdown",
      "source": [
        "### treino"
      ],
      "metadata": {
        "id": "8x3CBxh23u1X"
      }
    },
    {
      "cell_type": "code",
      "source": [
        "train_dataloader = DataLoader(Dataset_desc(torch.tensor(X_train.reshape(-1,1,257,257 )),\n",
        "                                           F.one_hot(torch.tensor(y_train).long())\n",
        "                                           ),\n",
        "                            batch_size = 512,\n",
        "                            shuffle=True)\n",
        "test_dataloader  = DataLoader(Dataset_desc(torch.tensor(X_test.reshape(-1,1,257,257 )),\n",
        "                                            F.one_hot(torch.tensor(y_test).long()))\n",
        "                             )"
      ],
      "metadata": {
        "id": "hTI1HOKE4BYS"
      },
      "execution_count": null,
      "outputs": []
    },
    {
      "cell_type": "code",
      "source": [
        "num_classes = 10"
      ],
      "metadata": {
        "id": "YllbVI783u1X"
      },
      "execution_count": null,
      "outputs": []
    },
    {
      "cell_type": "code",
      "execution_count": null,
      "metadata": {
        "id": "1lynYwuv3u1Y"
      },
      "outputs": [],
      "source": [
        "model = BigNet_batch(num_classes)\n",
        "optimizer = torch.optim.Adam(model.parameters(), lr=1e-3)\n",
        "loss_fn = nn.CrossEntropyLoss()\n",
        "epochs = 200\n",
        "\n"
      ]
    },
    {
      "cell_type": "code",
      "source": [
        "if torch.cuda.is_available():\n",
        "    model.to('cuda')"
      ],
      "metadata": {
        "id": "KjVoR_AI3u1Y"
      },
      "execution_count": null,
      "outputs": []
    },
    {
      "cell_type": "code",
      "execution_count": null,
      "metadata": {
        "colab": {
          "base_uri": "https://localhost:8080/"
        },
        "outputId": "330ec186-8ce9-493f-d712-3a05474ece89",
        "id": "FfsCjXOO3u1Y"
      },
      "outputs": [
        {
          "output_type": "stream",
          "name": "stderr",
          "text": [
            "/usr/local/lib/python3.7/dist-packages/ipykernel_launcher.py:64: UserWarning: Implicit dimension choice for softmax has been deprecated. Change the call to include dim=X as an argument.\n"
          ]
        },
        {
          "output_type": "stream",
          "name": "stdout",
          "text": [
            "Epoch  0 |  loss:  2.3054163455963135\n",
            "Epoch  1 |  loss:  2.2989540100097656\n",
            "Epoch  2 |  loss:  2.28641939163208\n",
            "Epoch  3 |  loss:  2.2189106941223145\n",
            "Epoch  4 |  loss:  2.1636085510253906\n",
            "Epoch  5 |  loss:  2.0637340545654297\n",
            "Epoch  6 |  loss:  2.1021127700805664\n",
            "Epoch  7 |  loss:  2.087275981903076\n",
            "Epoch  8 |  loss:  2.1005074977874756\n",
            "Epoch  9 |  loss:  2.0772287845611572\n",
            "Epoch  10 |  loss:  2.0420868396759033\n",
            "Epoch  11 |  loss:  2.0038158893585205\n",
            "Epoch  12 |  loss:  1.9667093753814697\n",
            "Epoch  13 |  loss:  2.008646011352539\n",
            "Epoch  14 |  loss:  1.9216609001159668\n",
            "Epoch  15 |  loss:  1.8438756465911865\n",
            "Epoch  16 |  loss:  1.8668150901794434\n",
            "Epoch  17 |  loss:  1.8946284055709839\n",
            "Epoch  18 |  loss:  1.8436328172683716\n",
            "Epoch  19 |  loss:  1.8730292320251465\n",
            "Epoch  20 |  loss:  1.7913271188735962\n",
            "Epoch  21 |  loss:  1.6926976442337036\n",
            "Epoch  22 |  loss:  1.7801679372787476\n",
            "Epoch  23 |  loss:  1.7522388696670532\n",
            "Epoch  24 |  loss:  1.7472320795059204\n",
            "Epoch  25 |  loss:  1.7367782592773438\n",
            "Epoch  26 |  loss:  1.7223999500274658\n",
            "Epoch  27 |  loss:  1.6659510135650635\n",
            "Epoch  28 |  loss:  1.7068063020706177\n",
            "Epoch  29 |  loss:  1.6168599128723145\n",
            "Epoch  30 |  loss:  1.7083461284637451\n",
            "Epoch  31 |  loss:  1.6527488231658936\n",
            "Epoch  32 |  loss:  1.6422747373580933\n",
            "Epoch  33 |  loss:  1.6873224973678589\n",
            "Epoch  34 |  loss:  1.6875197887420654\n",
            "Epoch  35 |  loss:  1.6623090505599976\n",
            "Epoch  36 |  loss:  1.659590721130371\n",
            "Epoch  37 |  loss:  1.7085481882095337\n",
            "Epoch  38 |  loss:  1.611401915550232\n",
            "Epoch  39 |  loss:  1.5999653339385986\n",
            "Epoch  40 |  loss:  1.6558672189712524\n",
            "Epoch  41 |  loss:  1.6447179317474365\n",
            "Epoch  42 |  loss:  1.6452019214630127\n",
            "Epoch  43 |  loss:  1.6446162462234497\n",
            "Epoch  44 |  loss:  1.6592751741409302\n",
            "Epoch  45 |  loss:  1.66408371925354\n",
            "Epoch  46 |  loss:  1.600689172744751\n",
            "Epoch  47 |  loss:  1.6174464225769043\n",
            "Epoch  48 |  loss:  1.6186881065368652\n",
            "Epoch  49 |  loss:  1.6675935983657837\n",
            "Epoch  50 |  loss:  1.6004998683929443\n",
            "Epoch  51 |  loss:  1.6271052360534668\n",
            "Epoch  52 |  loss:  1.6128709316253662\n",
            "Epoch  53 |  loss:  1.6202285289764404\n",
            "Epoch  54 |  loss:  1.6027082204818726\n",
            "Epoch  55 |  loss:  1.6318680047988892\n",
            "Epoch  56 |  loss:  1.5832207202911377\n",
            "Epoch  57 |  loss:  1.5668144226074219\n",
            "Epoch  58 |  loss:  1.6272048950195312\n",
            "Epoch  59 |  loss:  1.6572589874267578\n",
            "Epoch  60 |  loss:  1.6272130012512207\n",
            "Epoch  61 |  loss:  1.604686975479126\n",
            "Epoch  62 |  loss:  1.553537368774414\n",
            "Epoch  63 |  loss:  1.6119383573532104\n",
            "Epoch  64 |  loss:  1.6060189008712769\n",
            "Epoch  65 |  loss:  1.6163114309310913\n",
            "Epoch  66 |  loss:  1.6142898797988892\n",
            "Epoch  67 |  loss:  1.6514742374420166\n",
            "Epoch  68 |  loss:  1.5632132291793823\n",
            "Epoch  69 |  loss:  1.6287790536880493\n",
            "Epoch  70 |  loss:  1.6103792190551758\n",
            "Epoch  71 |  loss:  1.5973745584487915\n",
            "Epoch  72 |  loss:  1.6232924461364746\n",
            "Epoch  73 |  loss:  1.5763252973556519\n",
            "Epoch  74 |  loss:  1.5984481573104858\n",
            "Epoch  75 |  loss:  1.5767319202423096\n",
            "Epoch  76 |  loss:  1.5882877111434937\n",
            "Epoch  77 |  loss:  1.6157244443893433\n",
            "Epoch  78 |  loss:  1.5663337707519531\n",
            "Epoch  79 |  loss:  1.5878041982650757\n",
            "Epoch  80 |  loss:  1.6044882535934448\n",
            "Epoch  81 |  loss:  1.6024161577224731\n",
            "Epoch  82 |  loss:  1.5758155584335327\n",
            "Epoch  83 |  loss:  1.6204948425292969\n",
            "Epoch  84 |  loss:  1.5809314250946045\n",
            "Epoch  85 |  loss:  1.6155009269714355\n",
            "Epoch  86 |  loss:  1.5870139598846436\n",
            "Epoch  87 |  loss:  1.541670560836792\n",
            "Epoch  88 |  loss:  1.6145952939987183\n",
            "Epoch  89 |  loss:  1.55793035030365\n",
            "Epoch  90 |  loss:  1.6326879262924194\n",
            "Epoch  91 |  loss:  1.6597257852554321\n",
            "Epoch  92 |  loss:  1.6092720031738281\n",
            "Epoch  93 |  loss:  1.6101292371749878\n",
            "Epoch  94 |  loss:  1.5467835664749146\n",
            "Epoch  95 |  loss:  1.5473294258117676\n",
            "Epoch  96 |  loss:  1.6034995317459106\n",
            "Epoch  97 |  loss:  1.5919831991195679\n",
            "Epoch  98 |  loss:  1.6386839151382446\n",
            "Epoch  99 |  loss:  1.5804024934768677\n",
            "Epoch  100 |  loss:  1.5757254362106323\n",
            "Epoch  101 |  loss:  1.6120764017105103\n",
            "Epoch  102 |  loss:  1.5823066234588623\n",
            "Epoch  103 |  loss:  1.5706795454025269\n",
            "Epoch  104 |  loss:  1.6234623193740845\n",
            "Epoch  105 |  loss:  1.696104884147644\n",
            "Epoch  106 |  loss:  1.6021066904067993\n",
            "Epoch  107 |  loss:  1.653964877128601\n",
            "Epoch  108 |  loss:  1.618753433227539\n",
            "Epoch  109 |  loss:  1.5960760116577148\n",
            "Epoch  110 |  loss:  1.6396477222442627\n",
            "Epoch  111 |  loss:  1.6156210899353027\n",
            "Epoch  112 |  loss:  1.6134926080703735\n",
            "Epoch  113 |  loss:  1.5732301473617554\n",
            "Epoch  114 |  loss:  1.5999304056167603\n",
            "Epoch  115 |  loss:  1.5584429502487183\n",
            "Epoch  116 |  loss:  1.6045455932617188\n",
            "Epoch  117 |  loss:  1.621726632118225\n",
            "Epoch  118 |  loss:  1.6033042669296265\n",
            "Epoch  119 |  loss:  1.593361258506775\n",
            "Epoch  120 |  loss:  1.633305311203003\n",
            "Epoch  121 |  loss:  1.5711184740066528\n",
            "Epoch  122 |  loss:  1.643727421760559\n",
            "Epoch  123 |  loss:  1.5933125019073486\n",
            "Epoch  124 |  loss:  1.6212592124938965\n",
            "Epoch  125 |  loss:  1.5821882486343384\n",
            "Epoch  126 |  loss:  1.5853554010391235\n",
            "Epoch  127 |  loss:  1.599319577217102\n",
            "Epoch  128 |  loss:  1.5813679695129395\n",
            "Epoch  129 |  loss:  1.5580521821975708\n",
            "Epoch  130 |  loss:  1.56904137134552\n",
            "Epoch  131 |  loss:  1.589723825454712\n",
            "Epoch  132 |  loss:  1.6170035600662231\n",
            "Epoch  133 |  loss:  1.6183788776397705\n",
            "Epoch  134 |  loss:  1.5981402397155762\n",
            "Epoch  135 |  loss:  1.5698847770690918\n",
            "Epoch  136 |  loss:  1.60349440574646\n",
            "Epoch  137 |  loss:  1.6032063961029053\n",
            "Epoch  138 |  loss:  1.563284158706665\n",
            "Epoch  139 |  loss:  1.5969358682632446\n",
            "Epoch  140 |  loss:  1.6017988920211792\n",
            "Epoch  141 |  loss:  1.5913097858428955\n",
            "Epoch  142 |  loss:  1.6302803754806519\n",
            "Epoch  143 |  loss:  1.6414685249328613\n",
            "Epoch  144 |  loss:  1.5849355459213257\n",
            "Epoch  145 |  loss:  1.6030089855194092\n",
            "Epoch  146 |  loss:  1.5968657732009888\n",
            "Epoch  147 |  loss:  1.5404397249221802\n",
            "Epoch  148 |  loss:  1.5569539070129395\n",
            "Epoch  149 |  loss:  1.6191861629486084\n",
            "Epoch  150 |  loss:  1.55745530128479\n",
            "Epoch  151 |  loss:  1.6026724576950073\n",
            "Epoch  152 |  loss:  1.5459935665130615\n",
            "Epoch  153 |  loss:  1.603611946105957\n",
            "Epoch  154 |  loss:  1.6127763986587524\n",
            "Epoch  155 |  loss:  1.5966163873672485\n",
            "Epoch  156 |  loss:  1.5513893365859985\n",
            "Epoch  157 |  loss:  1.568241834640503\n",
            "Epoch  158 |  loss:  1.613641619682312\n"
          ]
        }
      ],
      "source": [
        "# loss inicial\n",
        "for X_batch,y_batch in train_dataloader:\n",
        "    \n",
        "    y_pred = model(X_batch.float())\n",
        "    loss = loss_fn(y_pred, y_batch.float())\n",
        "    break\n",
        "\n",
        "loss_list = [loss.item()]\n",
        "print (\"Epoch \",0,\"|  loss: \", loss.item())\n",
        "optimizer.zero_grad() # Zero gradients\n",
        "\n",
        "for epoch in range(1, epochs+1):\n",
        "    for X_batch,y_batch in train_dataloader:\n",
        "        y_pred = model(X_batch.float())            # prediction\n",
        "\n",
        "        loss = loss_fn(y_pred, y_batch.float())     # loss calculation\n",
        "        \n",
        "        optimizer.zero_grad() # Zero gradients\n",
        "        loss.backward()       # Gradients\n",
        "        optimizer.step()      # Update\n",
        "\n",
        "    print (\"Epoch \",epoch,\"|  loss: \", loss.item())\n",
        "        \n",
        "    \n",
        "    loss_list.append(loss.item())\n",
        "\n",
        "plt.figure(figsize = (14,6))\n",
        "plt.title(\"cost decay\")\n",
        "plt.plot(loss_list)\n",
        "plt.xlabel(\"epoch\")\n",
        "plt.ylabel(\"cost\")"
      ]
    },
    {
      "cell_type": "markdown",
      "metadata": {
        "id": "mtgqLdjM3u1Z"
      },
      "source": [
        "### evaluation"
      ]
    },
    {
      "cell_type": "code",
      "execution_count": null,
      "metadata": {
        "id": "GHlGlRTt3u1Z"
      },
      "outputs": [],
      "source": [
        "from sklearn.metrics import classification_report"
      ]
    },
    {
      "cell_type": "code",
      "source": [
        "X_train.shape"
      ],
      "metadata": {
        "colab": {
          "base_uri": "https://localhost:8080/"
        },
        "outputId": "f73f7db9-a5c4-4f10-b95f-262244300d06",
        "id": "nAznQGEl3u1Z"
      },
      "execution_count": null,
      "outputs": [
        {
          "output_type": "execute_result",
          "data": {
            "text/plain": [
              "(2911, 257, 257)"
            ]
          },
          "metadata": {},
          "execution_count": 76
        }
      ]
    },
    {
      "cell_type": "code",
      "execution_count": null,
      "metadata": {
        "id": "E0wdWvEk3u1a"
      },
      "outputs": [],
      "source": [
        "with torch.no_grad():\n",
        "    preds = []\n",
        "\n",
        "    model.to('cpu')\n",
        "    for X_sample,y_sample in Dataset_desc(torch.tensor(X_train.reshape(-1,1,257,257)),y_train):\n",
        "       \n",
        "        y_pred = model(X_sample.reshape(-1,1,257,257).float())\n",
        "        y_pred = y_pred.argmax(axis = 1)\n",
        "        preds.append(y_pred.detach().numpy())\n",
        "   \n",
        "    y_pred = np.array(preds)\n",
        "    \n",
        "    print(y_pred)\n",
        "    print(\"training set\")\n",
        "    print(classification_report(y_train,y_pred))\n",
        "\n",
        "    print(\"-\"*100)\n",
        "    "
      ]
    },
    {
      "cell_type": "code",
      "execution_count": null,
      "metadata": {
        "id": "ph-248z03u1a"
      },
      "outputs": [],
      "source": [
        "with torch.no_grad():\n",
        "    \n",
        "    y_pred = model(torch.tensor(X_test.reshape(-1,1,257,257)))\n",
        "    y_pred = y_pred.argmax(axis = 1)\n",
        "\n",
        "    print(\"test set\")\n",
        "    print(classification_report(y_test,y_pred))\n",
        "\n",
        "    print(\"-\"*100)\n",
        "    "
      ]
    },
    {
      "cell_type": "code",
      "source": [
        "np.unique(y_train,return_counts = 1)"
      ],
      "metadata": {
        "id": "GZY2fFyO3u1a"
      },
      "execution_count": null,
      "outputs": []
    },
    {
      "cell_type": "code",
      "source": [],
      "metadata": {
        "id": "ILlGnOzr3u1a"
      },
      "execution_count": null,
      "outputs": []
    }
  ]
}